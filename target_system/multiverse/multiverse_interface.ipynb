{
 "cells": [
  {
   "cell_type": "code",
   "execution_count": 1,
   "metadata": {},
   "outputs": [
    {
     "ename": "ModuleNotFoundError",
     "evalue": "No module named 'multivers'",
     "output_type": "error",
     "traceback": [
      "\u001b[0;31m---------------------------------------------------------------------------\u001b[0m",
      "\u001b[0;31mModuleNotFoundError\u001b[0m                       Traceback (most recent call last)",
      "\u001b[0;32m<ipython-input-1-6a4a755fc8c7>\u001b[0m in \u001b[0;36m<module>\u001b[0;34m\u001b[0m\n\u001b[1;32m      3\u001b[0m \u001b[0;32mfrom\u001b[0m \u001b[0mpathlib\u001b[0m \u001b[0;32mimport\u001b[0m \u001b[0mPath\u001b[0m\u001b[0;34m\u001b[0m\u001b[0;34m\u001b[0m\u001b[0m\n\u001b[1;32m      4\u001b[0m \u001b[0;34m\u001b[0m\u001b[0m\n\u001b[0;32m----> 5\u001b[0;31m \u001b[0;32mfrom\u001b[0m \u001b[0mmultivers\u001b[0m\u001b[0;34m.\u001b[0m\u001b[0mmodel\u001b[0m \u001b[0;32mimport\u001b[0m \u001b[0mMultiVerSModel\u001b[0m\u001b[0;34m\u001b[0m\u001b[0;34m\u001b[0m\u001b[0m\n\u001b[0m\u001b[1;32m      6\u001b[0m \u001b[0;32mfrom\u001b[0m \u001b[0mdata\u001b[0m \u001b[0;32mimport\u001b[0m \u001b[0mget_dataloader\u001b[0m\u001b[0;34m\u001b[0m\u001b[0;34m\u001b[0m\u001b[0m\n\u001b[1;32m      7\u001b[0m \u001b[0;32mimport\u001b[0m \u001b[0mutil\u001b[0m\u001b[0;34m\u001b[0m\u001b[0;34m\u001b[0m\u001b[0m\n",
      "\u001b[0;31mModuleNotFoundError\u001b[0m: No module named 'multivers'"
     ]
    }
   ],
   "source": [
    "from tqdm import tqdm\n",
    "import argparse\n",
    "from pathlib import Path\n",
    "\n",
    "from multivers.model import MultiVerSModel\n",
    "from data import get_dataloader\n",
    "import util\n",
    "\n",
    "class Predictor:\n",
    "    def __init__(self, checkpoint_path, device=0):\n",
    "        self.model = MultiVerSModel.load_from_checkpoint(checkpoint_path=checkpoint_path)\n",
    "        self.model.to(f\"cuda:{device}\")\n",
    "        self.model.eval()\n",
    "        self.model.freeze()\n",
    "        self.device = device\n",
    "        \n",
    "    def get_predictions(self, args, dataloader):\n",
    "        predictions_all = []\n",
    "\n",
    "        for batch in tqdm(dataloader):\n",
    "            preds_batch = self.model.predict(batch, args.force_rationale)\n",
    "            predictions_all.extend(preds_batch)\n",
    "\n",
    "        return predictions_all\n",
    "\n",
    "    def predict_single(self, args, instance):\n",
    "        dataloader = get_dataloader(args, [instance])\n",
    "        preds_batch = self.get_predictions(args, dataloader)\n",
    "        return preds_batch[0]\n",
    "\n",
    "predictor_singleton = None\n",
    "def get_predictor(checkpoint_path, device=0):\n",
    "    global predictor_singleton\n",
    "    if predictor_singleton is None:\n",
    "        predictor_singleton = Predictor(checkpoint_path, device)\n",
    "    return predictor_singleton\n"
   ]
  },
  {
   "cell_type": "code",
   "execution_count": 10,
   "metadata": {},
   "outputs": [
    {
     "ename": "ImportError",
     "evalue": "attempted relative import with no known parent package",
     "output_type": "error",
     "traceback": [
      "\u001b[0;31m---------------------------------------------------------------------------\u001b[0m",
      "\u001b[0;31mImportError\u001b[0m                               Traceback (most recent call last)",
      "\u001b[0;32m<ipython-input-10-954d06fc9998>\u001b[0m in \u001b[0;36m<module>\u001b[0;34m\u001b[0m\n\u001b[0;32m----> 1\u001b[0;31m \u001b[0;32mfrom\u001b[0m \u001b[0;34m...\u001b[0m\u001b[0;34m.\u001b[0m\u001b[0mmultivers\u001b[0m\u001b[0;34m.\u001b[0m\u001b[0mmultivers\u001b[0m\u001b[0;34m.\u001b[0m\u001b[0mmodel\u001b[0m \u001b[0;32mimport\u001b[0m \u001b[0mMultiVerSModel\u001b[0m\u001b[0;34m\u001b[0m\u001b[0;34m\u001b[0m\u001b[0m\n\u001b[0m",
      "\u001b[0;31mImportError\u001b[0m: attempted relative import with no known parent package"
     ]
    }
   ],
   "source": []
  },
  {
   "cell_type": "code",
   "execution_count": 9,
   "metadata": {},
   "outputs": [
    {
     "data": {
      "text/plain": [
       "['/home/qudratealahyratu/anaconda3/envs/scifact/lib/python37.zip',\n",
       " '/home/qudratealahyratu/anaconda3/envs/scifact/lib/python3.7',\n",
       " '/home/qudratealahyratu/anaconda3/envs/scifact/lib/python3.7/lib-dynload',\n",
       " '',\n",
       " '/home/qudratealahyratu/.local/lib/python3.7/site-packages',\n",
       " '/home/qudratealahyratu/anaconda3/envs/scifact/lib/python3.7/site-packages',\n",
       " '/home/qudratealahyratu/research/nlp/fact_checking/my_work/scifact',\n",
       " '/home/qudratealahyratu/research/nlp/fact_checking/my_work/SciMedAttack/ars_joint/ARSJointModel',\n",
       " '/home/qudratealahyratu/research/nlp/fact_checking/my_work/fairseq',\n",
       " '/home/qudratealahyratu/research/nlp/fact_checking/my_work/TextAttack',\n",
       " '/home/qudratealahyratu/anaconda3/envs/scifact/lib/python3.7/site-packages/biosyn-0.1-py3.7.egg',\n",
       " '/home/qudratealahyratu/research/nlp/fact_checking/existing_work/neuspell',\n",
       " '/home/qudratealahyratu/.local/lib/python3.7/site-packages/IPython/extensions',\n",
       " '/home/qudratealahyratu/.ipython',\n",
       " '/home/qudratealahyratu/research/nlp/fact_checking/my_work/multivers']"
      ]
     },
     "execution_count": 9,
     "metadata": {},
     "output_type": "execute_result"
    }
   ],
   "source": [
    "import sys\n",
    "sys.path"
   ]
  },
  {
   "cell_type": "code",
   "execution_count": 2,
   "metadata": {},
   "outputs": [
    {
     "ename": "ValueError",
     "evalue": "list.remove(x): x not in list",
     "output_type": "error",
     "traceback": [
      "\u001b[0;31m---------------------------------------------------------------------------\u001b[0m",
      "\u001b[0;31mValueError\u001b[0m                                Traceback (most recent call last)",
      "\u001b[0;32m<ipython-input-2-3d67fff6b470>\u001b[0m in \u001b[0;36m<module>\u001b[0;34m\u001b[0m\n\u001b[1;32m      1\u001b[0m \u001b[0;32mimport\u001b[0m \u001b[0msys\u001b[0m\u001b[0;34m\u001b[0m\u001b[0;34m\u001b[0m\u001b[0m\n\u001b[0;32m----> 2\u001b[0;31m \u001b[0msys\u001b[0m\u001b[0;34m.\u001b[0m\u001b[0mpath\u001b[0m\u001b[0;34m.\u001b[0m\u001b[0mremove\u001b[0m\u001b[0;34m(\u001b[0m\u001b[0;34m'/home/qudratealahyratu/research/nlp/fact_checking/my_work/T5ParEvo/target_system/multiv'\u001b[0m\u001b[0;34m)\u001b[0m\u001b[0;34m\u001b[0m\u001b[0;34m\u001b[0m\u001b[0m\n\u001b[0m\u001b[1;32m      3\u001b[0m \u001b[0msys\u001b[0m\u001b[0;34m.\u001b[0m\u001b[0mpath\u001b[0m\u001b[0;34m.\u001b[0m\u001b[0mappend\u001b[0m\u001b[0;34m(\u001b[0m\u001b[0;34m'/home/qudratealahyratu/research/nlp/fact_checking/my_work/multivers'\u001b[0m\u001b[0;34m)\u001b[0m\u001b[0;34m\u001b[0m\u001b[0;34m\u001b[0m\u001b[0m\n",
      "\u001b[0;31mValueError\u001b[0m: list.remove(x): x not in list"
     ]
    }
   ],
   "source": [
    "import sys\n",
    "sys.path.remove('/home/qudratealahyratu/research/nlp/fact_checking/my_work/T5ParEvo/target_system/multiv')\n",
    "sys.path.append('/home/qudratealahyratu/research/nlp/fact_checking/my_work/multivers')"
   ]
  },
  {
   "cell_type": "code",
   "execution_count": 3,
   "metadata": {},
   "outputs": [],
   "source": [
    "import os\n",
    "sys.path.append(os.path.abspath('/home/qudratealahyratu/research/nlp/fact_checking/my_work/multivers'))\n"
   ]
  },
  {
   "cell_type": "code",
   "execution_count": 6,
   "metadata": {},
   "outputs": [],
   "source": [
    "from multivers.model import MultiVerSModel"
   ]
  },
  {
   "cell_type": "code",
   "execution_count": 17,
   "metadata": {},
   "outputs": [
    {
     "data": {
      "text/plain": [
       "['/home/qudratealahyratu/anaconda3/envs/scifact/lib/python37.zip',\n",
       " '/home/qudratealahyratu/anaconda3/envs/scifact/lib/python3.7',\n",
       " '/home/qudratealahyratu/anaconda3/envs/scifact/lib/python3.7/lib-dynload',\n",
       " '',\n",
       " '/home/qudratealahyratu/.local/lib/python3.7/site-packages',\n",
       " '/home/qudratealahyratu/anaconda3/envs/scifact/lib/python3.7/site-packages',\n",
       " '/home/qudratealahyratu/research/nlp/fact_checking/my_work/scifact',\n",
       " '/home/qudratealahyratu/research/nlp/fact_checking/my_work/SciMedAttack/ars_joint/ARSJointModel',\n",
       " '/home/qudratealahyratu/research/nlp/fact_checking/my_work/fairseq',\n",
       " '/home/qudratealahyratu/research/nlp/fact_checking/my_work/TextAttack',\n",
       " '/home/qudratealahyratu/anaconda3/envs/scifact/lib/python3.7/site-packages/biosyn-0.1-py3.7.egg',\n",
       " '/home/qudratealahyratu/research/nlp/fact_checking/existing_work/neuspell',\n",
       " '/home/qudratealahyratu/.local/lib/python3.7/site-packages/IPython/extensions',\n",
       " '/home/qudratealahyratu/.ipython',\n",
       " '/home/qudratealahyratu/research/nlp/fact_checking/my_work/multivers',\n",
       " '/home/qudratealahyratu/research/nlp/fact_checking/my_work/multivers']"
      ]
     },
     "execution_count": 17,
     "metadata": {},
     "output_type": "execute_result"
    }
   ],
   "source": [
    "sys.path"
   ]
  },
  {
   "cell_type": "code",
   "execution_count": null,
   "metadata": {},
   "outputs": [],
   "source": []
  }
 ],
 "metadata": {
  "kernelspec": {
   "display_name": "scifact",
   "language": "python",
   "name": "python3"
  },
  "language_info": {
   "codemirror_mode": {
    "name": "ipython",
    "version": 3
   },
   "file_extension": ".py",
   "mimetype": "text/x-python",
   "name": "python",
   "nbconvert_exporter": "python",
   "pygments_lexer": "ipython3",
   "version": "3.7.11"
  },
  "orig_nbformat": 4
 },
 "nbformat": 4,
 "nbformat_minor": 2
}
