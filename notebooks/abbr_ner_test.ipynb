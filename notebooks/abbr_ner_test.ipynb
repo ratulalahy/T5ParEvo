{
 "cells": [
  {
   "attachments": {},
   "cell_type": "markdown",
   "metadata": {},
   "source": [
    "# Setting up experiment"
   ]
  },
  {
   "cell_type": "code",
   "execution_count": null,
   "metadata": {},
   "outputs": [],
   "source": []
  },
  {
   "cell_type": "code",
   "execution_count": null,
   "metadata": {},
   "outputs": [],
   "source": []
  },
  {
   "cell_type": "code",
   "execution_count": null,
   "metadata": {},
   "outputs": [],
   "source": []
  },
  {
   "attachments": {},
   "cell_type": "markdown",
   "metadata": {},
   "source": [
    "# Scrap"
   ]
  },
  {
   "attachments": {},
   "cell_type": "markdown",
   "metadata": {},
   "source": [
    "os.path.abspath(os.path.join('../'))"
   ]
  },
  {
   "attachments": {},
   "cell_type": "markdown",
   "metadata": {},
   "source": [
    "from T5ParEvo.src.data.data import Claim, Label, ClaimPredictions,GoldDataset"
   ]
  },
  {
   "cell_type": "code",
   "execution_count": 1,
   "metadata": {},
   "outputs": [
    {
     "name": "stdout",
     "output_type": "stream",
     "text": [
      "module_path :  /home/qudratealahyratu/research/nlp/fact_checking/my_work/T5ParEvo\n",
      "root dir :  /home/qudratealahyratu/research/nlp/fact_checking/my_work/T5ParEvo\n",
      "definitions.PROJECT_VARS.ROOT_DIR :  /home/qudratealahyratu/research/nlp/fact_checking/my_work/T5ParEvo\n",
      "os.path.dirname(definitions.PROJECT_VARS.ROOT_DIR) :  /home/qudratealahyratu/research/nlp/fact_checking/my_work\n",
      "/home/qudratealahyratu/research/nlp/fact_checking/my_work/T5ParEvo\n"
     ]
    },
    {
     "name": "stderr",
     "output_type": "stream",
     "text": [
      "/home/qudratealahyratu/anaconda3/envs/scifact/lib/python3.7/site-packages/pytorch_lightning/core/decorators.py:66: LightningDeprecationWarning: The `@auto_move_data` decorator is deprecated in v1.3 and will be removed in v1.5. Please use `trainer.predict` instead for inference. The decorator was applied to `predict`\n",
      "  \"The `@auto_move_data` decorator is deprecated in v1.3 and will be removed in v1.5.\"\n"
     ]
    }
   ],
   "source": [
    "import os\n",
    "import sys\n",
    "from tqdm import tqdm\n",
    "import argparse\n",
    "from pathlib import Path\n",
    "from dataclasses import dataclass\n",
    "from typing import Any, Dict, List,Tuple, Optional\n",
    "import json\n",
    "#\n",
    "module_path = os.path.abspath(os.path.join('../'))\n",
    "if module_path not in sys.path:\n",
    "    sys.path.insert(0,module_path)\n",
    "print('module_path : ', module_path)\n",
    "from config import SciFactT5Config\n",
    "import definitions\n",
    "sys.path.append(os.path.dirname(definitions.PROJECT_VARS.ROOT_DIR))\n",
    "print('definitions.PROJECT_VARS.ROOT_DIR : ', definitions.PROJECT_VARS.ROOT_DIR)\n",
    "print('os.path.dirname(definitions.PROJECT_VARS.ROOT_DIR) : ',os.path.dirname(definitions.PROJECT_VARS.ROOT_DIR))\n",
    "#\n",
    "\n",
    "from T5ParEvo.src.data.data import Claim, Label, ClaimPredictions,GoldDataset\n",
    "from T5ParEvo.src.linguistic.ner_abbr import NEREntity, Abbreviation\n",
    "from multivers import util\n",
    "from multivers.data_r import ClaimDataLoaderGenerator, get_dataloader, DataLoaderGenerator\n",
    "from multivers.model_r import MultiVerSModel\n",
    "\n",
    "from T5ParEvo.target_system.multivers.multivers_interface import PredictionParams, ModelPredictor"
   ]
  },
  {
   "attachments": {},
   "cell_type": "markdown",
   "metadata": {},
   "source": [
    "import sys\n",
    "module_path = os.path.abspath(os.path.join('../'))\n",
    "if module_path not in sys.path:\n",
    "    sys.path.insert(0,module_path)\n",
    "sys.path.remove('/home/qudratealahyratu/research/nlp/fact_checking/my_work/T5ParEvo/notebooks')\n",
    "print(sys.path)"
   ]
  },
  {
   "attachments": {},
   "cell_type": "markdown",
   "metadata": {},
   "source": [
    "from T5ParEvo.src.data.data import Claim, Label, ClaimPredictions,GoldDataset"
   ]
  },
  {
   "attachments": {},
   "cell_type": "markdown",
   "metadata": {},
   "source": []
  },
  {
   "attachments": {},
   "cell_type": "markdown",
   "metadata": {},
   "source": [
    "\n",
    "import os\n",
    "os.path.abspath(os.path.join('../'))"
   ]
  },
  {
   "attachments": {},
   "cell_type": "markdown",
   "metadata": {},
   "source": [
    "import sys\n",
    "sys.path\n",
    "sys.path.remove('/home/qudratealahyratu/research/nlp/fact_checking/my_work/T5ParEvo/notebooks')\n",
    "import notebooks\n",
    "print(notebooks.__version__)"
   ]
  },
  {
   "attachments": {},
   "cell_type": "markdown",
   "metadata": {},
   "source": [
    "print(module_path)\n",
    "print(definitions.PROJECT_VARS.ROOT_DIR)\n",
    "print(os.path.dirname(definitions.PROJECT_VARS.ROOT_DIR))"
   ]
  },
  {
   "attachments": {},
   "cell_type": "markdown",
   "metadata": {},
   "source": [
    "import pkg_resources\n",
    "\n",
    "version = pkg_resources.get_distribution(\"notebooks\").version"
   ]
  },
  {
   "cell_type": "code",
   "execution_count": null,
   "metadata": {
    "notebookRunGroups": {
     "groupValue": ""
    }
   },
   "outputs": [],
   "source": [
    "# This dataset to be used only for training\n",
    "cfg= SciFactT5Config()\n",
    "ds_train = GoldDataset(cfg.target_dataset.loc_target_dataset_corpus,\n",
    "                    cfg.target_dataset.loc_target_dataset_train)\n",
    "claim_train = ds_train.get_claim(39)"
   ]
  },
  {
   "cell_type": "code",
   "execution_count": null,
   "metadata": {},
   "outputs": [],
   "source": [
    "\n",
    "params = PredictionParams(\n",
    "    checkpoint_path= \"/home/qudratealahyratu/research/nlp/fact_checking/my_work/multivers/checkpoints/scifact.ckpt\",\n",
    "    output_file= None,#\"prediction/pred_opt_scifact.jsonl\",\n",
    "    batch_size=5,\n",
    "    device=0,\n",
    "    num_workers=4,\n",
    "    no_nei=False,\n",
    "    force_rationale=False,\n",
    "    debug=False,\n",
    ")\n",
    "corpus_file = cfg.target_dataset.loc_target_dataset_corpus#cfg.target_dataset.loc_target_dataset_test#\"/home/qudratealahyratu/research/nlp/fact_checking/my_work/multivers/data/scifact/corpus.jsonl\"\n",
    "    \n",
    "\n",
    "gold_claims = []\n",
    "claims_path = cfg.target_dataset.loc_target_dataset_test#'/home/qudratealahyratu/research/nlp/fact_checking/my_work/multivers/data/scifact/claims_test_retrived.jsonl'\n",
    "with open(claims_path, 'r') as f:\n",
    "    for line in f:\n",
    "        data = json.loads(line)\n",
    "        claim = Claim(id = data['id'], claim = data['claim'], cited_docs = data['doc_ids'], evidence = {},release = None)\n",
    "        gold_claims.append(claim)\n",
    "\n",
    "#get unique claims\n",
    "unique_gold_claims = Claim.get_unique_claims(gold_claims)\n",
    "# Predict for unique claims\n",
    "# dataloader_generator = DataLoaderGenerator(params, unique_gold_claims, corpus_file)\n",
    "# dataloader = dataloader_generator.get_dataloader_by_claims()\n",
    "# predictor = ModelPredictor(params, dataloader)\n",
    "# prediction_formatted = predictor.run()"
   ]
  },
  {
   "cell_type": "code",
   "execution_count": null,
   "metadata": {},
   "outputs": [
    {
     "data": {
      "text/plain": [
       "[Example 7: 10-20% of people with severe mental disorder receive no treatment in low and middle income countries.,\n",
       " Example 8: 25% of patients with melanoma and an objective response to PD-1 blockade will experience a progression in their melanoma.,\n",
       " Example 16: 50% of patients exposed to radiation have activated markers of myofibroblasts.,\n",
       " Example 23: 8% of burn patients are admitted for hospitalization and further treatment after appearing at hospital emergency wards or outpatient clinics.,\n",
       " Example 29: A breast cancer patient's capacity to metabolize tamoxifen has no effect on treatment outcome.,\n",
       " Example 31: A country's Vaccine Alliance (GAVI) eligibility is associated with accelerated adoption of the Hub vaccine.,\n",
       " Example 33: A deficiency of folate decreases blood levels of homocysteine.,\n",
       " Example 38: A deficiency of vitamin B6 increases blood levels of homocysteine.,\n",
       " Example 59: APOE4 expression in iPSC-derived neurons results in increased tau phosphorylation.,\n",
       " Example 65: AZT given with ribavirin alleviates anemia.,\n",
       " Example 83: Adipocytes in major adipose depots descend from cells with a history of Pdgfra expression.,\n",
       " Example 84: Adult tissue-resident macrophages are maintained independent of circulating monocytes.,\n",
       " Example 87: Adult tissue-resident macrophages possess a self-renewing capacity.,\n",
       " Example 97: Alirocumab treatment increases apo(a) fractional clearance rate.,\n",
       " Example 101: All phenotypes associated with reduced IIS require the gene daf-16.,\n",
       " Example 102: All six cathelicidins are located on chromosome two.,\n",
       " Example 103: Allele and genotype frequencies of the rs4516035 and rs2298850 SNPs in Mexican populations are associated with region in Mexico.,\n",
       " Example 107: Amitriptyline ineffective as a treatment for chronic tension-type headaches.,\n",
       " Example 110: An N-formyl group on M3 molecules suppresss strong binding to the second position of the groove.,\n",
       " Example 117: Antibiotic induced alterations in the gut microbiome increase resistance against Clostridium difficile,\n",
       " Example 125: Approximately 22,500 people are infected with human T-cell lymphotropic virus type 1 in the United Kingdom.,\n",
       " Example 131: Aspirin encourages the production of PGE2.,\n",
       " Example 135: Asymptomatic bacteriuria has no effect on the risk for preterm delivery and low birth weight.,\n",
       " Example 136: Asymptomatic bacteriuria increases risk for preterm delivery and low birth weight.,\n",
       " Example 140: Athletes with or without a concussion have smaller volumes of hippocampal gray matter compared to healthy controls.,\n",
       " Example 145: Autologous transplantation of mesenchymal stem cells has higher rates of rejection than induction therapy with anti-interleukin-2 receptor antibodies.,\n",
       " Example 147: Autologous transplantation of mesenchymal stem cells has worse graft function than induction therapy with anti-interleukin-2 receptor antibodies.,\n",
       " Example 150: Autophagy deficiency in the liver protects from insulin resistance.,\n",
       " Example 151: Autophagy increases in aged organisms.,\n",
       " Example 158: BRCA 1 mutation carriers' risk of breast and ovarian cancer  is not influence by the location of the mutation.,\n",
       " Example 162: Bariatric surgery has a deleterious impact on mental health.,\n",
       " Example 170: Bariatric surgery reduces resolution of diabetes.,\n",
       " Example 188: Broadly HIV-1 Neutralizing Antibodies (bnAb) 10EB exhibit a strong affinity for phospholipids.,\n",
       " Example 190: Bromodomain proteins promote the differentiation process of bloodstream form (BSF) to procyclic form (PCF) parasites.,\n",
       " Example 191: Bronchial responsiveness is higher in the summer than in the winter.,\n",
       " Example 192: Bronchial responsiveness is the same in the winter and summer seasons.,\n",
       " Example 193: C-Met is involved in epithelial-mesenchymal transition in tumor cells.,\n",
       " Example 194: C. elegans germlines lose their immortal character when nuclear RNAi is activated.,\n",
       " Example 195: C. elegans germlines lose their immortal character when nuclear RNAi is disabled.,\n",
       " Example 202: CD44v6 is a marker of constitutive and reprogrammed cancer stem cells driving cancer metastasis.,\n",
       " Example 206: CENP-B inhibits heterochromatin formation,\n",
       " Example 207: CHEK2 has a significant role in breast cancer,\n",
       " Example 215: CRY proteins mediate light signal transduction.,\n",
       " Example 231: Carriers of the alcohol aldehyde dehydrogenase deficiency mutation drink more that non-carries.,\n",
       " Example 234: Cell autonomous sex determination in somatic cells does not occur in Passeriformes.,\n",
       " Example 240: Cellular aging is uncorrelated with an older appearance.,\n",
       " Example 252: Chikungunya virus (CHIKV) produced in mosquitos elicits rapid and long-lasting neutralizing antibodies in mice.,\n",
       " Example 257: Choice of specialty is not influenced by debt accrued from medical training.,\n",
       " Example 260: Chronic aerobic exercise alters endothelial function, impairing vasodilating mechanisms mediated by NO.,\n",
       " Example 270: Colloid exposure causes morbidity.,\n",
       " Example 271: Colloid exposure has no effect on morbidity.,\n",
       " Example 273: Combination nicotine replacement therapies with varenicline or bupropion are not associated with significantly higher long-term abstinence rates at 52 weeks than varenicline monotherapy.,\n",
       " Example 276: Combining phosphatidylinositide 3-kinase and MEK 1/2 inhibitors is ineffective at treating KRAS mutant tumors.,\n",
       " Example 282: Conformational changes of the CD3 complex enable ITAM phosphorylation.,\n",
       " Example 284: Consumption of whole fruits reduces the risk of type 2 diabetes.,\n",
       " Example 288: Coordinated stabilization of kinetochore-microtubule attachments occurs at the prometaphase to metaphase transition.,\n",
       " Example 289: Correlative electron microscopy and superresolution fluorescence imaging are imaging techniques.,\n",
       " Example 291: Cost effectiveness evaluations based on cRCT data do not represent patients in actual clinical practice.,\n",
       " Example 297: Cyclin A2 synthesis is necessary to switch from unstable to stable kt-mt attachments in mitosis.,\n",
       " Example 302: Cytosolic proteins fail to bind to iron-responsive elements on mRNAs coding for TFRC1.,\n",
       " Example 307: DUSP4 downregulation activates the Ras-ERK pathway,\n",
       " Example 311: De novo assembly of sequence data has longer contigs than unassembled sequence data.,\n",
       " Example 318: Decreases in region specific aerobic glycolysis in aged humans causes aging induced changes in brain glucose metabolism.,\n",
       " Example 319: Decreases in region specific aerobic glycolysis in aged humans slows aging induced changes in brain glucose metabolism.,\n",
       " Example 320: Deficiency of Tetraspanin-3 causes impaired stem cell-renewal and disease propagation.,\n",
       " Example 321: Deficiency of Tetraspanin-3 causes improved stem cell-renewal and slows disease propagation.,\n",
       " Example 322: Delayed sleep phase disorder is associated with a dominant coding variation the core circadian clock gene CRY1.,\n",
       " Example 328: Deletion of αvβ8 results in a spontaneous inflammatory phenotype.,\n",
       " Example 329: Deltex has been shown to interact with eIF3f, a DUB required for Notch activation process.,\n",
       " Example 344: Differentiated E2f-1, -2, -3 TKO cells in the intestine can exhibit apoptosis.,\n",
       " Example 348: Diminished ovarian reserve cannot be used in isolation as an indicator of infertility in a non-infertile population.,\n",
       " Example 353: Distant CREs are more conserved among species.,\n",
       " Example 359: During the primary early antibody response activated B cells express high levels of EBI2.,\n",
       " Example 360: During the primary early antibody response activated B cells express low levels of EBI2.,\n",
       " Example 373: Electromagnetic interference has no effect on Radio Frequency Identification (RFID) readability and reading distances.,\n",
       " Example 374: Electrophysiological changes in motor neurons have been observed in patients with amyotrophic lateral sclerosis.,\n",
       " Example 387: Esrrb associates with BAF and Mbd3/NURD complexes.,\n",
       " Example 395: Excess nitric oxide is responsible for vasospasm.,\n",
       " Example 402: Expression of MSX2 is induced 3 hours after the addition of BMP4, which occurs later than T and CDX2.,\n",
       " Example 405: F4/80+ macrophages are located in the periosteum.,\n",
       " Example 408: Falsified artemisinin family drugs with no active ingredient are generally safe.,\n",
       " Example 409: Falsified artemisinin family drugs with no active ingredient can be life-threatening.,\n",
       " Example 412: Female carriers of the Apolipoprotein E4 (APOE4) allele have a reduced risk for Alzheimer's disease.,\n",
       " Example 419: Fibroblast growth factor 21 icreases vulnerability to atherosclerosis by modulating adiponectin and SREBP2 levels.,\n",
       " Example 424: For every 1,000 children with cerebral palsy, 40-150 of them are premature or underweight at birth.,\n",
       " Example 427: Forkhead 0 (fox0) transcription factors are involved in cell cycle arrest.,\n",
       " Example 433: Foxp3 displaces Foxo1 on chromatin,\n",
       " Example 438: Funding the elimination of sporadic malaria cases is a less efficient use of healthcare resources than treating other health priorities in a setting with limited resources.,\n",
       " Example 442: G-CSF prevents MDSCs from infiltrating tumors.,\n",
       " Example 446: GEF-H1 activates RhoA in response to extracellular signal-regulated kinase activation.,\n",
       " Example 450: Gastric lavage shows no benefit for acute paraquat poisoning.,\n",
       " Example 451: Gene expression can be highly variable across genetically identical cells.,\n",
       " Example 457: Genes regulated by Esrrb transcription factor are unaffected by Mbd3 function.,\n",
       " Example 459: Genetic deficiency of mast cells leads to increased weight gain in a mouse model of diet-induced obesity.,\n",
       " Example 460: Genetic deletion of JAM-A decreases gut permeability.,\n",
       " Example 462: Genome size differences in rice are explained by LTR retrotransposon expansion.,\n",
       " Example 464: Genomic instability in leukemia cells results from a decrease in reactive oxygen species from oncogene activation.,\n",
       " Example 465: Genomic instability in leukemia cells results from an increase in reactive oxygen species from oncogene activation.,\n",
       " Example 467: Ginger is hazardous to mechanically ventilated patients, because these patients are susceptible to mucosal lesions and ulcers.,\n",
       " Example 468: Ginger is safe for mechanically ventilated patients.,\n",
       " Example 471: Glucose restriction to 0.05% increases RLS (replicative life span) by 20-40% in S. cerevisiae.,\n",
       " Example 476: Golli-deficient T-cells are dormant in initial clonal expansion.,\n",
       " Example 477: Golli-deficient T-cells are hyper proliferative in initial clonal expansion.,\n",
       " Example 496: Having a main partner increases survival rates in HIV patients.,\n",
       " Example 497: Having a main partner lowers survival rates in HIV patients.,\n",
       " Example 503: Healthy volunteers exhibit rapid and transient decrease of cellular ATP after being bolus-injected with fructose.,\n",
       " Example 510: Hematopoietic progenitor cells are never susceptible to HIV-1 infection ex vivo.,\n",
       " Example 512: High cardiopulmonary fitness causes decreased mortality rate.,\n",
       " Example 518: High levels of copeptin increase risk of diabetes.,\n",
       " Example 519: High methylation levels within individual DNA molecules correlates with high nucleosome occupancy across species.,\n",
       " Example 520: High methylation levels within individual DNA molecules correlates with low nucleosome occupancy across species.,\n",
       " Example 522: Higher initial mortality is associated with antidepressant use.,\n",
       " Example 534: Hypertension can be accurately diagnosed with ambulatory blood pressure monitoring.,\n",
       " Example 538: Hypoglycemia decreases the risk of dementia.,\n",
       " Example 543: IFI16 promotes STING phosphorylation and translocation, resulting in elevated activation of STING induced by cGAMP.,\n",
       " Example 546: IL-10 production by monocytes encourages CD4 + T cell response.,\n",
       " Example 556: Immune complex triggered cell death leads to extracellular release of oxidized mitochondrial DNA.,\n",
       " Example 558: Immune complex triggered cell death slows down extracellular release of nuclear DNA.,\n",
       " Example 561: Impaired RhoA activity causes megakaryocytes to exit mitosis without complete karyokinesis,\n",
       " Example 567: In a naive state, blocking Wingless-Int-1 secretion from mouse embryonic stem cells encourages self-renewal of the mouse embryonic stem cells.,\n",
       " Example 581: In pediatric tissues, the dominant population of T cells are naive T cells emigrants from the thymus.,\n",
       " Example 583: In rhesus macaques, daily subcutaneous injections of emtricitabine protect against rectally transmitted simian-human immunodeficiency virus.,\n",
       " Example 586: In the UK, drowning affects boys at a higher rate than girls.,\n",
       " Example 596: Incidence of sepsis has remained stable between 2009-2014.,\n",
       " Example 599: Incidence rates of cervical cancer have increased over time.,\n",
       " Example 604: Increased calcium levels activate transgultaminase activity.,\n",
       " Example 605: Increased calcium levels repress transgultaminase activity.,\n",
       " Example 608: Increased expression of Bcl2 is important for the maintenance and progression of tumors.,\n",
       " Example 627: Induction of urokinase receptor signaling in podocytes has no effect on foot process effacement and proteinuria.,\n",
       " Example 629: Infection of human T-cell lymphotropic virus type 1 is most frequent in individuals of European origin.,\n",
       " Example 630: Inhibiting HDAC6 decreases survival of mice with ARID1A mutated tumors.,\n",
       " Example 634: Inhibiting glucose-6-phospate dehydrogenase impairs lipogenesis by reactivating LKB1-AMPK signaling.,\n",
       " Example 639: Inside the body, falciparum parasites form agglomerates of infected cells to avoid spleen clearance.,\n",
       " Example 656: Intramembrane cleavage by SPP helps facilitate in the degradation of proteins with a complex membrane orientation.,\n",
       " Example 664: KLF4 prevents VSMCs from acquiring genetic characteristics of other cell types within atherosclerotic lesions.,\n",
       " Example 675: LRBA controls CTLA - 4 expression.,\n",
       " Example 678: LSD1 plays a role in transcriptional activation,\n",
       " Example 695: Lice attenuated SIV vaccines induce a weaker antigen-specific T cell response in lymph node cells.,\n",
       " Example 697: Lithium damages function in the SCA1 mouse model,\n",
       " Example 699: Lmna knock-in models are not suitable to test therapeutic approaches against Hutchinson-Gilford progeria syndrome (HGPS).,\n",
       " Example 701: Localization of PIN1 in the Arabidopsis embryo requires VPS9a,\n",
       " Example 706: Long chain polyunsaturated fatty acids supplementation is associated with higher rates of allergic sensitization  at 1 year.,\n",
       " Example 707: Long chain polyunsaturated fatty acids supplementation is associated with higher rates of atopic eczema at 1 year.,\n",
       " Example 708: Long chain polyunsaturated fatty acids supplementation is associated with lower rates of allergic sensitization  at 1 year.,\n",
       " Example 711: Long-term use of statins showed a decreased risk of gallstones followed by cholecystectomy.,\n",
       " Example 712: Long-term use of statins showed a increased risk of gallstones followed by cholecystectomy.,\n",
       " Example 719: Low saturated fat diets do not have adverse effects on growth or development of infants.,\n",
       " Example 720: Low saturated fat diets have adverse effects on growth or development of infants.,\n",
       " Example 722: Lupus-prone mice infected with curliproducing bacteria have lower autoantibody titers compared to controls.,\n",
       " Example 725: Ly6C hi monocytes have a higher inflammatory capacity compared to their Ly6C lo counterparts.,\n",
       " Example 731: Lysine histone demethylase inhibitor JIB 04 is primarily active against KDM5A.,\n",
       " Example 735: MEK inhibitors are not effective in RAS-driven mouse models of cancer.,\n",
       " Example 741: MUC1-C inhibits the NF-κB p65 signaling pathway by interacting with IκB kinase ß.,\n",
       " Example 750: Major vault protein (MVP) functions to decrease tumor aggression.,\n",
       " Example 754: Malaria has a low vectorial capacity.,\n",
       " Example 763: Medicare beneficiaries experienced a median delay of 2.4 days between lung cancer diagnosis and initiation of chemotherapy in 2006.,\n",
       " Example 769: Metastases have genomic aberrations different than those of the primary tumor.,\n",
       " Example 773: Mice are incapable of producing neutralizing antibodies in reponse to the Eilat virus (EILV) produced in mosquitos.,\n",
       " Example 786: Microarray results from culture-amplified mixtures of serotypes correlate well microarray results from uncultured mixtures.,\n",
       " Example 794: Mitochondria are uninvolved in processes related to cell signaling.,\n",
       " Example 796: Mitochondria play a major role in calcium homeostasis.,\n",
       " Example 806: Monoclonal antibody targeting of N-cadherin promotes growth.,\n",
       " Example 809: Motor neurons from patients with amyotrophic lateral sclerosis have electrophysiological changes relative to healthy patients.,\n",
       " Example 819: Myelin sheaths play an important role in trophic support.,\n",
       " Example 824: N348I mutations decrease resistance to zidovudine (AZT).,\n",
       " Example 827: NAC encourages the generation of angiotensin-converting enzyme.,\n",
       " Example 829: NAC stabilizes NO to reduce the effect of contrast agents on renal functions.,\n",
       " Example 833: NLRP12 is a positive regulator of T-cell receptor activation.,\n",
       " Example 836: NR5A2 is important in bile acid homeostasis in humans.,\n",
       " Example 842: Near-infrared wavelengths decrease penetration depth in fiberoptic confocal microscopy.,\n",
       " Example 843: Near-infrared wavelengths increase penetration depth in fiberoptic confocal microscopy.,\n",
       " Example 849: Ninety percent (90%) of kidney cancers in the UK are attributable to excess weight.,\n",
       " Example 850: Nitric oxide (NO) can S- nitrosylate G protein-coupled receptor kinases (GRKs) to suppress their activity and block phosphorylation.,\n",
       " Example 851: No strong relationship has been found with Pioglitazone use and increased risk for pancreatic cancer,\n",
       " Example 862: Normal granulomas formed in the absence of TNF-␣ despite increased bacterial growth.,\n",
       " Example 864: Notch signalling can occur between tumor cells and stromal cells.,\n",
       " Example 865: Nrde-3 facilitates heritable silencing in C. elegans by transporting secondary siRNAs to the nucleus.,\n",
       " Example 868: Obesity decreases life expectancy.,\n",
       " Example 872: Obesity is determined in part by genetic factors.,\n",
       " Example 874: Obesity prolongs life expectancy.,\n",
       " Example 878: Occipital activation levels are not correlated with auditory spatial performance in parietal regions of the brain.,\n",
       " Example 888: Oral ibandronate increases relative risk of new vertebral fractures and clinical vertebral fractures in women.,\n",
       " Example 889: Oral ibandronate reduces relative risk of new vertebral fractures and clinical vertebral fractures in women.,\n",
       " Example 892: Osteocytes are not associated with G-CSF induced HSPC mobilization.,\n",
       " Example 905: PEP carboxylase enhances threonine production in E. coli.,\n",
       " Example 906: PEP carboxylase suppresses threonine production in E. coli.,\n",
       " Example 915: PRC1-bound plasmids sediment at a faster rate in unbound plasmids than in sucrose gradients.,\n",
       " Example 918: Participants who quit smoking reduce lung cancer risk by approximately 5%.,\n",
       " Example 920: Participating in six months of physical activity impairs cognitive functioning.,\n",
       " Example 924: Patients in stable partnerships have a slower progression from HIV to death.,\n",
       " Example 931: Patients with panic anxiety show increased CSF levels of hypocretin.,\n",
       " Example 932: Pattern recognition receptors are transcripts determinant for resistance to Plasmodium infection.,\n",
       " Example 937: Persister cells lead to clinical relapse in cancer patients.,\n",
       " Example 943: Phosphorylation of the ATM protein regulates DNA damage-induced neuronal death.,\n",
       " Example 947: Physical activity levels have been associated with the differences in VO2max between black and white youth.,\n",
       " Example 948: Physical injury activates transgultaminase activity.,\n",
       " Example 950: Piezo1 channels are sensors for cell crowding in epithelial cells.,\n",
       " Example 958: Polyglutamine binding protein 1 (PQBP1) is the co-receptor of HIV-DNA to trigger cell-autonomous antiviral responses.,\n",
       " Example 961: Polyploidization in megakaryocytes occurs in the presence of an aberrant mitosis.,\n",
       " Example 966: Presence of stemloops is important for reverse transcription in short interspersed nuclear elements (SINEs).,\n",
       " Example 968: Pretreatment with the Arp2/3 inhibitor CK-666 is not associated with lamelliopodia formation.,\n",
       " Example 974: Primary cervical cytology screening with HPV detection is no more effective than conventional cytology at detecting severe cervical intraepithelial neoplasia.,\n",
       " Example 981: Propriospinal interneurons that play a role in the plastic reorganization of spinal circuits are not required for recovery from spinal cord injury.,\n",
       " Example 983: Proteins synthesized at the growth cone are ubiquitinated at a lower rate than proteins from the cell body.,\n",
       " Example 986: Pseudoknots alter gene expression by inducing ribosomal frameshifts in viruses.,\n",
       " Example 987: Pseudoknots are evolutionarily conserved throughout most eukaryotes.,\n",
       " Example 991: Pyridostatin delays checkpoint activation.,\n",
       " Example 995: Pyridostatin increases telomere fragility in BRCA2-deficient cells.,\n",
       " Example 1007: RUNX is a top ranscription factor in skin tissue.,\n",
       " Example 1010: Radiographic verified pneumonia predictions are improved by the combination of physical examinations with C-reactive protein values.,\n",
       " Example 1013: Rapamycin accelerates aging in fruit flies.,\n",
       " Example 1017: Rapamycin treatment raises G-CSF levels.,\n",
       " Example 1022: Rates of hypertension in patients type 2 diabetes mellitus are similar to those in non-diabetic subjects.,\n",
       " Example 1039: Replacement of OCT4 and SOX2 genes with mesendoderm-related genes has the ability to reprogram human cells.,\n",
       " Example 1051: Risedronate reduces risk of vertebral and non-vertebral fractures.,\n",
       " Example 1057: Roughly 10% of women with chronic pelvic pain have no underlying pathology.,\n",
       " Example 1059: Roughly one in twenty UK citizens harbor variant Creutzfeldt-Jakob disease prions in lymphoid tissues.,\n",
       " Example 1060: Roughly one in two thousand UK citizens harbor variant Creutzfeldt-Jakob disease prions in lymphoid tissues.,\n",
       " Example 1061: S-nitrosylated GAPDH physiologically transnitrosylates DNA-activated protein kinase.,\n",
       " Example 1063: S-nitrosylated GAPDH physiologically transnitrosylates target nuclear proteins.,\n",
       " Example 1064: SOD1 integrates oxygen and glucose signals to repress cellular respiration.,\n",
       " Example 1066: Satellite cell dysfunction is not a key factor in sarcopenia development.,\n",
       " Example 1071: Self-advocacy training is not effective at decreasing homelessness.,\n",
       " Example 1076: Serotonin receptors have no effect on depression,\n",
       " Example 1077: Serotonin receptors play a role in depression,\n",
       " Example 1078: Short British students are bullied less than control British students.,\n",
       " Example 1079: Short British students are bullied more than control British students.,\n",
       " Example 1080: Side effects associated with antidepressants decrease risk of stroke.,\n",
       " Example 1082: Side effects associated with antidepressants increases risk of mortality in postmenopausal women.,\n",
       " Example 1083: Side effects associated with antidepressants increases risk of myocardial infarction.,\n",
       " Example 1092: Somatic missense mutations in NT5C2 are associated with relapse of acute lymphoblastic leukemia.,\n",
       " Example 1093: Somatic missense mutations in NT5C2 are not associated with relapse of acute lymphoblastic leukemia.,\n",
       " Example 1094: Some countries have achieved the goal of eradicting malaria.,\n",
       " Example 1095: Some signals for alternative polyadenylation sites are encoded in transposable elements.,\n",
       " Example 1108: Suboptimal nutrition is a leading cause of chronic disease,\n",
       " Example 1113: Supracellular actomyosin structures are found at boundaries in Drosophila wing imaginal discs.,\n",
       " Example 1116: Sustained transmission of Avian influenza A between humans is not observed.,\n",
       " Example 1117: Sweet taste receptors on the tongue are activated by between 300 and 1000 mM glucose.,\n",
       " Example 1122: Synaptic activity enhances local synthesis of brain derived neurotrophic factor from postsynaptic dendrites.,\n",
       " Example 1123: Synaptic activity impairs local release of brain derived neurotrophic factor from postsynaptic dendrites.,\n",
       " Example 1124: Synaptic activity impairs local synthesis of brain derived neurotrophic factor from postsynaptic dendrites.,\n",
       " Example 1129: T cell receptor /CD3 microdomains are unnecessary in the induction of the immunlogical synapse.,\n",
       " Example 1131: T regulatory cells (tTregs) lacking αvβ8 are unable to suppress pathogenic T-cell responses during active inflammation.,\n",
       " Example 1143: Taking anti-depresents is associated with a increase in the Aβ level in the brain of experimental animals.,\n",
       " Example 1147: Teaching hospitals provide better care than non-teaching hospitals.,\n",
       " Example 1149: Tet enzymes activate microRNAs required for iPSC derivation.,\n",
       " Example 1151: The 7.5% 10-year Atherosclerotic cardiovascular disease risk threshold strategy for initiating statin therapy is less cost-effective than the 10% risk threshold strategy.,\n",
       " Example 1152: The 7.5% 10-year Atherosclerotic cardiovascular disease risk threshold strategy for initiating statin therapy is more cost-effective than the 10% risk threshold strategy.,\n",
       " Example 1154: The C-type lectin receptor (CLEC-2) rearranges the actin cytoskeleton in dendritic cells to suppress motility along stromal surfaces.,\n",
       " Example 1155: The DESMOND program achieved a significant impact on lifestyles outcomes.,\n",
       " Example 1160: The DESMOND program significantly improves biochemical outcomes.,\n",
       " Example 1167: The H3.3K36me3 histone reader protein ZMYND11 has a  higher binding affinity if G34R/V is mutated.,\n",
       " Example 1172: The PDPN gene activates the C-type lectin receptor (CLEC-2).,\n",
       " Example 1189: The actual sequences of CP-1 and CR-5 regions are evolutionarily conserved throughout most eukaryotes.,\n",
       " Example 1192: The appearance of brown-like or beige cells primarily occurs in subcutaneous fat, not visceral fat.,\n",
       " Example 1198: The balance between F- and G-actin regulates the orientation of neuronal migration in the developing cerebral cortex.,\n",
       " Example 1201: The binding orientation of the ML-SA1 activator at hTRPML2 is similar to the binding orientation of the ML-SA1 activator at hTRPML1.,\n",
       " Example 1203: The center of the granuloma in an immune cell induces an anti-inflammatory immune response.,\n",
       " Example 1217: The first MBT repeat of the four malignant brain tumor (4MBT) domain of Drosophila's Sfmbt and of the orthologous mammalian L3MBTL2 is nonessential for the interaction with the spacer region of Drosophila's Pleiohomeotic (Pho) or its human ortholog YY1.,\n",
       " Example 1222: The innate immune response is efficient at removing small numbers of parasites.,\n",
       " Example 1233: The minor G allele of FOXO3 represses IL-10.,\n",
       " Example 1240: The myocardial cell lineage originally develops from cardiac progenitors of mesodermal origin.,\n",
       " Example 1242: The number of Ndc80 complexes varies with cell cycle timing.,\n",
       " Example 1243: The number of unfertilized oocytes in mated hermaphrodites decreases with age.,\n",
       " Example 1250: The periosteum consists of 2 layers: the inner layer on the periosteal surface with monocyte/macrophage-lineage cells, osteoblastic cells, and abundant periostin; and the outer layer, consisting of collagens, blood vessels, and nerve endings.,\n",
       " Example 1251: The phosphorylation of Drp1 at S616 site inhibits its mitochondrial translocation when activated by Ca 2+ /calmodulin-dependent kinase II (CaMKII).,\n",
       " Example 1252: The phosphorylation of Drp1 at S616 site promotes its mitochondrial translocation when activated by Ca 2+ /calmodulin-dependent kinase II (CaMKII).,\n",
       " Example 1256: The proportion of people with visual difficulty is two times higher in high-income countries than in low-income countries.,\n",
       " Example 1264: The ring complexes of chromosomes in C. elegans oocytes are built in discrete layers.,\n",
       " Example 1267: The risk of cancer is lower in individuals with a history of heavy alcohol consumption.,\n",
       " Example 1277: The tissue surrounding the granuloma in an immune cell induces an inflammatory immune response.,\n",
       " Example 1283: Therapeutics receiving accelerated approval encounter a higher frequency of post-marketing safety events,\n",
       " Example 1285: There are four spatial channels in each hemifield of the auditory cortex of cats.,\n",
       " Example 1286: There are no known genetic variants associated with radiation therapy-induced second malignancies in pediatric Hodgkin lymphoma patients.,\n",
       " Example 1287: There is a neuroprotective effect of Trpm4 inhibition in mice and rats.,\n",
       " Example 1296: There is no relation between lupus erythematosus and cardiovascular disease,\n",
       " Example 1299: Thigh-length graduated compression stockings (GCS) reduced deep vein thrombosis in patients admitted to hospital who are immobile because of acute stroke.,\n",
       " Example 1301: Thoracic aortic aneurysms affect 70-100 individuals per 100,000 people per year.,\n",
       " Example 1313: Transcription factor EB prevents transcription of pro-inflammatory cytokines in macrophages infected with Staphylococcus aureus.,\n",
       " Example 1317: Transient IFN-γ exposure leads to long-lived infammatory responses in cancer cells due to IFN-γ retention on the cell surface.,\n",
       " Example 1318: Transplanted human glial cells are incapable of differentiation within the host animal.,\n",
       " Example 1321: Transplanted human glial progenitor cells can form a neural network with host animals' neurons.,\n",
       " Example 1326: Tuberculosis incidence is correlated with residential crowding in the UK.,\n",
       " Example 1329: Tuberculosis-induced granulomas express immune system protein signatures similar to those of the surrounding tissue.,\n",
       " Example 1338: Ultrafine Anaphase Bridges represent a mechanism for resolving partially-replicated stretches of DNA.,\n",
       " Example 1343: Unlike transposon mutagenesis, chemical mutagenesis has the capability to induce point mutations that are not typically modeled by insertional mutagenesis approaches.,\n",
       " Example 1354: V-9302 causes antitumor responses by increasing cell death and oxidative stress.,\n",
       " Example 1357: Vaccinating the gastrointestinal tract is not effective in protecting rectal and vaginal mucosa.,\n",
       " Example 1358: Valproic acid (VPA) treatment allows reprogramming by the microRNA cluster miR302/367.,\n",
       " Example 1365: Verbal autopsy (VA) performed well in distinguishing between different injury categories in the elderly population.,\n",
       " Example 1369: Vitamin D deficiency has no effect on the term of child delivery.,\n",
       " Example 1377: Whole brain radiotherapy reduces the occurrence of new brain metastases.,\n",
       " Example 1384: c-MYC is important for maintaining pluripotent state of pluripotent stem cells.,\n",
       " Example 1388: mTORC2 inhibits xCT antiporter through phosphorylation.,\n",
       " Example 1396: p16INK4A accumulation is encoded by CDKN2A.,\n",
       " Example 1399: p53 controls autophagy through the AMPK/mTOR-dependent pathway.,\n",
       " Example 1408: β1/Ketel is unable to bind microtubules.]"
      ]
     },
     "execution_count": 4,
     "metadata": {},
     "output_type": "execute_result"
    }
   ],
   "source": [
    "unique_gold_claims"
   ]
  },
  {
   "cell_type": "code",
   "execution_count": null,
   "metadata": {},
   "outputs": [
    {
     "ename": "ModuleNotFoundError",
     "evalue": "No module named 'T5ParEvo'",
     "output_type": "error",
     "traceback": [
      "\u001b[0;31m---------------------------------------------------------------------------\u001b[0m",
      "\u001b[0;31mModuleNotFoundError\u001b[0m                       Traceback (most recent call last)",
      "\u001b[0;32m/tmp/ipykernel_5619/2570170922.py\u001b[0m in \u001b[0;36m<module>\u001b[0;34m\u001b[0m\n\u001b[0;32m----> 1\u001b[0;31m \u001b[0;32mfrom\u001b[0m \u001b[0mT5ParEvo\u001b[0m\u001b[0;34m.\u001b[0m\u001b[0msrc\u001b[0m\u001b[0;34m.\u001b[0m\u001b[0mlanguistic\u001b[0m\u001b[0;34m.\u001b[0m\u001b[0mner_abbr\u001b[0m \u001b[0;32mimport\u001b[0m \u001b[0mAbbreviationModel\u001b[0m\u001b[0;34m,\u001b[0m \u001b[0mNERModel\u001b[0m\u001b[0;34m,\u001b[0m \u001b[0mNEREntity\u001b[0m\u001b[0;34m,\u001b[0m \u001b[0mAbbreviation\u001b[0m\u001b[0;34m\u001b[0m\u001b[0;34m\u001b[0m\u001b[0m\n\u001b[0m",
      "\u001b[0;31mModuleNotFoundError\u001b[0m: No module named 'T5ParEvo'"
     ]
    }
   ],
   "source": [
    "from T5ParEvo.src.languistic.ner_abbr import AbbreviationModel, NERModel, NEREntity, Abbreviation"
   ]
  },
  {
   "cell_type": "code",
   "execution_count": null,
   "metadata": {},
   "outputs": [],
   "source": [
    "ner_models = [\n",
    "    NERModel(\"en_ner_craft_md\"),\n",
    "    NERModel(\"en_ner_bc5cdr_md\"),\n",
    "    NERModel(\"en_ner_bionlp13cg_md\"),\n",
    "    NERModel(\"en_ner_jnlpba_md\")\n",
    "]\n",
    "\n",
    "abbr_models = [\n",
    "    AbbreviationModel(\"en_core_sci_scibert\"),\n",
    "    AbbreviationModel(\"en_core_sci_lg\"),\n",
    "    AbbreviationModel(\"en_ner_craft_md\"),\n",
    "    AbbreviationModel(\"en_ner_bc5cdr_md\"),\n",
    "    AbbreviationModel(\"en_ner_bionlp13cg_md\"),\n",
    "    AbbreviationModel(\"en_ner_jnlpba_md\")\n",
    "]\n"
   ]
  },
  {
   "cell_type": "code",
   "execution_count": null,
   "metadata": {},
   "outputs": [],
   "source": []
  },
  {
   "cell_type": "code",
   "execution_count": null,
   "metadata": {},
   "outputs": [],
   "source": []
  },
  {
   "cell_type": "code",
   "execution_count": null,
   "metadata": {},
   "outputs": [],
   "source": []
  },
  {
   "cell_type": "code",
   "execution_count": null,
   "metadata": {},
   "outputs": [],
   "source": []
  },
  {
   "cell_type": "code",
   "execution_count": null,
   "metadata": {},
   "outputs": [],
   "source": []
  },
  {
   "attachments": {},
   "cell_type": "markdown",
   "metadata": {},
   "source": [
    "nlp_sci_brt = spacy.load(\"en_core_sci_scibert\")\n",
    "\n",
    "nlp_sci_brt.add_pipe(\"abbreviation_detector\")"
   ]
  },
  {
   "cell_type": "code",
   "execution_count": 5,
   "metadata": {},
   "outputs": [],
   "source": [
    "import spacy\n",
    "from dataclasses import dataclass\n",
    "from typing import List, Dict\n",
    "from tqdm import tqdm\n",
    "from scispacy.abbreviation import AbbreviationDetector\n",
    "activated = spacy.prefer_gpu()"
   ]
  },
  {
   "cell_type": "code",
   "execution_count": 6,
   "metadata": {},
   "outputs": [],
   "source": [
    "\n",
    "\n",
    "\n",
    "class AbbreviationModel:\n",
    "    def __init__(self, model_name: str):\n",
    "        # activated = spacy.prefer_gpu()\n",
    "        self.model = spacy.load(model_name)\n",
    "        self.model.add_pipe(\"abbreviation_detector\")\n",
    "        self.abbreviations = set()\n",
    "\n",
    "    def process_claim(self, claim: Claim) -> List[Abbreviation]:\n",
    "        doc = self.model(claim.claim)\n",
    "        abbrs = []\n",
    "        for abr in doc._.abbreviations:\n",
    "            self.abbreviations.add(str(abr))\n",
    "            abbr = Abbreviation(\n",
    "                claim_id=claim.id,\n",
    "                abrv_text=str(abr),\n",
    "                abr_definition=str(abr._.long_form),\n",
    "                abr_model=self.model.meta['name'],\n",
    "                sf_start_char=abr.start_char,\n",
    "                sf_end_char=abr.end_char,\n",
    "                lf_start_char=abr._.long_form.start_char,\n",
    "                lf_end_char=abr._.long_form.end_char,\n",
    "            )\n",
    "            if (abr.end_char - abr.start_char > 0) & (abr._.long_form.end_char - abr._.long_form.start_char > 0):\n",
    "                if (abr.start_char - abr._.long_form.end_char < 4) | (abr._.long_form.start_char - abr.end_char < 4):\n",
    "                    abbr.abr_whole_start = min(abr.start_char, abr._.long_form.start_char)\n",
    "                    abbr.abr_whole_end = max(abr.end_char, abr._.long_form.end_char)\n",
    "            abbrs.append(abbr)\n",
    "        return abbrs\n",
    "\n",
    "# models = [\n",
    "#     AbbreviationModel(\"en_core_sci_scibert\"),\n",
    "#     AbbreviationModel(\"en_core_sci_lg\"),\n",
    "#     AbbreviationModel(\"en_ner_craft_md\"),\n",
    "#     AbbreviationModel(\"en_ner_bc5cdr_md\"),\n",
    "#     AbbreviationModel(\"en_ner_bionlp13cg_md\"),\n",
    "#     AbbreviationModel(\"en_ner_jnlpba_md\")\n",
    "# ]\n",
    "\n",
    "# all_sentence_abbr = []\n",
    "# for cur_claim in tqdm(unique_gold_claims):\n",
    "#     for model in models:\n",
    "#         all_sentence_abbr.extend(model.process_claim(cur_claim))\n"
   ]
  },
  {
   "cell_type": "code",
   "execution_count": 7,
   "metadata": {},
   "outputs": [],
   "source": [
    "from dataclasses import dataclass\n",
    "from typing import List, Dict\n",
    "from tqdm import tqdm\n",
    "\n",
    "\n",
    "\n",
    "class NERModel:\n",
    "    def __init__(self, model_name: str):\n",
    "        self.model = spacy.load(model_name)\n",
    "        self.entities = set()\n",
    "\n",
    "    def process_claim(self, claim: Claim) -> List[NEREntity]:\n",
    "        doc = self.model(claim.claim)\n",
    "        entities = []\n",
    "        for ent in doc.ents:\n",
    "            self.entities.add(str(ent))\n",
    "            entity = NEREntity(\n",
    "                claim_id=claim.id,\n",
    "                ner_text=str(ent),\n",
    "                ner_label=ent.label_,\n",
    "                ner_model=self.model.meta['name'],\n",
    "                start_char=ent.start_char,\n",
    "                end_char=ent.end_char\n",
    "            )\n",
    "            entities.append(entity)\n",
    "        return entities\n",
    "\n",
    "# models = [\n",
    "#     NERModel(\"en_ner_craft_md\"),\n",
    "#     NERModel(\"en_ner_bc5cdr_md\"),\n",
    "#     NERModel(\"en_ner_bionlp13cg_md\"),\n",
    "#     NERModel(\"en_ner_jnlpba_md\")\n",
    "# ]\n",
    "\n",
    "# all_sentence_word_ner = []\n",
    "# for cur_claim in tqdm(unique_gold_claims):\n",
    "#     for model in models:\n",
    "#         all_sentence_word_ner.extend(model.process_claim(cur_claim))\n"
   ]
  },
  {
   "cell_type": "code",
   "execution_count": 8,
   "metadata": {},
   "outputs": [],
   "source": [
    "class ClaimProcessor:\n",
    "    def __init__(self, ner_models: List[NERModel], abbr_models: List[AbbreviationModel]):\n",
    "        self.ner_models = ner_models\n",
    "        self.abbr_models = abbr_models\n",
    "\n",
    "    def process_claim(self, claim: Claim) -> Tuple[List[NEREntity], List[Abbreviation]]:\n",
    "        ner_entities = []\n",
    "        abbreviations = []\n",
    "        for model in self.ner_models:\n",
    "            ner_entities.extend(model.process_claim(claim))\n",
    "        for model in self.abbr_models:\n",
    "            abbreviations.extend(model.process_claim(claim))\n",
    "        return ner_entities, abbreviations\n"
   ]
  },
  {
   "cell_type": "code",
   "execution_count": 9,
   "metadata": {},
   "outputs": [
    {
     "name": "stderr",
     "output_type": "stream",
     "text": [
      "/home/qudratealahyratu/anaconda3/envs/scifact/lib/python3.7/site-packages/spacy/util.py:877: UserWarning: [W095] Model 'en_ner_craft_md' (0.5.0) was trained with spaCy v3.2 and may not be 100% compatible with the current version (3.4.4). If you see errors or degraded performance, download a newer compatible model or retrain your custom model with the current spaCy version. For more details and available updates, run: python -m spacy validate\n",
      "  warnings.warn(warn_msg)\n"
     ]
    },
    {
     "name": "stderr",
     "output_type": "stream",
     "text": [
      "/home/qudratealahyratu/anaconda3/envs/scifact/lib/python3.7/site-packages/spacy/util.py:877: UserWarning: [W095] Model 'en_ner_bc5cdr_md' (0.5.0) was trained with spaCy v3.2 and may not be 100% compatible with the current version (3.4.4). If you see errors or degraded performance, download a newer compatible model or retrain your custom model with the current spaCy version. For more details and available updates, run: python -m spacy validate\n",
      "  warnings.warn(warn_msg)\n",
      "/home/qudratealahyratu/anaconda3/envs/scifact/lib/python3.7/site-packages/spacy/util.py:877: UserWarning: [W095] Model 'en_ner_bionlp13cg_md' (0.5.0) was trained with spaCy v3.2 and may not be 100% compatible with the current version (3.4.4). If you see errors or degraded performance, download a newer compatible model or retrain your custom model with the current spaCy version. For more details and available updates, run: python -m spacy validate\n",
      "  warnings.warn(warn_msg)\n",
      "/home/qudratealahyratu/anaconda3/envs/scifact/lib/python3.7/site-packages/spacy/util.py:877: UserWarning: [W095] Model 'en_ner_jnlpba_md' (0.5.0) was trained with spaCy v3.2 and may not be 100% compatible with the current version (3.4.4). If you see errors or degraded performance, download a newer compatible model or retrain your custom model with the current spaCy version. For more details and available updates, run: python -m spacy validate\n",
      "  warnings.warn(warn_msg)\n"
     ]
    }
   ],
   "source": [
    "ner_models = [\n",
    "    NERModel(\"en_ner_craft_md\"),\n",
    "    NERModel(\"en_ner_bc5cdr_md\"),\n",
    "    NERModel(\"en_ner_bionlp13cg_md\"),\n",
    "    NERModel(\"en_ner_jnlpba_md\")\n",
    "]\n",
    "\n",
    "abbr_models = [\n",
    "    # AbbreviationModel(\"en_core_sci_scibert\"),\n",
    "    # AbbreviationModel(\"en_core_sci_lg\"),\n",
    "    AbbreviationModel(\"en_ner_craft_md\"),\n",
    "    AbbreviationModel(\"en_ner_bc5cdr_md\"),\n",
    "    AbbreviationModel(\"en_ner_bionlp13cg_md\"),\n",
    "    AbbreviationModel(\"en_ner_jnlpba_md\")\n",
    "]\n",
    "\n",
    "processor = ClaimProcessor(ner_models, abbr_models)"
   ]
  },
  {
   "cell_type": "code",
   "execution_count": 10,
   "metadata": {},
   "outputs": [
    {
     "name": "stderr",
     "output_type": "stream",
     "text": [
      "  0%|          | 0/297 [00:00<?, ?it/s]"
     ]
    },
    {
     "name": "stderr",
     "output_type": "stream",
     "text": [
      "/home/qudratealahyratu/anaconda3/envs/scifact/lib/python3.7/site-packages/scispacy/abbreviation.py:230: UserWarning: [W036] The component 'matcher' does not have any patterns defined.\n",
      "  global_matches = self.global_matcher(doc)\n",
      "100%|██████████| 297/297 [00:52<00:00,  5.66it/s]\n"
     ]
    }
   ],
   "source": [
    "all_sentence_ner = []\n",
    "all_sentence_abbr = []\n",
    "for cur_claim in tqdm(unique_gold_claims[:]):\n",
    "    ner_entities, abbreviations = processor.process_claim(cur_claim)\n",
    "    all_sentence_ner.extend(ner_entities)\n",
    "    all_sentence_abbr.extend(abbreviations)"
   ]
  },
  {
   "cell_type": "code",
   "execution_count": 16,
   "metadata": {},
   "outputs": [
    {
     "name": "stdout",
     "output_type": "stream",
     "text": [
      "NEREntity(claim_id=188, ner_text='Antibodies', ner_label='GO', ner_model='ner_craft_md', start_char=27, end_char=37)\n",
      "NEREntity(claim_id=188, ner_text='phospholipids', ner_label='CHEBI', ner_model='ner_craft_md', start_char=80, end_char=93)\n",
      "NEREntity(claim_id=188, ner_text='phospholipids', ner_label='CHEMICAL', ner_model='ner_bc5cdr_md', start_char=80, end_char=93)\n",
      "NEREntity(claim_id=188, ner_text='phospholipids', ner_label='SIMPLE_CHEMICAL', ner_model='ner_bionlp13cg_md', start_char=80, end_char=93)\n",
      "NEREntity(claim_id=188, ner_text='HIV-1 Neutralizing Antibodies', ner_label='PROTEIN', ner_model='ner_jnlpba_md', start_char=8, end_char=37)\n"
     ]
    },
    {
     "data": {
      "text/plain": [
       "[None, None, None, None, None]"
      ]
     },
     "execution_count": 16,
     "metadata": {},
     "output_type": "execute_result"
    }
   ],
   "source": [
    "[print(cur_claim) for cur_claim in all_sentence_ner if cur_claim.claim_id == 188]\n"
   ]
  },
  {
   "cell_type": "code",
   "execution_count": 14,
   "metadata": {},
   "outputs": [
    {
     "name": "stdout",
     "output_type": "stream",
     "text": [
      "Abbreviation(claim_id=188, abrv_text='bnAb', abr_definition='Broadly HIV-1 Neutralizing Antibodies', abr_model='ner_craft_md', sf_start_char=39, sf_end_char=43, lf_start_char=0, lf_end_char=37, abr_whole_start=0, abr_whole_end=43)\n",
      "Abbreviation(claim_id=188, abrv_text='bnAb', abr_definition='Broadly HIV-1 Neutralizing Antibodies', abr_model='ner_bc5cdr_md', sf_start_char=39, sf_end_char=43, lf_start_char=0, lf_end_char=37, abr_whole_start=0, abr_whole_end=43)\n",
      "Abbreviation(claim_id=188, abrv_text='bnAb', abr_definition='Broadly HIV-1 Neutralizing Antibodies', abr_model='ner_bionlp13cg_md', sf_start_char=39, sf_end_char=43, lf_start_char=0, lf_end_char=37, abr_whole_start=0, abr_whole_end=43)\n",
      "Abbreviation(claim_id=188, abrv_text='bnAb', abr_definition='Broadly HIV-1 Neutralizing Antibodies', abr_model='ner_jnlpba_md', sf_start_char=39, sf_end_char=43, lf_start_char=0, lf_end_char=37, abr_whole_start=0, abr_whole_end=43)\n"
     ]
    },
    {
     "data": {
      "text/plain": [
       "[None, None, None, None]"
      ]
     },
     "execution_count": 14,
     "metadata": {},
     "output_type": "execute_result"
    }
   ],
   "source": [
    "[print(cur_claim) for cur_claim in all_sentence_abbr if cur_claim.claim_id == 188]"
   ]
  },
  {
   "cell_type": "code",
   "execution_count": 13,
   "metadata": {},
   "outputs": [
    {
     "data": {
      "text/plain": [
       "[]"
      ]
     },
     "execution_count": 13,
     "metadata": {},
     "output_type": "execute_result"
    }
   ],
   "source": [
    "[print(cur_claim) for cur_claim in all_sentence_abbr if cur_claim.claim_id == 8]"
   ]
  },
  {
   "cell_type": "code",
   "execution_count": 15,
   "metadata": {},
   "outputs": [],
   "source": [
    "from typing import List\n",
    "\n",
    "def merge_overlapping_entities(entities: List[NEREntity]) -> List[NEREntity]:\n",
    "    # Sort entities by start index\n",
    "    entities.sort(key=lambda x: x.start_char)\n",
    "\n",
    "    merged_entities = []\n",
    "    current_entity = entities[0]\n",
    "\n",
    "    for entity in entities[1:]:\n",
    "        # If this entity overlaps with the current entity, merge them\n",
    "        if entity.start_char <= current_entity.end_char:\n",
    "            current_entity = NEREntity(\n",
    "                claim_id=current_entity.claim_id,\n",
    "                ner_text=current_entity.ner_text + entity.ner_text[current_entity.end_char - entity.start_char:],\n",
    "                ner_label=current_entity.ner_label,  # Keep the label of the first entity\n",
    "                ner_model=current_entity.ner_model,  # Keep the model of the first entity\n",
    "                start_char=current_entity.start_char,\n",
    "                end_char=max(current_entity.end_char, entity.end_char)\n",
    "            )\n",
    "        else:\n",
    "            # This entity doesn't overlap, so add the current entity to the list and start a new one\n",
    "            merged_entities.append(current_entity)\n",
    "            current_entity = entity\n",
    "\n",
    "    # Don't forget to add the last entity\n",
    "    merged_entities.append(current_entity)\n",
    "\n",
    "    return merged_entities\n"
   ]
  },
  {
   "cell_type": "code",
   "execution_count": 19,
   "metadata": {},
   "outputs": [],
   "source": [
    "from collections import defaultdict\n",
    "\n",
    "# Create a dictionary where each key is a claim ID and the value is a list of NEREntity objects for that claim\n",
    "entities_by_claim = defaultdict(list)\n",
    "for entity in all_sentence_word_ner:\n",
    "    entities_by_claim[entity.claim_id].append(entity)\n",
    "\n",
    "# Now you can merge the entities for each claim\n",
    "merged_entities = {}\n",
    "for claim_id, entities in entities_by_claim.items():\n",
    "    merged_entities[claim_id] = merge_overlapping_entities(entities)\n"
   ]
  },
  {
   "cell_type": "code",
   "execution_count": 21,
   "metadata": {},
   "outputs": [
    {
     "data": {
      "text/plain": [
       "[NEREntity(claim_id=8, ner_text='patients', ner_label='ORGANISM', ner_model='ner_bionlp13cg_md', start_char=7, end_char=15),\n",
       " NEREntity(claim_id=8, ner_text='melanoma', ner_label='DISEASE', ner_model='ner_bc5cdr_md', start_char=21, end_char=29),\n",
       " NEREntity(claim_id=8, ner_text='PD-1', ner_label='GENE_OR_GENE_PRODUCT', ner_model='ner_bionlp13cg_md', start_char=59, end_char=63),\n",
       " NEREntity(claim_id=8, ner_text='melanoma', ner_label='DISEASE', ner_model='ner_bc5cdr_md', start_char=112, end_char=120)]"
      ]
     },
     "execution_count": 21,
     "metadata": {},
     "output_type": "execute_result"
    }
   ],
   "source": [
    "merged_entities[8]"
   ]
  },
  {
   "cell_type": "code",
   "execution_count": 17,
   "metadata": {},
   "outputs": [],
   "source": [
    "from typing import List\n",
    "\n",
    "def merge_overlapping_abbreviations(abbreviations: List[Abbreviation]) -> List[Abbreviation]:\n",
    "    # Sort abbreviations by start index\n",
    "    abbreviations.sort(key=lambda x: x.sf_start_char)\n",
    "\n",
    "    merged_abbreviations = []\n",
    "    current_abbr = abbreviations[0]\n",
    "\n",
    "    for abbr in abbreviations[1:]:\n",
    "        # If this abbreviation overlaps with the current abbreviation, merge them\n",
    "        if abbr.sf_start_char <= current_abbr.sf_end_char:\n",
    "            current_abbr = Abbreviation(\n",
    "                claim_id=current_abbr.claim_id,\n",
    "                abrv_text=current_abbr.abrv_text + abbr.abrv_text[current_abbr.sf_end_char - abbr.sf_start_char:],\n",
    "                abr_definition=current_abbr.abr_definition,  # Keep the definition of the first abbreviation\n",
    "                abr_model=current_abbr.abr_model,  # Keep the model of the first abbreviation\n",
    "                sf_start_char=current_abbr.sf_start_char,\n",
    "                sf_end_char=max(current_abbr.sf_end_char, abbr.sf_end_char),\n",
    "                lf_start_char=current_abbr.lf_start_char,\n",
    "                lf_end_char=max(current_abbr.lf_end_char, abbr.lf_end_char),\n",
    "                abr_whole_start=current_abbr.abr_whole_start,\n",
    "                abr_whole_end=max(current_abbr.abr_whole_end, abbr.abr_whole_end)\n",
    "            )\n",
    "        else:\n",
    "            # This abbreviation doesn't overlap, so add the current abbreviation to the list and start a new one\n",
    "            merged_abbreviations.append(current_abbr)\n",
    "            current_abbr = abbr\n",
    "\n",
    "    # Don't forget to add the last abbreviation\n",
    "    merged_abbreviations.append(current_abbr)\n",
    "\n",
    "    return merged_abbreviations\n"
   ]
  },
  {
   "cell_type": "code",
   "execution_count": 21,
   "metadata": {},
   "outputs": [],
   "source": [
    "from collections import defaultdict\n",
    "abbr_by_claim = defaultdict(list)\n",
    "for abbr in all_sentence_abbr:\n",
    "    abbr_by_claim[abbr.claim_id].append(abbr)\n",
    "\n",
    "merged_abbreviations = {}\n",
    "for claim_id, abbreviations in abbr_by_claim.items():\n",
    "    merged_abbreviations[claim_id] = merge_overlapping_abbreviations(abbreviations)\n"
   ]
  },
  {
   "cell_type": "code",
   "execution_count": 23,
   "metadata": {},
   "outputs": [
    {
     "data": {
      "text/plain": [
       "[Abbreviation(claim_id=190, abrv_text='form', abr_definition='form (PCF', abr_model='ner_craft_md', sf_start_char=72, sf_end_char=76, lf_start_char=96, lf_end_char=105, abr_whole_start=72, abr_whole_end=105),\n",
       " Abbreviation(claim_id=190, abrv_text='BSF', abr_definition='bloodstream form', abr_model='ner_craft_md', sf_start_char=78, sf_end_char=81, lf_start_char=60, lf_end_char=76, abr_whole_start=60, abr_whole_end=81),\n",
       " Abbreviation(claim_id=190, abrv_text='form', abr_definition='form (PCF', abr_model='ner_craft_md', sf_start_char=96, sf_end_char=100, lf_start_char=96, lf_end_char=105, abr_whole_start=96, abr_whole_end=105),\n",
       " Abbreviation(claim_id=190, abrv_text='PCF', abr_definition='procyclic form', abr_model='ner_craft_md', sf_start_char=102, sf_end_char=105, lf_start_char=86, lf_end_char=100, abr_whole_start=86, abr_whole_end=105)]"
      ]
     },
     "execution_count": 23,
     "metadata": {},
     "output_type": "execute_result"
    }
   ],
   "source": [
    "merged_abbreviations[190]"
   ]
  },
  {
   "cell_type": "code",
   "execution_count": null,
   "metadata": {},
   "outputs": [],
   "source": []
  },
  {
   "cell_type": "code",
   "execution_count": null,
   "metadata": {},
   "outputs": [],
   "source": []
  },
  {
   "cell_type": "code",
   "execution_count": null,
   "metadata": {},
   "outputs": [],
   "source": []
  },
  {
   "attachments": {},
   "cell_type": "markdown",
   "metadata": {},
   "source": [
    "# Load Existing Dataframe to Prepare class"
   ]
  },
  {
   "cell_type": "code",
   "execution_count": 7,
   "metadata": {},
   "outputs": [],
   "source": [
    "import pandas as pd"
   ]
  },
  {
   "cell_type": "code",
   "execution_count": 15,
   "metadata": {},
   "outputs": [
    {
     "data": {
      "text/html": [
       "<div>\n",
       "<style scoped>\n",
       "    .dataframe tbody tr th:only-of-type {\n",
       "        vertical-align: middle;\n",
       "    }\n",
       "\n",
       "    .dataframe tbody tr th {\n",
       "        vertical-align: top;\n",
       "    }\n",
       "\n",
       "    .dataframe thead th {\n",
       "        text-align: right;\n",
       "    }\n",
       "</style>\n",
       "<table border=\"1\" class=\"dataframe\">\n",
       "  <thead>\n",
       "    <tr style=\"text-align: right;\">\n",
       "      <th></th>\n",
       "      <th>ner_text</th>\n",
       "      <th>ner_label</th>\n",
       "      <th>ner_model</th>\n",
       "      <th>claim</th>\n",
       "      <th>start_char</th>\n",
       "      <th>end_char</th>\n",
       "      <th>org_label</th>\n",
       "      <th>list_rationales</th>\n",
       "      <th>data_source</th>\n",
       "      <th>term_in_claim</th>\n",
       "    </tr>\n",
       "  </thead>\n",
       "  <tbody>\n",
       "    <tr>\n",
       "      <th>0</th>\n",
       "      <td>UK</td>\n",
       "      <td>GENE_OR_GENE_PRODUCT</td>\n",
       "      <td>en_ner_bionlp13cg_md</td>\n",
       "      <td>1 in 5 million in UK have abnormal PrP positiv...</td>\n",
       "      <td>18</td>\n",
       "      <td>20</td>\n",
       "      <td>REFUTES</td>\n",
       "      <td>[RESULTS Of the 32,441 appendix samples 16 wer...</td>\n",
       "      <td>train</td>\n",
       "      <td>UK</td>\n",
       "    </tr>\n",
       "    <tr>\n",
       "      <th>1</th>\n",
       "      <td>PrP</td>\n",
       "      <td>GENE_OR_GENE_PRODUCT</td>\n",
       "      <td>en_ner_bionlp13cg_md</td>\n",
       "      <td>1 in 5 million in UK have abnormal PrP positiv...</td>\n",
       "      <td>35</td>\n",
       "      <td>38</td>\n",
       "      <td>REFUTES</td>\n",
       "      <td>[RESULTS Of the 32,441 appendix samples 16 wer...</td>\n",
       "      <td>train</td>\n",
       "      <td>PrP</td>\n",
       "    </tr>\n",
       "    <tr>\n",
       "      <th>2</th>\n",
       "      <td>genomes</td>\n",
       "      <td>SO</td>\n",
       "      <td>en_ner_craft_md</td>\n",
       "      <td>1,000 genomes project enables mapping of genet...</td>\n",
       "      <td>6</td>\n",
       "      <td>13</td>\n",
       "      <td>SUPPORTS</td>\n",
       "      <td>[In conclusion, uncommon or rare genetic varia...</td>\n",
       "      <td>dev</td>\n",
       "      <td>genomes</td>\n",
       "    </tr>\n",
       "    <tr>\n",
       "      <th>3</th>\n",
       "      <td>genetic sequence</td>\n",
       "      <td>SO</td>\n",
       "      <td>en_ner_craft_md</td>\n",
       "      <td>1,000 genomes project enables mapping of genet...</td>\n",
       "      <td>41</td>\n",
       "      <td>57</td>\n",
       "      <td>SUPPORTS</td>\n",
       "      <td>[In conclusion, uncommon or rare genetic varia...</td>\n",
       "      <td>dev</td>\n",
       "      <td>genetic sequence</td>\n",
       "    </tr>\n",
       "    <tr>\n",
       "      <th>4</th>\n",
       "      <td>variants</td>\n",
       "      <td>SO</td>\n",
       "      <td>en_ner_craft_md</td>\n",
       "      <td>1,000 genomes project enables mapping of genet...</td>\n",
       "      <td>139</td>\n",
       "      <td>147</td>\n",
       "      <td>SUPPORTS</td>\n",
       "      <td>[In conclusion, uncommon or rare genetic varia...</td>\n",
       "      <td>dev</td>\n",
       "      <td>variants</td>\n",
       "    </tr>\n",
       "    <tr>\n",
       "      <th>...</th>\n",
       "      <td>...</td>\n",
       "      <td>...</td>\n",
       "      <td>...</td>\n",
       "      <td>...</td>\n",
       "      <td>...</td>\n",
       "      <td>...</td>\n",
       "      <td>...</td>\n",
       "      <td>...</td>\n",
       "      <td>...</td>\n",
       "      <td>...</td>\n",
       "    </tr>\n",
       "    <tr>\n",
       "      <th>1727</th>\n",
       "      <td>β-sheet</td>\n",
       "      <td>PROTEIN</td>\n",
       "      <td>en_ner_jnlpba_md</td>\n",
       "      <td>β-sheet opening occurs during pleurotolysin po...</td>\n",
       "      <td>0</td>\n",
       "      <td>7</td>\n",
       "      <td>SUPPORTS</td>\n",
       "      <td>[The major conformational changes in PlyB are ...</td>\n",
       "      <td>train</td>\n",
       "      <td>β-sheet</td>\n",
       "    </tr>\n",
       "    <tr>\n",
       "      <th>1728</th>\n",
       "      <td>pleurotolysin</td>\n",
       "      <td>PROTEIN</td>\n",
       "      <td>en_ner_jnlpba_md</td>\n",
       "      <td>β-sheet opening occurs during pleurotolysin po...</td>\n",
       "      <td>30</td>\n",
       "      <td>48</td>\n",
       "      <td>SUPPORTS</td>\n",
       "      <td>[The major conformational changes in PlyB are ...</td>\n",
       "      <td>train</td>\n",
       "      <td>pleurotolysin pore</td>\n",
       "    </tr>\n",
       "    <tr>\n",
       "      <th>1729</th>\n",
       "      <td>cRCT</td>\n",
       "      <td>EXPERIMENT</td>\n",
       "      <td>custom</td>\n",
       "      <td>Cost effectiveness evaluations based on cRCT d...</td>\n",
       "      <td>40</td>\n",
       "      <td>44</td>\n",
       "      <td>REFUTES</td>\n",
       "      <td>[CONCLUSIONS The published cost-effectiveness ...</td>\n",
       "      <td>train</td>\n",
       "      <td>cRCT</td>\n",
       "    </tr>\n",
       "    <tr>\n",
       "      <th>1730</th>\n",
       "      <td>embryonic stem cells (ESCs)</td>\n",
       "      <td>TAXON</td>\n",
       "      <td>custom</td>\n",
       "      <td>Androgenetic haploid mouse embryonic stem cell...</td>\n",
       "      <td>27</td>\n",
       "      <td>54</td>\n",
       "      <td>SUPPORTS</td>\n",
       "      <td>[Our results demonstrate that AG-haESCs can be...</td>\n",
       "      <td>train</td>\n",
       "      <td>embryonic stem cells (ESCs)</td>\n",
       "    </tr>\n",
       "    <tr>\n",
       "      <th>1731</th>\n",
       "      <td>embryonic fibroblasts</td>\n",
       "      <td>EXPERIMENT</td>\n",
       "      <td>custom</td>\n",
       "      <td>Ectopic expression of Sall4, Nanog, Esrrb, and...</td>\n",
       "      <td>105</td>\n",
       "      <td>126</td>\n",
       "      <td>SUPPORTS</td>\n",
       "      <td>[Based on tetraploid complementation, we found...</td>\n",
       "      <td>train</td>\n",
       "      <td>embryonic fibroblasts</td>\n",
       "    </tr>\n",
       "  </tbody>\n",
       "</table>\n",
       "<p>1660 rows × 10 columns</p>\n",
       "</div>"
      ],
      "text/plain": [
       "                         ner_text             ner_label             ner_model  \\\n",
       "0                              UK  GENE_OR_GENE_PRODUCT  en_ner_bionlp13cg_md   \n",
       "1                             PrP  GENE_OR_GENE_PRODUCT  en_ner_bionlp13cg_md   \n",
       "2                         genomes                    SO       en_ner_craft_md   \n",
       "3                genetic sequence                    SO       en_ner_craft_md   \n",
       "4                        variants                    SO       en_ner_craft_md   \n",
       "...                           ...                   ...                   ...   \n",
       "1727                      β-sheet               PROTEIN      en_ner_jnlpba_md   \n",
       "1728                pleurotolysin               PROTEIN      en_ner_jnlpba_md   \n",
       "1729                         cRCT            EXPERIMENT                custom   \n",
       "1730  embryonic stem cells (ESCs)                 TAXON                custom   \n",
       "1731        embryonic fibroblasts            EXPERIMENT                custom   \n",
       "\n",
       "                                                  claim start_char end_char  \\\n",
       "0     1 in 5 million in UK have abnormal PrP positiv...         18       20   \n",
       "1     1 in 5 million in UK have abnormal PrP positiv...         35       38   \n",
       "2     1,000 genomes project enables mapping of genet...          6       13   \n",
       "3     1,000 genomes project enables mapping of genet...         41       57   \n",
       "4     1,000 genomes project enables mapping of genet...        139      147   \n",
       "...                                                 ...        ...      ...   \n",
       "1727  β-sheet opening occurs during pleurotolysin po...          0        7   \n",
       "1728  β-sheet opening occurs during pleurotolysin po...         30       48   \n",
       "1729  Cost effectiveness evaluations based on cRCT d...         40       44   \n",
       "1730  Androgenetic haploid mouse embryonic stem cell...         27       54   \n",
       "1731  Ectopic expression of Sall4, Nanog, Esrrb, and...        105      126   \n",
       "\n",
       "     org_label                                    list_rationales data_source  \\\n",
       "0      REFUTES  [RESULTS Of the 32,441 appendix samples 16 wer...       train   \n",
       "1      REFUTES  [RESULTS Of the 32,441 appendix samples 16 wer...       train   \n",
       "2     SUPPORTS  [In conclusion, uncommon or rare genetic varia...         dev   \n",
       "3     SUPPORTS  [In conclusion, uncommon or rare genetic varia...         dev   \n",
       "4     SUPPORTS  [In conclusion, uncommon or rare genetic varia...         dev   \n",
       "...        ...                                                ...         ...   \n",
       "1727  SUPPORTS  [The major conformational changes in PlyB are ...       train   \n",
       "1728  SUPPORTS  [The major conformational changes in PlyB are ...       train   \n",
       "1729   REFUTES  [CONCLUSIONS The published cost-effectiveness ...       train   \n",
       "1730  SUPPORTS  [Our results demonstrate that AG-haESCs can be...       train   \n",
       "1731  SUPPORTS  [Based on tetraploid complementation, we found...       train   \n",
       "\n",
       "                    term_in_claim  \n",
       "0                              UK  \n",
       "1                             PrP  \n",
       "2                         genomes  \n",
       "3                genetic sequence  \n",
       "4                        variants  \n",
       "...                           ...  \n",
       "1727                      β-sheet  \n",
       "1728           pleurotolysin pore  \n",
       "1729                         cRCT  \n",
       "1730  embryonic stem cells (ESCs)  \n",
       "1731        embryonic fibroblasts  \n",
       "\n",
       "[1660 rows x 10 columns]"
      ]
     },
     "execution_count": 15,
     "metadata": {},
     "output_type": "execute_result"
    }
   ],
   "source": [
    "loc_df_scispacy_sentence_word_unq_ner_abr_filtered = '../data/meta/df_scispacy_sentence_word_unq_ner_abr_cust_2.pkl'\n",
    "df_scispacy_sentence_word_unq_ner_abr_filtered = pd.read_pickle(loc_df_scispacy_sentence_word_unq_ner_abr_filtered)\n",
    "df_scispacy_sentence_word_unq_ner_abr_filtered"
   ]
  },
  {
   "cell_type": "code",
   "execution_count": 13,
   "metadata": {},
   "outputs": [
    {
     "name": "stderr",
     "output_type": "stream",
     "text": [
      "101it [00:00, 2351.86it/s]"
     ]
    },
    {
     "name": "stdout",
     "output_type": "stream",
     "text": [
      "Claim not found for claim_txt: 1 in 5 million in UK have abnormal PrP positivity.\n",
      "Claim not found for claim_txt: 1 in 5 million in UK have abnormal PrP positivity.\n",
      "Claim not found for claim_txt: 1,000 genomes project enables mapping of genetic sequence variation consisting of rare variants with larger penetrance effects than common variants.\n",
      "Claim not found for claim_txt: 1,000 genomes project enables mapping of genetic sequence variation consisting of rare variants with larger penetrance effects than common variants.\n",
      "Claim not found for claim_txt: 1,000 genomes project enables mapping of genetic sequence variation consisting of rare variants with larger penetrance effects than common variants.\n",
      "Claim not found for claim_txt: 1/2000 in UK have abnormal PrP positivity.\n",
      "Claim not found for claim_txt: 1/2000 in UK have abnormal PrP positivity.\n",
      "Claim not found for claim_txt: 32% of liver transplantation programs required patients to discontinue methadone treatment in 2001.\n",
      "Claim not found for claim_txt: 32% of liver transplantation programs required patients to discontinue methadone treatment in 2001.\n",
      "Claim not found for claim_txt: 32% of liver transplantation programs required patients to discontinue methadone treatment in 2001.\n",
      "Claim not found for claim_txt: 40mg/day dosage of folic acid and 2mg/day dosage of vitamin B12 does not affect chronic kidney disease (CKD) progression.\n",
      "Claim not found for claim_txt: 40mg/day dosage of folic acid and 2mg/day dosage of vitamin B12 does not affect chronic kidney disease (CKD) progression.\n",
      "Claim not found for claim_txt: 40mg/day dosage of folic acid and 2mg/day dosage of vitamin B12 does not affect chronic kidney disease (CKD) progression.\n",
      "Claim not found for claim_txt: 40mg/day dosage of folic acid and 2mg/day dosage of vitamin B12 does not affect chronic kidney disease (CKD) progression.\n",
      "Claim not found for claim_txt: 40mg/day dosage of folic acid and 2mg/day dosage of vitamin B12 does not affect chronic kidney disease (CKD) progression.\n",
      "Claim not found for claim_txt: 76-85% of people with severe mental disorder receive no treatment in low and middle income countries.\n",
      "Claim not found for claim_txt: A T helper 2 cell (Th2) environment impedes disease development in patients with systemic lupus erythematosus (SLE).\n",
      "Claim not found for claim_txt: A T helper 2 cell (Th2) environment impedes disease development in patients with systemic lupus erythematosus (SLE).\n",
      "Claim not found for claim_txt: A T helper 2 cell (Th2) environment impedes disease development in patients with systemic lupus erythematosus (SLE).\n",
      "Claim not found for claim_txt: A breast cancer patient's capacity to metabolize tamoxifen influences treatment outcome.\n",
      "Claim not found for claim_txt: A breast cancer patient's capacity to metabolize tamoxifen influences treatment outcome.\n",
      "Claim not found for claim_txt: A country's Vaccine Alliance (GAVI) eligibility is not indictivate of accelerated adoption of the Hub vaccine.\n",
      "Claim not found for claim_txt: A country's Vaccine Alliance (GAVI) eligibility is not indictivate of accelerated adoption of the Hub vaccine.\n",
      "Claim not found for claim_txt: A deficiency of folate increases blood levels of homocysteine.\n",
      "Claim not found for claim_txt: A deficiency of folate increases blood levels of homocysteine.\n",
      "Claim not found for claim_txt: A deficiency of folate increases blood levels of homocysteine.\n",
      "Claim not found for claim_txt: A diminished ovarian reserve does not solely indicate infertility in an a priori non-infertile population.\n",
      "Claim not found for claim_txt: A diminished ovarian reserve does not solely indicate infertility in an a priori non-infertile population.\n",
      "Claim not found for claim_txt: A diminished ovarian reserve is a very strong indicator of infertility, even in an a priori non-infertile population.\n",
      "Claim not found for claim_txt: A diminished ovarian reserve is a very strong indicator of infertility, even in an a priori non-infertile population.\n",
      "Claim not found for claim_txt: A high microerythrocyte count protects against severe anemia in homozygous alpha (+)- thalassemia trait subjects.\n",
      "Claim not found for claim_txt: A high microerythrocyte count protects against severe anemia in homozygous alpha (+)- thalassemia trait subjects.\n",
      "Claim not found for claim_txt: A high microerythrocyte count protects against severe anemia in homozygous alpha (+)- thalassemia trait subjects.\n",
      "Claim not found for claim_txt: A high microerythrocyte count raises vulnerability to severe anemia in homozygous alpha (+)- thalassemia trait subjects.\n",
      "Claim not found for claim_txt: A high microerythrocyte count raises vulnerability to severe anemia in homozygous alpha (+)- thalassemia trait subjects.\n",
      "Claim not found for claim_txt: A mutation in HNF4A leads to an increased risk of developing diabetes by the age of 14 years.\n",
      "Claim not found for claim_txt: A mutation in HNF4A leads to an increased risk of developing diabetes by the age of 14 years.\n",
      "Claim not found for claim_txt: A mutation in HNF4A leads to an increased risk of developing diabetes by the age of 14 years.\n",
      "Claim not found for claim_txt: A single nucleotide variant the gene DGKK is strongly associated with increased risk of hypospadias.\n",
      "Claim not found for claim_txt: A single nucleotide variant the gene DGKK is strongly associated with increased risk of hypospadias.\n",
      "Claim not found for claim_txt: A single nucleotide variant the gene DGKK is strongly associated with increased risk of hypospadias.\n",
      "Claim not found for claim_txt: A single nucleotide variant the gene DGKK is strongly associated with increased risk of hypospadias.\n",
      "Claim not found for claim_txt: A strong bias in the phage genome locations where the spacers were derived has been observed in many CRISPR subtypes that confer the immunity to phage.\n",
      "Claim not found for claim_txt: A strong bias in the phage genome locations where the spacers were derived has been observed in many CRISPR subtypes that confer the immunity to phage.\n",
      "Claim not found for claim_txt: A total of 1,000 people in the UK are asymptomatic carriers of vCJD infection.\n",
      "Claim not found for claim_txt: A total of 1,000 people in the UK are asymptomatic carriers of vCJD infection.\n",
      "Claim not found for claim_txt: ADAR1 binds to Dicer to cleave pre-miRNA.\n",
      "Claim not found for claim_txt: ADAR1 binds to Dicer to cleave pre-miRNA.\n",
      "Claim not found for claim_txt: ADAR1 binds to Dicer to cleave pre-miRNA.\n",
      "Claim not found for claim_txt: AIRE is expressed in some skin tumors.\n",
      "Claim not found for claim_txt: AIRE is expressed in some skin tumors.\n",
      "Claim not found for claim_txt: ALDH1 expression is associated with better breast cancer outcomes.\n",
      "Claim not found for claim_txt: ALDH1 expression is associated with better breast cancer outcomes.\n",
      "Claim not found for claim_txt: ALDH1 expression is associated with poorer prognosis for breast cancer primary tumors.\n",
      "Claim not found for claim_txt: ALDH1 expression is associated with poorer prognosis for breast cancer primary tumors.\n",
      "Claim not found for claim_txt: ALDH1 expression is associated with poorer prognosis for breast cancer primary tumors.\n",
      "Claim not found for claim_txt: ALDH1 expression is associated with poorer prognosis in breast cancer.\n",
      "Claim not found for claim_txt: ALDH1 expression is associated with poorer prognosis in breast cancer.\n",
      "Claim not found for claim_txt: AMP-activated protein kinase (AMPK) activation increases inflammation-related fibrosis in the lungs.\n",
      "Claim not found for claim_txt: AMP-activated protein kinase (AMPK) activation increases inflammation-related fibrosis in the lungs.\n",
      "Claim not found for claim_txt: AMP-activated protein kinase (AMPK) activation increases inflammation-related fibrosis in the lungs.\n",
      "Claim not found for claim_txt: AMP-activated protein kinase (AMPK) activation reduces inflammation-related fibrosis in the lungs.\n",
      "Claim not found for claim_txt: AMP-activated protein kinase (AMPK) activation reduces inflammation-related fibrosis in the lungs.\n",
      "Claim not found for claim_txt: AMP-activated protein kinase (AMPK) activation reduces inflammation-related fibrosis in the lungs.\n",
      "Claim not found for claim_txt: APOE4 expression in iPSC-derived neurons increases AlphaBeta production and tau phosphorylation causing GABA neuron degeneration.\n",
      "Claim not found for claim_txt: APOE4 expression in iPSC-derived neurons increases AlphaBeta production and tau phosphorylation causing GABA neuron degeneration.\n",
      "Claim not found for claim_txt: APOE4 expression in iPSC-derived neurons increases AlphaBeta production and tau phosphorylation causing GABA neuron degeneration.\n",
      "Claim not found for claim_txt: APOE4 expression in iPSC-derived neurons increases AlphaBeta production and tau phosphorylation causing GABA neuron degeneration.\n",
      "Claim not found for claim_txt: APOE4 expression in iPSC-derived neurons increases AlphaBeta production and tau phosphorylation causing GABA neuron degeneration.\n",
      "Claim not found for claim_txt: APOE4 expression in iPSC-derived neurons increases AlphaBeta production and tau phosphorylation, delaying GABA neuron degeneration.\n",
      "Claim not found for claim_txt: APOE4 expression in iPSC-derived neurons increases AlphaBeta production and tau phosphorylation, delaying GABA neuron degeneration.\n",
      "Claim not found for claim_txt: APOE4 expression in iPSC-derived neurons increases AlphaBeta production and tau phosphorylation, delaying GABA neuron degeneration.\n",
      "Claim not found for claim_txt: APOE4 expression in iPSC-derived neurons increases AlphaBeta production and tau phosphorylation, delaying GABA neuron degeneration.\n",
      "Claim not found for claim_txt: APOE4 expression in iPSC-derived neurons increases AlphaBeta production and tau phosphorylation, delaying GABA neuron degeneration.\n",
      "Claim not found for claim_txt: APOE4 expression in iPSC-derived neurons results in decreased tau phosphorylation.\n",
      "Claim not found for claim_txt: APOE4 expression in iPSC-derived neurons results in decreased tau phosphorylation.\n",
      "Claim not found for claim_txt: APOE4 expression in iPSC-derived neurons results in decreased tau phosphorylation.\n",
      "Claim not found for claim_txt: ART has no effect on the infectiveness of HIV-positive people.\n",
      "Claim not found for claim_txt: ART has no effect on the infectiveness of HIV-positive people.\n",
      "Claim not found for claim_txt: ART substantially reduces infectiveness of HIV-positive people.\n",
      "Claim not found for claim_txt: Activated Cdk5 phosphorylates the ATM protein in response to DNA damage.\n",
      "Claim not found for claim_txt: Activated Cdk5 phosphorylates the ATM protein in response to DNA damage.\n",
      "Claim not found for claim_txt: Activated Cdk5 phosphorylates the ATM protein in response to DNA damage.\n",
      "Claim not found for claim_txt: Activated Cdk5 regulates DNA damage-induced neuronal death.\n",
      "Claim not found for claim_txt: Activated Cdk5 regulates DNA damage-induced neuronal death.\n",
      "Claim not found for claim_txt: Activated Cdk5 regulates DNA damage-induced neuronal death.\n",
      "Claim not found for claim_txt: Activation of PPM1D enhances p53 function.\n",
      "Claim not found for claim_txt: Activation of PPM1D enhances p53 function.\n",
      "Claim not found for claim_txt: Activation of PPM1D suppresses p53 function.\n",
      "Claim not found for claim_txt: Activation of PPM1D suppresses p53 function.\n",
      "Claim not found for claim_txt: Activation of the Rac1 homolog CED-10 kills viable cells in SRGP-1 mutant Caenorhabditis elegans.\n",
      "Claim not found for claim_txt: Activation of the Rac1 homolog CED-10 kills viable cells in SRGP-1 mutant Caenorhabditis elegans.\n",
      "Claim not found for claim_txt: Activation of the Rac1 homolog CED-10 kills viable cells in SRGP-1 mutant Caenorhabditis elegans.\n",
      "Claim not found for claim_txt: Active Ly49Q induces neutrophil polarization.\n",
      "Claim not found for claim_txt: Active Ly49Q induces neutrophil polarization.\n",
      "Claim not found for claim_txt: Active Ly49Q prevents neutrophil polarization.\n",
      "Claim not found for claim_txt: Active Ly49Q prevents neutrophil polarization.\n",
      "Claim not found for claim_txt: Active caspase-11 participate in regulating phagosome-lysosome fusion.\n",
      "Claim not found for claim_txt: Active caspase-11 participate in regulating phagosome-lysosome fusion.\n",
      "Claim not found for claim_txt: Active caspase-11 protein promotes pyroptosis.\n",
      "Claim not found for claim_txt: Adult tissue-resident macrophages are seeded before birth.\n"
     ]
    },
    {
     "name": "stderr",
     "output_type": "stream",
     "text": [
      "\n"
     ]
    },
    {
     "ename": "AttributeError",
     "evalue": "'NoneType' object has no attribute 'append'",
     "output_type": "error",
     "traceback": [
      "\u001b[0;31m---------------------------------------------------------------------------\u001b[0m",
      "\u001b[0;31mAttributeError\u001b[0m                            Traceback (most recent call last)",
      "\u001b[0;32m<ipython-input-13-b1d57998d075>\u001b[0m in \u001b[0;36m<module>\u001b[0;34m\u001b[0m\n\u001b[1;32m     25\u001b[0m     \u001b[0;32melse\u001b[0m\u001b[0;34m:\u001b[0m\u001b[0;34m\u001b[0m\u001b[0;34m\u001b[0m\u001b[0m\n\u001b[1;32m     26\u001b[0m         \u001b[0mentity\u001b[0m \u001b[0;34m=\u001b[0m \u001b[0mNEREntity\u001b[0m\u001b[0;34m(\u001b[0m\u001b[0mclaim_id\u001b[0m\u001b[0;34m=\u001b[0m\u001b[0mretrived_claim\u001b[0m\u001b[0;34m.\u001b[0m\u001b[0mid\u001b[0m\u001b[0;34m,\u001b[0m \u001b[0mner_text\u001b[0m\u001b[0;34m=\u001b[0m\u001b[0mner_text\u001b[0m\u001b[0;34m,\u001b[0m \u001b[0mner_label\u001b[0m\u001b[0;34m=\u001b[0m\u001b[0mner_label\u001b[0m\u001b[0;34m,\u001b[0m \u001b[0mner_model\u001b[0m\u001b[0;34m=\u001b[0m\u001b[0mner_model\u001b[0m\u001b[0;34m,\u001b[0m \u001b[0mstart_char\u001b[0m\u001b[0;34m=\u001b[0m\u001b[0mstart_char\u001b[0m\u001b[0;34m,\u001b[0m \u001b[0mend_char\u001b[0m\u001b[0;34m=\u001b[0m\u001b[0mend_char\u001b[0m\u001b[0;34m)\u001b[0m\u001b[0;34m\u001b[0m\u001b[0;34m\u001b[0m\u001b[0m\n\u001b[0;32m---> 27\u001b[0;31m         \u001b[0mretrived_claim\u001b[0m\u001b[0;34m.\u001b[0m\u001b[0mner_entities\u001b[0m\u001b[0;34m.\u001b[0m\u001b[0mappend\u001b[0m\u001b[0;34m(\u001b[0m\u001b[0mentity\u001b[0m\u001b[0;34m)\u001b[0m\u001b[0;34m\u001b[0m\u001b[0;34m\u001b[0m\u001b[0m\n\u001b[0m",
      "\u001b[0;31mAttributeError\u001b[0m: 'NoneType' object has no attribute 'append'"
     ]
    }
   ],
   "source": [
    "\"\"\"    \n",
    "    claim_id : int\n",
    "    ner_text: str\n",
    "    ner_label: str\n",
    "    ner_model: str\n",
    "    start_char: int\n",
    "    end_char: int    \n",
    "\"\"\"\n",
    "\n",
    "for index, row in tqdm(df_scispacy_sentence_word_unq_ner_abr_filtered.iterrows()):\n",
    "    # Access the 'sentence' and 'ner' columns of the row\n",
    "    \n",
    "    claim_txt = row['claim']\n",
    "    ner_text = row['ner_text']\n",
    "    ner_label = row['ner_label']\n",
    "    ner_model = row['ner_model']\n",
    "    start_char = row['start_char']\n",
    "    end_char = row['end_char']\n",
    "    term_in_claim = row['term_in_claim']\n",
    "    # Do something with the data\n",
    "    \n",
    "    retrived_claim = Claim.get_claim_by_text(claims= unique_gold_claims, claim_text= claim_txt)\n",
    "    if retrived_claim is None:\n",
    "        print(f\"Claim not found for claim_txt: {claim_txt}\")\n",
    "    else:\n",
    "        entity = NEREntity(claim_id=retrived_claim.id, ner_text=ner_text, ner_label=ner_label, ner_model=ner_model, start_char=start_char, end_char=end_char)\n",
    "        retrived_claim.ner_entities.append(entity)"
   ]
  },
  {
   "cell_type": "code",
   "execution_count": null,
   "metadata": {},
   "outputs": [],
   "source": []
  },
  {
   "cell_type": "code",
   "execution_count": null,
   "metadata": {},
   "outputs": [],
   "source": []
  },
  {
   "cell_type": "code",
   "execution_count": null,
   "metadata": {},
   "outputs": [],
   "source": []
  },
  {
   "cell_type": "code",
   "execution_count": null,
   "metadata": {},
   "outputs": [],
   "source": []
  },
  {
   "cell_type": "code",
   "execution_count": null,
   "metadata": {},
   "outputs": [],
   "source": []
  },
  {
   "cell_type": "code",
   "execution_count": 13,
   "metadata": {},
   "outputs": [
    {
     "name": "stderr",
     "output_type": "stream",
     "text": [
      "100%|██████████| 10/10 [00:00<00:00, 15839.52it/s]"
     ]
    },
    {
     "name": "stdout",
     "output_type": "stream",
     "text": [
      "10-20% of people with severe mental disorder receive no treatment in low and middle income countries.\n",
      "25% of patients with melanoma and an objective response to PD-1 blockade will experience a progression in their melanoma.\n",
      "50% of patients exposed to radiation have activated markers of myofibroblasts.\n",
      "8% of burn patients are admitted for hospitalization and further treatment after appearing at hospital emergency wards or outpatient clinics.\n",
      "A breast cancer patient's capacity to metabolize tamoxifen has no effect on treatment outcome.\n",
      "A country's Vaccine Alliance (GAVI) eligibility is associated with accelerated adoption of the Hub vaccine.\n",
      "A deficiency of folate decreases blood levels of homocysteine.\n",
      "A deficiency of vitamin B6 increases blood levels of homocysteine.\n",
      "APOE4 expression in iPSC-derived neurons results in increased tau phosphorylation.\n",
      "AZT given with ribavirin alleviates anemia.\n"
     ]
    },
    {
     "name": "stderr",
     "output_type": "stream",
     "text": [
      "\n"
     ]
    }
   ],
   "source": [
    "for cur_claim in tqdm(unique_gold_claims[:10]):\n",
    "    print(cur_claim.claim)"
   ]
  },
  {
   "cell_type": "code",
   "execution_count": null,
   "metadata": {},
   "outputs": [],
   "source": []
  }
 ],
 "metadata": {
  "kernelspec": {
   "display_name": "Python 3.7.11 ('scifact')",
   "language": "python",
   "name": "python3"
  },
  "language_info": {
   "codemirror_mode": {
    "name": "ipython",
    "version": 3
   },
   "file_extension": ".py",
   "mimetype": "text/x-python",
   "name": "python",
   "nbconvert_exporter": "python",
   "pygments_lexer": "ipython3",
   "version": "3.7.11"
  },
  "orig_nbformat": 4,
  "vscode": {
   "interpreter": {
    "hash": "0f28508567287f3243fa81c26f52e86f631e4a20d6b0e4ab397da90b0c5458c3"
   }
  }
 },
 "nbformat": 4,
 "nbformat_minor": 2
}
