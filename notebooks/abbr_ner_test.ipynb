{
 "cells": [
  {
   "attachments": {},
   "cell_type": "markdown",
   "metadata": {},
   "source": [
    "# Setting up experiment"
   ]
  },
  {
   "cell_type": "code",
   "execution_count": null,
   "metadata": {},
   "outputs": [],
   "source": []
  },
  {
   "cell_type": "code",
   "execution_count": null,
   "metadata": {},
   "outputs": [],
   "source": []
  },
  {
   "cell_type": "code",
   "execution_count": null,
   "metadata": {},
   "outputs": [],
   "source": []
  },
  {
   "attachments": {},
   "cell_type": "markdown",
   "metadata": {},
   "source": [
    "# Scrap"
   ]
  },
  {
   "attachments": {},
   "cell_type": "markdown",
   "metadata": {},
   "source": [
    "os.path.abspath(os.path.join('../'))"
   ]
  },
  {
   "attachments": {},
   "cell_type": "markdown",
   "metadata": {},
   "source": [
    "from T5ParEvo.src.data.data import Claim, Label, ClaimPredictions,GoldDataset"
   ]
  },
  {
   "cell_type": "code",
   "execution_count": 1,
   "metadata": {},
   "outputs": [
    {
     "name": "stdout",
     "output_type": "stream",
     "text": [
      "module_path :  /home/qudratealahyratu/research/nlp/fact_checking/my_work/T5ParEvo\n",
      "root dir :  /home/qudratealahyratu/research/nlp/fact_checking/my_work/T5ParEvo\n",
      "definitions.PROJECT_VARS.ROOT_DIR :  /home/qudratealahyratu/research/nlp/fact_checking/my_work/T5ParEvo\n",
      "os.path.dirname(definitions.PROJECT_VARS.ROOT_DIR) :  /home/qudratealahyratu/research/nlp/fact_checking/my_work\n",
      "/home/qudratealahyratu/research/nlp/fact_checking/my_work/T5ParEvo\n"
     ]
    },
    {
     "name": "stderr",
     "output_type": "stream",
     "text": [
      "/home/qudratealahyratu/anaconda3/envs/scifact/lib/python3.7/site-packages/pytorch_lightning/core/decorators.py:66: LightningDeprecationWarning: The `@auto_move_data` decorator is deprecated in v1.3 and will be removed in v1.5. Please use `trainer.predict` instead for inference. The decorator was applied to `predict`\n",
      "  \"The `@auto_move_data` decorator is deprecated in v1.3 and will be removed in v1.5.\"\n"
     ]
    }
   ],
   "source": [
    "import os\n",
    "import sys\n",
    "from tqdm import tqdm\n",
    "import argparse\n",
    "from pathlib import Path\n",
    "from dataclasses import dataclass\n",
    "from typing import Any, Dict, List,Tuple, Optional\n",
    "import json\n",
    "#\n",
    "module_path = os.path.abspath(os.path.join('../'))\n",
    "if module_path not in sys.path:\n",
    "    sys.path.insert(0,module_path)\n",
    "print('module_path : ', module_path)\n",
    "from config import SciFactT5Config\n",
    "import definitions\n",
    "sys.path.append(os.path.dirname(definitions.PROJECT_VARS.ROOT_DIR))\n",
    "print('definitions.PROJECT_VARS.ROOT_DIR : ', definitions.PROJECT_VARS.ROOT_DIR)\n",
    "print('os.path.dirname(definitions.PROJECT_VARS.ROOT_DIR) : ',os.path.dirname(definitions.PROJECT_VARS.ROOT_DIR))\n",
    "#\n",
    "\n",
    "from T5ParEvo.src.data.data import Claim, Label, ClaimPredictions,GoldDataset\n",
    "from T5ParEvo.src.linguistic.ner_abbr import NEREntity, Abbreviation\n",
    "from multivers import util\n",
    "from multivers.data_r import ClaimDataLoaderGenerator, get_dataloader, DataLoaderGenerator\n",
    "from multivers.model_r import MultiVerSModel\n",
    "\n",
    "from T5ParEvo.target_system.multivers.multivers_interface import PredictionParams, ModelPredictor"
   ]
  },
  {
   "attachments": {},
   "cell_type": "markdown",
   "metadata": {},
   "source": [
    "import sys\n",
    "module_path = os.path.abspath(os.path.join('../'))\n",
    "if module_path not in sys.path:\n",
    "    sys.path.insert(0,module_path)\n",
    "sys.path.remove('/home/qudratealahyratu/research/nlp/fact_checking/my_work/T5ParEvo/notebooks')\n",
    "print(sys.path)"
   ]
  },
  {
   "attachments": {},
   "cell_type": "markdown",
   "metadata": {},
   "source": [
    "from T5ParEvo.src.data.data import Claim, Label, ClaimPredictions,GoldDataset"
   ]
  },
  {
   "attachments": {},
   "cell_type": "markdown",
   "metadata": {},
   "source": [
    "\n",
    "import os\n",
    "os.path.abspath(os.path.join('../'))"
   ]
  },
  {
   "attachments": {},
   "cell_type": "markdown",
   "metadata": {},
   "source": [
    "import sys\n",
    "sys.path\n",
    "sys.path.remove('/home/qudratealahyratu/research/nlp/fact_checking/my_work/T5ParEvo/notebooks')\n",
    "import notebooks\n",
    "print(notebooks.__version__)"
   ]
  },
  {
   "attachments": {},
   "cell_type": "markdown",
   "metadata": {},
   "source": [
    "print(module_path)\n",
    "print(definitions.PROJECT_VARS.ROOT_DIR)\n",
    "print(os.path.dirname(definitions.PROJECT_VARS.ROOT_DIR))"
   ]
  },
  {
   "attachments": {},
   "cell_type": "markdown",
   "metadata": {},
   "source": [
    "import pkg_resources\n",
    "\n",
    "version = pkg_resources.get_distribution(\"notebooks\").version"
   ]
  },
  {
   "cell_type": "code",
   "execution_count": 2,
   "metadata": {
    "notebookRunGroups": {
     "groupValue": ""
    }
   },
   "outputs": [],
   "source": [
    "# This dataset to be used only for training\n",
    "cfg= SciFactT5Config()\n",
    "ds_train = GoldDataset(cfg.target_dataset.loc_target_dataset_corpus,\n",
    "                    cfg.target_dataset.loc_target_dataset_train)\n",
    "claim_train = ds_train.get_claim(39)"
   ]
  },
  {
   "cell_type": "code",
   "execution_count": 3,
   "metadata": {},
   "outputs": [],
   "source": [
    "\n",
    "params = PredictionParams(\n",
    "    checkpoint_path= \"/home/qudratealahyratu/research/nlp/fact_checking/my_work/multivers/checkpoints/scifact.ckpt\",\n",
    "    output_file= None,#\"prediction/pred_opt_scifact.jsonl\",\n",
    "    batch_size=5,\n",
    "    device=0,\n",
    "    num_workers=4,\n",
    "    no_nei=False,\n",
    "    force_rationale=False,\n",
    "    debug=False,\n",
    ")\n",
    "corpus_file = cfg.target_dataset.loc_target_dataset_corpus#cfg.target_dataset.loc_target_dataset_test#\"/home/qudratealahyratu/research/nlp/fact_checking/my_work/multivers/data/scifact/corpus.jsonl\"\n",
    "    \n",
    "\n",
    "gold_claims = []\n",
    "claims_path = cfg.target_dataset.loc_target_dataset_test#'/home/qudratealahyratu/research/nlp/fact_checking/my_work/multivers/data/scifact/claims_test_retrived.jsonl'\n",
    "with open(claims_path, 'r') as f:\n",
    "    for line in f:\n",
    "        data = json.loads(line)\n",
    "        claim = Claim(id = data['id'], claim = data['claim'], cited_docs = data['doc_ids'], evidence = {},release = None)\n",
    "        gold_claims.append(claim)\n",
    "\n",
    "#get unique claims\n",
    "unique_gold_claims = Claim.get_unique_claims(gold_claims)\n",
    "# Predict for unique claims\n",
    "# dataloader_generator = DataLoaderGenerator(params, unique_gold_claims, corpus_file)\n",
    "# dataloader = dataloader_generator.get_dataloader_by_claims()\n",
    "# predictor = ModelPredictor(params, dataloader)\n",
    "# prediction_formatted = predictor.run()"
   ]
  },
  {
   "cell_type": "code",
   "execution_count": 4,
   "metadata": {},
   "outputs": [
    {
     "data": {
      "text/plain": [
       "[Example 7: 10-20% of people with severe mental disorder receive no treatment in low and middle income countries.,\n",
       " Example 8: 25% of patients with melanoma and an objective response to PD-1 blockade will experience a progression in their melanoma.,\n",
       " Example 16: 50% of patients exposed to radiation have activated markers of myofibroblasts.,\n",
       " Example 23: 8% of burn patients are admitted for hospitalization and further treatment after appearing at hospital emergency wards or outpatient clinics.,\n",
       " Example 29: A breast cancer patient's capacity to metabolize tamoxifen has no effect on treatment outcome.,\n",
       " Example 31: A country's Vaccine Alliance (GAVI) eligibility is associated with accelerated adoption of the Hub vaccine.,\n",
       " Example 33: A deficiency of folate decreases blood levels of homocysteine.,\n",
       " Example 38: A deficiency of vitamin B6 increases blood levels of homocysteine.,\n",
       " Example 59: APOE4 expression in iPSC-derived neurons results in increased tau phosphorylation.,\n",
       " Example 65: AZT given with ribavirin alleviates anemia.]"
      ]
     },
     "execution_count": 4,
     "metadata": {},
     "output_type": "execute_result"
    }
   ],
   "source": [
    "unique_gold_claims[:10]"
   ]
  },
  {
   "cell_type": "code",
   "execution_count": 6,
   "metadata": {},
   "outputs": [
    {
     "ename": "ModuleNotFoundError",
     "evalue": "No module named 'T5ParEvo.src.languistic'",
     "output_type": "error",
     "traceback": [
      "\u001b[0;31m---------------------------------------------------------------------------\u001b[0m",
      "\u001b[0;31mModuleNotFoundError\u001b[0m                       Traceback (most recent call last)",
      "\u001b[0;32m/tmp/ipykernel_19966/2570170922.py\u001b[0m in \u001b[0;36m<module>\u001b[0;34m\u001b[0m\n\u001b[0;32m----> 1\u001b[0;31m \u001b[0;32mfrom\u001b[0m \u001b[0mT5ParEvo\u001b[0m\u001b[0;34m.\u001b[0m\u001b[0msrc\u001b[0m\u001b[0;34m.\u001b[0m\u001b[0mlanguistic\u001b[0m\u001b[0;34m.\u001b[0m\u001b[0mner_abbr\u001b[0m \u001b[0;32mimport\u001b[0m \u001b[0mAbbreviationModel\u001b[0m\u001b[0;34m,\u001b[0m \u001b[0mNERModel\u001b[0m\u001b[0;34m,\u001b[0m \u001b[0mNEREntity\u001b[0m\u001b[0;34m,\u001b[0m \u001b[0mAbbreviation\u001b[0m\u001b[0;34m\u001b[0m\u001b[0;34m\u001b[0m\u001b[0m\n\u001b[0m",
      "\u001b[0;31mModuleNotFoundError\u001b[0m: No module named 'T5ParEvo.src.languistic'"
     ]
    }
   ],
   "source": [
    "from T5ParEvo.src.languistic.ner_abbr import AbbreviationModel, NERModel, NEREntity, Abbreviation"
   ]
  },
  {
   "cell_type": "code",
   "execution_count": null,
   "metadata": {},
   "outputs": [],
   "source": [
    "ner_models = [\n",
    "    NERModel(\"en_ner_craft_md\"),\n",
    "    NERModel(\"en_ner_bc5cdr_md\"),\n",
    "    NERModel(\"en_ner_bionlp13cg_md\"),\n",
    "    NERModel(\"en_ner_jnlpba_md\")\n",
    "]\n",
    "\n",
    "abbr_models = [\n",
    "    AbbreviationModel(\"en_core_sci_scibert\"),\n",
    "    AbbreviationModel(\"en_core_sci_lg\"),\n",
    "    AbbreviationModel(\"en_ner_craft_md\"),\n",
    "    AbbreviationModel(\"en_ner_bc5cdr_md\"),\n",
    "    AbbreviationModel(\"en_ner_bionlp13cg_md\"),\n",
    "    AbbreviationModel(\"en_ner_jnlpba_md\")\n",
    "]\n"
   ]
  },
  {
   "cell_type": "code",
   "execution_count": null,
   "metadata": {},
   "outputs": [],
   "source": []
  },
  {
   "cell_type": "code",
   "execution_count": null,
   "metadata": {},
   "outputs": [],
   "source": []
  },
  {
   "cell_type": "code",
   "execution_count": null,
   "metadata": {},
   "outputs": [],
   "source": []
  },
  {
   "cell_type": "code",
   "execution_count": null,
   "metadata": {},
   "outputs": [],
   "source": []
  },
  {
   "cell_type": "code",
   "execution_count": null,
   "metadata": {},
   "outputs": [],
   "source": []
  },
  {
   "attachments": {},
   "cell_type": "markdown",
   "metadata": {},
   "source": [
    "nlp_sci_brt = spacy.load(\"en_core_sci_scibert\")\n",
    "\n",
    "nlp_sci_brt.add_pipe(\"abbreviation_detector\")"
   ]
  },
  {
   "cell_type": "code",
   "execution_count": 5,
   "metadata": {},
   "outputs": [],
   "source": [
    "import spacy\n",
    "from dataclasses import dataclass\n",
    "from typing import List, Dict\n",
    "from tqdm import tqdm\n",
    "from scispacy.abbreviation import AbbreviationDetector\n",
    "activated = spacy.prefer_gpu()"
   ]
  },
  {
   "cell_type": "code",
   "execution_count": 6,
   "metadata": {},
   "outputs": [],
   "source": [
    "\n",
    "\n",
    "\n",
    "class AbbreviationModel:\n",
    "    def __init__(self, model_name: str):\n",
    "        # activated = spacy.prefer_gpu()\n",
    "        self.model = spacy.load(model_name)\n",
    "        self.model.add_pipe(\"abbreviation_detector\")\n",
    "        self.abbreviations = set()\n",
    "\n",
    "    def process_claim(self, claim: Claim) -> List[Abbreviation]:\n",
    "        doc = self.model(claim.claim)\n",
    "        abbrs = []\n",
    "        for abr in doc._.abbreviations:\n",
    "            self.abbreviations.add(str(abr))\n",
    "            abbr = Abbreviation(\n",
    "                claim_id=claim.id,\n",
    "                abrv_text=str(abr),\n",
    "                abr_definition=str(abr._.long_form),\n",
    "                abr_model=self.model.meta['name'],\n",
    "                sf_start_char=abr.start_char,\n",
    "                sf_end_char=abr.end_char,\n",
    "                lf_start_char=abr._.long_form.start_char,\n",
    "                lf_end_char=abr._.long_form.end_char,\n",
    "            )\n",
    "            if (abr.end_char - abr.start_char > 0) & (abr._.long_form.end_char - abr._.long_form.start_char > 0):\n",
    "                if (abr.start_char - abr._.long_form.end_char < 4) | (abr._.long_form.start_char - abr.end_char < 4):\n",
    "                    abbr.abr_whole_start = min(abr.start_char, abr._.long_form.start_char)\n",
    "                    abbr.abr_whole_end = max(abr.end_char, abr._.long_form.end_char)\n",
    "            abbrs.append(abbr)\n",
    "        return abbrs\n",
    "\n",
    "# models = [\n",
    "#     AbbreviationModel(\"en_core_sci_scibert\"),\n",
    "#     AbbreviationModel(\"en_core_sci_lg\"),\n",
    "#     AbbreviationModel(\"en_ner_craft_md\"),\n",
    "#     AbbreviationModel(\"en_ner_bc5cdr_md\"),\n",
    "#     AbbreviationModel(\"en_ner_bionlp13cg_md\"),\n",
    "#     AbbreviationModel(\"en_ner_jnlpba_md\")\n",
    "# ]\n",
    "\n",
    "# all_sentence_abbr = []\n",
    "# for cur_claim in tqdm(unique_gold_claims):\n",
    "#     for model in models:\n",
    "#         all_sentence_abbr.extend(model.process_claim(cur_claim))\n"
   ]
  },
  {
   "cell_type": "code",
   "execution_count": 7,
   "metadata": {},
   "outputs": [],
   "source": [
    "from dataclasses import dataclass\n",
    "from typing import List, Dict\n",
    "from tqdm import tqdm\n",
    "\n",
    "\n",
    "\n",
    "class NERModel:\n",
    "    def __init__(self, model_name: str):\n",
    "        self.model = spacy.load(model_name)\n",
    "        self.entities = set()\n",
    "\n",
    "    def process_claim(self, claim: Claim) -> List[NEREntity]:\n",
    "        doc = self.model(claim.claim)\n",
    "        entities = []\n",
    "        for ent in doc.ents:\n",
    "            self.entities.add(str(ent))\n",
    "            entity = NEREntity(\n",
    "                claim_id=claim.id,\n",
    "                ner_text=str(ent),\n",
    "                ner_label=ent.label_,\n",
    "                ner_model=self.model.meta['name'],\n",
    "                start_char=ent.start_char,\n",
    "                end_char=ent.end_char\n",
    "            )\n",
    "            entities.append(entity)\n",
    "        return entities\n",
    "\n",
    "# models = [\n",
    "#     NERModel(\"en_ner_craft_md\"),\n",
    "#     NERModel(\"en_ner_bc5cdr_md\"),\n",
    "#     NERModel(\"en_ner_bionlp13cg_md\"),\n",
    "#     NERModel(\"en_ner_jnlpba_md\")\n",
    "# ]\n",
    "\n",
    "# all_sentence_word_ner = []\n",
    "# for cur_claim in tqdm(unique_gold_claims):\n",
    "#     for model in models:\n",
    "#         all_sentence_word_ner.extend(model.process_claim(cur_claim))\n"
   ]
  },
  {
   "cell_type": "code",
   "execution_count": 8,
   "metadata": {},
   "outputs": [],
   "source": [
    "class ClaimProcessor:\n",
    "    def __init__(self, ner_models: List[NERModel], abbr_models: List[AbbreviationModel]):\n",
    "        self.ner_models = ner_models\n",
    "        self.abbr_models = abbr_models\n",
    "\n",
    "    def process_claim(self, claim: Claim) -> Tuple[List[NEREntity], List[Abbreviation]]:\n",
    "        ner_entities = []\n",
    "        abbreviations = []\n",
    "        for model in self.ner_models:\n",
    "            ner_entities.extend(model.process_claim(claim))\n",
    "        for model in self.abbr_models:\n",
    "            abbreviations.extend(model.process_claim(claim))\n",
    "        return ner_entities, abbreviations\n"
   ]
  },
  {
   "cell_type": "code",
   "execution_count": 9,
   "metadata": {},
   "outputs": [
    {
     "name": "stderr",
     "output_type": "stream",
     "text": [
      "/home/qudratealahyratu/anaconda3/envs/scifact/lib/python3.7/site-packages/spacy/util.py:877: UserWarning: [W095] Model 'en_ner_craft_md' (0.5.0) was trained with spaCy v3.2 and may not be 100% compatible with the current version (3.4.4). If you see errors or degraded performance, download a newer compatible model or retrain your custom model with the current spaCy version. For more details and available updates, run: python -m spacy validate\n",
      "  warnings.warn(warn_msg)\n"
     ]
    },
    {
     "name": "stderr",
     "output_type": "stream",
     "text": [
      "/home/qudratealahyratu/anaconda3/envs/scifact/lib/python3.7/site-packages/spacy/util.py:877: UserWarning: [W095] Model 'en_ner_bc5cdr_md' (0.5.0) was trained with spaCy v3.2 and may not be 100% compatible with the current version (3.4.4). If you see errors or degraded performance, download a newer compatible model or retrain your custom model with the current spaCy version. For more details and available updates, run: python -m spacy validate\n",
      "  warnings.warn(warn_msg)\n",
      "/home/qudratealahyratu/anaconda3/envs/scifact/lib/python3.7/site-packages/spacy/util.py:877: UserWarning: [W095] Model 'en_ner_bionlp13cg_md' (0.5.0) was trained with spaCy v3.2 and may not be 100% compatible with the current version (3.4.4). If you see errors or degraded performance, download a newer compatible model or retrain your custom model with the current spaCy version. For more details and available updates, run: python -m spacy validate\n",
      "  warnings.warn(warn_msg)\n",
      "/home/qudratealahyratu/anaconda3/envs/scifact/lib/python3.7/site-packages/spacy/util.py:877: UserWarning: [W095] Model 'en_ner_jnlpba_md' (0.5.0) was trained with spaCy v3.2 and may not be 100% compatible with the current version (3.4.4). If you see errors or degraded performance, download a newer compatible model or retrain your custom model with the current spaCy version. For more details and available updates, run: python -m spacy validate\n",
      "  warnings.warn(warn_msg)\n"
     ]
    }
   ],
   "source": [
    "ner_models = [\n",
    "    NERModel(\"en_ner_craft_md\"),\n",
    "    NERModel(\"en_ner_bc5cdr_md\"),\n",
    "    NERModel(\"en_ner_bionlp13cg_md\"),\n",
    "    NERModel(\"en_ner_jnlpba_md\")\n",
    "]\n",
    "\n",
    "abbr_models = [\n",
    "    # AbbreviationModel(\"en_core_sci_scibert\"),\n",
    "    # AbbreviationModel(\"en_core_sci_lg\"),\n",
    "    AbbreviationModel(\"en_ner_craft_md\"),\n",
    "    AbbreviationModel(\"en_ner_bc5cdr_md\"),\n",
    "    AbbreviationModel(\"en_ner_bionlp13cg_md\"),\n",
    "    AbbreviationModel(\"en_ner_jnlpba_md\")\n",
    "]\n",
    "\n",
    "processor = ClaimProcessor(ner_models, abbr_models)"
   ]
  },
  {
   "cell_type": "code",
   "execution_count": 10,
   "metadata": {},
   "outputs": [
    {
     "name": "stderr",
     "output_type": "stream",
     "text": [
      "  0%|          | 0/297 [00:00<?, ?it/s]"
     ]
    },
    {
     "name": "stderr",
     "output_type": "stream",
     "text": [
      "/home/qudratealahyratu/anaconda3/envs/scifact/lib/python3.7/site-packages/scispacy/abbreviation.py:230: UserWarning: [W036] The component 'matcher' does not have any patterns defined.\n",
      "  global_matches = self.global_matcher(doc)\n",
      "100%|██████████| 297/297 [00:52<00:00,  5.66it/s]\n"
     ]
    }
   ],
   "source": [
    "all_sentence_ner = []\n",
    "all_sentence_abbr = []\n",
    "for cur_claim in tqdm(unique_gold_claims[:]):\n",
    "    ner_entities, abbreviations = processor.process_claim(cur_claim)\n",
    "    all_sentence_ner.extend(ner_entities)\n",
    "    all_sentence_abbr.extend(abbreviations)"
   ]
  },
  {
   "cell_type": "code",
   "execution_count": 16,
   "metadata": {},
   "outputs": [
    {
     "name": "stdout",
     "output_type": "stream",
     "text": [
      "NEREntity(claim_id=188, ner_text='Antibodies', ner_label='GO', ner_model='ner_craft_md', start_char=27, end_char=37)\n",
      "NEREntity(claim_id=188, ner_text='phospholipids', ner_label='CHEBI', ner_model='ner_craft_md', start_char=80, end_char=93)\n",
      "NEREntity(claim_id=188, ner_text='phospholipids', ner_label='CHEMICAL', ner_model='ner_bc5cdr_md', start_char=80, end_char=93)\n",
      "NEREntity(claim_id=188, ner_text='phospholipids', ner_label='SIMPLE_CHEMICAL', ner_model='ner_bionlp13cg_md', start_char=80, end_char=93)\n",
      "NEREntity(claim_id=188, ner_text='HIV-1 Neutralizing Antibodies', ner_label='PROTEIN', ner_model='ner_jnlpba_md', start_char=8, end_char=37)\n"
     ]
    },
    {
     "data": {
      "text/plain": [
       "[None, None, None, None, None]"
      ]
     },
     "execution_count": 16,
     "metadata": {},
     "output_type": "execute_result"
    }
   ],
   "source": [
    "[print(cur_claim) for cur_claim in all_sentence_ner if cur_claim.claim_id == 188]\n"
   ]
  },
  {
   "cell_type": "code",
   "execution_count": 14,
   "metadata": {},
   "outputs": [
    {
     "name": "stdout",
     "output_type": "stream",
     "text": [
      "Abbreviation(claim_id=188, abrv_text='bnAb', abr_definition='Broadly HIV-1 Neutralizing Antibodies', abr_model='ner_craft_md', sf_start_char=39, sf_end_char=43, lf_start_char=0, lf_end_char=37, abr_whole_start=0, abr_whole_end=43)\n",
      "Abbreviation(claim_id=188, abrv_text='bnAb', abr_definition='Broadly HIV-1 Neutralizing Antibodies', abr_model='ner_bc5cdr_md', sf_start_char=39, sf_end_char=43, lf_start_char=0, lf_end_char=37, abr_whole_start=0, abr_whole_end=43)\n",
      "Abbreviation(claim_id=188, abrv_text='bnAb', abr_definition='Broadly HIV-1 Neutralizing Antibodies', abr_model='ner_bionlp13cg_md', sf_start_char=39, sf_end_char=43, lf_start_char=0, lf_end_char=37, abr_whole_start=0, abr_whole_end=43)\n",
      "Abbreviation(claim_id=188, abrv_text='bnAb', abr_definition='Broadly HIV-1 Neutralizing Antibodies', abr_model='ner_jnlpba_md', sf_start_char=39, sf_end_char=43, lf_start_char=0, lf_end_char=37, abr_whole_start=0, abr_whole_end=43)\n"
     ]
    },
    {
     "data": {
      "text/plain": [
       "[None, None, None, None]"
      ]
     },
     "execution_count": 14,
     "metadata": {},
     "output_type": "execute_result"
    }
   ],
   "source": [
    "[print(cur_claim) for cur_claim in all_sentence_abbr if cur_claim.claim_id == 188]"
   ]
  },
  {
   "cell_type": "code",
   "execution_count": 13,
   "metadata": {},
   "outputs": [
    {
     "data": {
      "text/plain": [
       "[]"
      ]
     },
     "execution_count": 13,
     "metadata": {},
     "output_type": "execute_result"
    }
   ],
   "source": [
    "[print(cur_claim) for cur_claim in all_sentence_abbr if cur_claim.claim_id == 8]"
   ]
  },
  {
   "cell_type": "code",
   "execution_count": 15,
   "metadata": {},
   "outputs": [],
   "source": [
    "from typing import List\n",
    "\n",
    "def merge_overlapping_entities(entities: List[NEREntity]) -> List[NEREntity]:\n",
    "    # Sort entities by start index\n",
    "    entities.sort(key=lambda x: x.start_char)\n",
    "\n",
    "    merged_entities = []\n",
    "    current_entity = entities[0]\n",
    "\n",
    "    for entity in entities[1:]:\n",
    "        # If this entity overlaps with the current entity, merge them\n",
    "        if entity.start_char <= current_entity.end_char:\n",
    "            current_entity = NEREntity(\n",
    "                claim_id=current_entity.claim_id,\n",
    "                ner_text=current_entity.ner_text + entity.ner_text[current_entity.end_char - entity.start_char:],\n",
    "                ner_label=current_entity.ner_label,  # Keep the label of the first entity\n",
    "                ner_model=current_entity.ner_model,  # Keep the model of the first entity\n",
    "                start_char=current_entity.start_char,\n",
    "                end_char=max(current_entity.end_char, entity.end_char)\n",
    "            )\n",
    "        else:\n",
    "            # This entity doesn't overlap, so add the current entity to the list and start a new one\n",
    "            merged_entities.append(current_entity)\n",
    "            current_entity = entity\n",
    "\n",
    "    # Don't forget to add the last entity\n",
    "    merged_entities.append(current_entity)\n",
    "\n",
    "    return merged_entities\n"
   ]
  },
  {
   "cell_type": "code",
   "execution_count": 19,
   "metadata": {},
   "outputs": [],
   "source": [
    "from collections import defaultdict\n",
    "\n",
    "# Create a dictionary where each key is a claim ID and the value is a list of NEREntity objects for that claim\n",
    "entities_by_claim = defaultdict(list)\n",
    "for entity in all_sentence_word_ner:\n",
    "    entities_by_claim[entity.claim_id].append(entity)\n",
    "\n",
    "# Now you can merge the entities for each claim\n",
    "merged_entities = {}\n",
    "for claim_id, entities in entities_by_claim.items():\n",
    "    merged_entities[claim_id] = merge_overlapping_entities(entities)\n"
   ]
  },
  {
   "cell_type": "code",
   "execution_count": 21,
   "metadata": {},
   "outputs": [
    {
     "data": {
      "text/plain": [
       "[NEREntity(claim_id=8, ner_text='patients', ner_label='ORGANISM', ner_model='ner_bionlp13cg_md', start_char=7, end_char=15),\n",
       " NEREntity(claim_id=8, ner_text='melanoma', ner_label='DISEASE', ner_model='ner_bc5cdr_md', start_char=21, end_char=29),\n",
       " NEREntity(claim_id=8, ner_text='PD-1', ner_label='GENE_OR_GENE_PRODUCT', ner_model='ner_bionlp13cg_md', start_char=59, end_char=63),\n",
       " NEREntity(claim_id=8, ner_text='melanoma', ner_label='DISEASE', ner_model='ner_bc5cdr_md', start_char=112, end_char=120)]"
      ]
     },
     "execution_count": 21,
     "metadata": {},
     "output_type": "execute_result"
    }
   ],
   "source": [
    "merged_entities[8]"
   ]
  },
  {
   "cell_type": "code",
   "execution_count": 17,
   "metadata": {},
   "outputs": [],
   "source": [
    "from typing import List\n",
    "\n",
    "def merge_overlapping_abbreviations(abbreviations: List[Abbreviation]) -> List[Abbreviation]:\n",
    "    # Sort abbreviations by start index\n",
    "    abbreviations.sort(key=lambda x: x.sf_start_char)\n",
    "\n",
    "    merged_abbreviations = []\n",
    "    current_abbr = abbreviations[0]\n",
    "\n",
    "    for abbr in abbreviations[1:]:\n",
    "        # If this abbreviation overlaps with the current abbreviation, merge them\n",
    "        if abbr.sf_start_char <= current_abbr.sf_end_char:\n",
    "            current_abbr = Abbreviation(\n",
    "                claim_id=current_abbr.claim_id,\n",
    "                abrv_text=current_abbr.abrv_text + abbr.abrv_text[current_abbr.sf_end_char - abbr.sf_start_char:],\n",
    "                abr_definition=current_abbr.abr_definition,  # Keep the definition of the first abbreviation\n",
    "                abr_model=current_abbr.abr_model,  # Keep the model of the first abbreviation\n",
    "                sf_start_char=current_abbr.sf_start_char,\n",
    "                sf_end_char=max(current_abbr.sf_end_char, abbr.sf_end_char),\n",
    "                lf_start_char=current_abbr.lf_start_char,\n",
    "                lf_end_char=max(current_abbr.lf_end_char, abbr.lf_end_char),\n",
    "                abr_whole_start=current_abbr.abr_whole_start,\n",
    "                abr_whole_end=max(current_abbr.abr_whole_end, abbr.abr_whole_end)\n",
    "            )\n",
    "        else:\n",
    "            # This abbreviation doesn't overlap, so add the current abbreviation to the list and start a new one\n",
    "            merged_abbreviations.append(current_abbr)\n",
    "            current_abbr = abbr\n",
    "\n",
    "    # Don't forget to add the last abbreviation\n",
    "    merged_abbreviations.append(current_abbr)\n",
    "\n",
    "    return merged_abbreviations\n"
   ]
  },
  {
   "cell_type": "code",
   "execution_count": 21,
   "metadata": {},
   "outputs": [],
   "source": [
    "from collections import defaultdict\n",
    "abbr_by_claim = defaultdict(list)\n",
    "for abbr in all_sentence_abbr:\n",
    "    abbr_by_claim[abbr.claim_id].append(abbr)\n",
    "\n",
    "merged_abbreviations = {}\n",
    "for claim_id, abbreviations in abbr_by_claim.items():\n",
    "    merged_abbreviations[claim_id] = merge_overlapping_abbreviations(abbreviations)\n"
   ]
  },
  {
   "cell_type": "code",
   "execution_count": 23,
   "metadata": {},
   "outputs": [
    {
     "data": {
      "text/plain": [
       "[Abbreviation(claim_id=190, abrv_text='form', abr_definition='form (PCF', abr_model='ner_craft_md', sf_start_char=72, sf_end_char=76, lf_start_char=96, lf_end_char=105, abr_whole_start=72, abr_whole_end=105),\n",
       " Abbreviation(claim_id=190, abrv_text='BSF', abr_definition='bloodstream form', abr_model='ner_craft_md', sf_start_char=78, sf_end_char=81, lf_start_char=60, lf_end_char=76, abr_whole_start=60, abr_whole_end=81),\n",
       " Abbreviation(claim_id=190, abrv_text='form', abr_definition='form (PCF', abr_model='ner_craft_md', sf_start_char=96, sf_end_char=100, lf_start_char=96, lf_end_char=105, abr_whole_start=96, abr_whole_end=105),\n",
       " Abbreviation(claim_id=190, abrv_text='PCF', abr_definition='procyclic form', abr_model='ner_craft_md', sf_start_char=102, sf_end_char=105, lf_start_char=86, lf_end_char=100, abr_whole_start=86, abr_whole_end=105)]"
      ]
     },
     "execution_count": 23,
     "metadata": {},
     "output_type": "execute_result"
    }
   ],
   "source": [
    "merged_abbreviations[190]"
   ]
  },
  {
   "cell_type": "code",
   "execution_count": null,
   "metadata": {},
   "outputs": [],
   "source": []
  },
  {
   "cell_type": "code",
   "execution_count": null,
   "metadata": {},
   "outputs": [],
   "source": []
  },
  {
   "cell_type": "code",
   "execution_count": null,
   "metadata": {},
   "outputs": [],
   "source": []
  },
  {
   "attachments": {},
   "cell_type": "markdown",
   "metadata": {},
   "source": [
    "# Load Existing Dataframe to Prepare class"
   ]
  },
  {
   "cell_type": "code",
   "execution_count": 7,
   "metadata": {},
   "outputs": [],
   "source": [
    "import pandas as pd"
   ]
  },
  {
   "cell_type": "code",
   "execution_count": 15,
   "metadata": {},
   "outputs": [
    {
     "data": {
      "text/html": [
       "<div>\n",
       "<style scoped>\n",
       "    .dataframe tbody tr th:only-of-type {\n",
       "        vertical-align: middle;\n",
       "    }\n",
       "\n",
       "    .dataframe tbody tr th {\n",
       "        vertical-align: top;\n",
       "    }\n",
       "\n",
       "    .dataframe thead th {\n",
       "        text-align: right;\n",
       "    }\n",
       "</style>\n",
       "<table border=\"1\" class=\"dataframe\">\n",
       "  <thead>\n",
       "    <tr style=\"text-align: right;\">\n",
       "      <th></th>\n",
       "      <th>ner_text</th>\n",
       "      <th>ner_label</th>\n",
       "      <th>ner_model</th>\n",
       "      <th>claim</th>\n",
       "      <th>start_char</th>\n",
       "      <th>end_char</th>\n",
       "      <th>org_label</th>\n",
       "      <th>list_rationales</th>\n",
       "      <th>data_source</th>\n",
       "      <th>term_in_claim</th>\n",
       "    </tr>\n",
       "  </thead>\n",
       "  <tbody>\n",
       "    <tr>\n",
       "      <th>0</th>\n",
       "      <td>UK</td>\n",
       "      <td>GENE_OR_GENE_PRODUCT</td>\n",
       "      <td>en_ner_bionlp13cg_md</td>\n",
       "      <td>1 in 5 million in UK have abnormal PrP positiv...</td>\n",
       "      <td>18</td>\n",
       "      <td>20</td>\n",
       "      <td>REFUTES</td>\n",
       "      <td>[RESULTS Of the 32,441 appendix samples 16 wer...</td>\n",
       "      <td>train</td>\n",
       "      <td>UK</td>\n",
       "    </tr>\n",
       "    <tr>\n",
       "      <th>1</th>\n",
       "      <td>PrP</td>\n",
       "      <td>GENE_OR_GENE_PRODUCT</td>\n",
       "      <td>en_ner_bionlp13cg_md</td>\n",
       "      <td>1 in 5 million in UK have abnormal PrP positiv...</td>\n",
       "      <td>35</td>\n",
       "      <td>38</td>\n",
       "      <td>REFUTES</td>\n",
       "      <td>[RESULTS Of the 32,441 appendix samples 16 wer...</td>\n",
       "      <td>train</td>\n",
       "      <td>PrP</td>\n",
       "    </tr>\n",
       "    <tr>\n",
       "      <th>2</th>\n",
       "      <td>genomes</td>\n",
       "      <td>SO</td>\n",
       "      <td>en_ner_craft_md</td>\n",
       "      <td>1,000 genomes project enables mapping of genet...</td>\n",
       "      <td>6</td>\n",
       "      <td>13</td>\n",
       "      <td>SUPPORTS</td>\n",
       "      <td>[In conclusion, uncommon or rare genetic varia...</td>\n",
       "      <td>dev</td>\n",
       "      <td>genomes</td>\n",
       "    </tr>\n",
       "    <tr>\n",
       "      <th>3</th>\n",
       "      <td>genetic sequence</td>\n",
       "      <td>SO</td>\n",
       "      <td>en_ner_craft_md</td>\n",
       "      <td>1,000 genomes project enables mapping of genet...</td>\n",
       "      <td>41</td>\n",
       "      <td>57</td>\n",
       "      <td>SUPPORTS</td>\n",
       "      <td>[In conclusion, uncommon or rare genetic varia...</td>\n",
       "      <td>dev</td>\n",
       "      <td>genetic sequence</td>\n",
       "    </tr>\n",
       "    <tr>\n",
       "      <th>4</th>\n",
       "      <td>variants</td>\n",
       "      <td>SO</td>\n",
       "      <td>en_ner_craft_md</td>\n",
       "      <td>1,000 genomes project enables mapping of genet...</td>\n",
       "      <td>139</td>\n",
       "      <td>147</td>\n",
       "      <td>SUPPORTS</td>\n",
       "      <td>[In conclusion, uncommon or rare genetic varia...</td>\n",
       "      <td>dev</td>\n",
       "      <td>variants</td>\n",
       "    </tr>\n",
       "    <tr>\n",
       "      <th>...</th>\n",
       "      <td>...</td>\n",
       "      <td>...</td>\n",
       "      <td>...</td>\n",
       "      <td>...</td>\n",
       "      <td>...</td>\n",
       "      <td>...</td>\n",
       "      <td>...</td>\n",
       "      <td>...</td>\n",
       "      <td>...</td>\n",
       "      <td>...</td>\n",
       "    </tr>\n",
       "    <tr>\n",
       "      <th>1727</th>\n",
       "      <td>β-sheet</td>\n",
       "      <td>PROTEIN</td>\n",
       "      <td>en_ner_jnlpba_md</td>\n",
       "      <td>β-sheet opening occurs during pleurotolysin po...</td>\n",
       "      <td>0</td>\n",
       "      <td>7</td>\n",
       "      <td>SUPPORTS</td>\n",
       "      <td>[The major conformational changes in PlyB are ...</td>\n",
       "      <td>train</td>\n",
       "      <td>β-sheet</td>\n",
       "    </tr>\n",
       "    <tr>\n",
       "      <th>1728</th>\n",
       "      <td>pleurotolysin</td>\n",
       "      <td>PROTEIN</td>\n",
       "      <td>en_ner_jnlpba_md</td>\n",
       "      <td>β-sheet opening occurs during pleurotolysin po...</td>\n",
       "      <td>30</td>\n",
       "      <td>48</td>\n",
       "      <td>SUPPORTS</td>\n",
       "      <td>[The major conformational changes in PlyB are ...</td>\n",
       "      <td>train</td>\n",
       "      <td>pleurotolysin pore</td>\n",
       "    </tr>\n",
       "    <tr>\n",
       "      <th>1729</th>\n",
       "      <td>cRCT</td>\n",
       "      <td>EXPERIMENT</td>\n",
       "      <td>custom</td>\n",
       "      <td>Cost effectiveness evaluations based on cRCT d...</td>\n",
       "      <td>40</td>\n",
       "      <td>44</td>\n",
       "      <td>REFUTES</td>\n",
       "      <td>[CONCLUSIONS The published cost-effectiveness ...</td>\n",
       "      <td>train</td>\n",
       "      <td>cRCT</td>\n",
       "    </tr>\n",
       "    <tr>\n",
       "      <th>1730</th>\n",
       "      <td>embryonic stem cells (ESCs)</td>\n",
       "      <td>TAXON</td>\n",
       "      <td>custom</td>\n",
       "      <td>Androgenetic haploid mouse embryonic stem cell...</td>\n",
       "      <td>27</td>\n",
       "      <td>54</td>\n",
       "      <td>SUPPORTS</td>\n",
       "      <td>[Our results demonstrate that AG-haESCs can be...</td>\n",
       "      <td>train</td>\n",
       "      <td>embryonic stem cells (ESCs)</td>\n",
       "    </tr>\n",
       "    <tr>\n",
       "      <th>1731</th>\n",
       "      <td>embryonic fibroblasts</td>\n",
       "      <td>EXPERIMENT</td>\n",
       "      <td>custom</td>\n",
       "      <td>Ectopic expression of Sall4, Nanog, Esrrb, and...</td>\n",
       "      <td>105</td>\n",
       "      <td>126</td>\n",
       "      <td>SUPPORTS</td>\n",
       "      <td>[Based on tetraploid complementation, we found...</td>\n",
       "      <td>train</td>\n",
       "      <td>embryonic fibroblasts</td>\n",
       "    </tr>\n",
       "  </tbody>\n",
       "</table>\n",
       "<p>1660 rows × 10 columns</p>\n",
       "</div>"
      ],
      "text/plain": [
       "                         ner_text             ner_label             ner_model  \\\n",
       "0                              UK  GENE_OR_GENE_PRODUCT  en_ner_bionlp13cg_md   \n",
       "1                             PrP  GENE_OR_GENE_PRODUCT  en_ner_bionlp13cg_md   \n",
       "2                         genomes                    SO       en_ner_craft_md   \n",
       "3                genetic sequence                    SO       en_ner_craft_md   \n",
       "4                        variants                    SO       en_ner_craft_md   \n",
       "...                           ...                   ...                   ...   \n",
       "1727                      β-sheet               PROTEIN      en_ner_jnlpba_md   \n",
       "1728                pleurotolysin               PROTEIN      en_ner_jnlpba_md   \n",
       "1729                         cRCT            EXPERIMENT                custom   \n",
       "1730  embryonic stem cells (ESCs)                 TAXON                custom   \n",
       "1731        embryonic fibroblasts            EXPERIMENT                custom   \n",
       "\n",
       "                                                  claim start_char end_char  \\\n",
       "0     1 in 5 million in UK have abnormal PrP positiv...         18       20   \n",
       "1     1 in 5 million in UK have abnormal PrP positiv...         35       38   \n",
       "2     1,000 genomes project enables mapping of genet...          6       13   \n",
       "3     1,000 genomes project enables mapping of genet...         41       57   \n",
       "4     1,000 genomes project enables mapping of genet...        139      147   \n",
       "...                                                 ...        ...      ...   \n",
       "1727  β-sheet opening occurs during pleurotolysin po...          0        7   \n",
       "1728  β-sheet opening occurs during pleurotolysin po...         30       48   \n",
       "1729  Cost effectiveness evaluations based on cRCT d...         40       44   \n",
       "1730  Androgenetic haploid mouse embryonic stem cell...         27       54   \n",
       "1731  Ectopic expression of Sall4, Nanog, Esrrb, and...        105      126   \n",
       "\n",
       "     org_label                                    list_rationales data_source  \\\n",
       "0      REFUTES  [RESULTS Of the 32,441 appendix samples 16 wer...       train   \n",
       "1      REFUTES  [RESULTS Of the 32,441 appendix samples 16 wer...       train   \n",
       "2     SUPPORTS  [In conclusion, uncommon or rare genetic varia...         dev   \n",
       "3     SUPPORTS  [In conclusion, uncommon or rare genetic varia...         dev   \n",
       "4     SUPPORTS  [In conclusion, uncommon or rare genetic varia...         dev   \n",
       "...        ...                                                ...         ...   \n",
       "1727  SUPPORTS  [The major conformational changes in PlyB are ...       train   \n",
       "1728  SUPPORTS  [The major conformational changes in PlyB are ...       train   \n",
       "1729   REFUTES  [CONCLUSIONS The published cost-effectiveness ...       train   \n",
       "1730  SUPPORTS  [Our results demonstrate that AG-haESCs can be...       train   \n",
       "1731  SUPPORTS  [Based on tetraploid complementation, we found...       train   \n",
       "\n",
       "                    term_in_claim  \n",
       "0                              UK  \n",
       "1                             PrP  \n",
       "2                         genomes  \n",
       "3                genetic sequence  \n",
       "4                        variants  \n",
       "...                           ...  \n",
       "1727                      β-sheet  \n",
       "1728           pleurotolysin pore  \n",
       "1729                         cRCT  \n",
       "1730  embryonic stem cells (ESCs)  \n",
       "1731        embryonic fibroblasts  \n",
       "\n",
       "[1660 rows x 10 columns]"
      ]
     },
     "execution_count": 15,
     "metadata": {},
     "output_type": "execute_result"
    }
   ],
   "source": [
    "loc_df_scispacy_sentence_word_unq_ner_abr_filtered = '../data/meta/df_scispacy_sentence_word_unq_ner_abr_cust_2.pkl'\n",
    "df_scispacy_sentence_word_unq_ner_abr_filtered = pd.read_pickle(loc_df_scispacy_sentence_word_unq_ner_abr_filtered)\n",
    "df_scispacy_sentence_word_unq_ner_abr_filtered"
   ]
  },
  {
   "cell_type": "code",
   "execution_count": 13,
   "metadata": {},
   "outputs": [
    {
     "name": "stderr",
     "output_type": "stream",
     "text": [
      "101it [00:00, 2351.86it/s]"
     ]
    },
    {
     "name": "stdout",
     "output_type": "stream",
     "text": [
      "Claim not found for claim_txt: 1 in 5 million in UK have abnormal PrP positivity.\n",
      "Claim not found for claim_txt: 1 in 5 million in UK have abnormal PrP positivity.\n",
      "Claim not found for claim_txt: 1,000 genomes project enables mapping of genetic sequence variation consisting of rare variants with larger penetrance effects than common variants.\n",
      "Claim not found for claim_txt: 1,000 genomes project enables mapping of genetic sequence variation consisting of rare variants with larger penetrance effects than common variants.\n",
      "Claim not found for claim_txt: 1,000 genomes project enables mapping of genetic sequence variation consisting of rare variants with larger penetrance effects than common variants.\n",
      "Claim not found for claim_txt: 1/2000 in UK have abnormal PrP positivity.\n",
      "Claim not found for claim_txt: 1/2000 in UK have abnormal PrP positivity.\n",
      "Claim not found for claim_txt: 32% of liver transplantation programs required patients to discontinue methadone treatment in 2001.\n",
      "Claim not found for claim_txt: 32% of liver transplantation programs required patients to discontinue methadone treatment in 2001.\n",
      "Claim not found for claim_txt: 32% of liver transplantation programs required patients to discontinue methadone treatment in 2001.\n",
      "Claim not found for claim_txt: 40mg/day dosage of folic acid and 2mg/day dosage of vitamin B12 does not affect chronic kidney disease (CKD) progression.\n",
      "Claim not found for claim_txt: 40mg/day dosage of folic acid and 2mg/day dosage of vitamin B12 does not affect chronic kidney disease (CKD) progression.\n",
      "Claim not found for claim_txt: 40mg/day dosage of folic acid and 2mg/day dosage of vitamin B12 does not affect chronic kidney disease (CKD) progression.\n",
      "Claim not found for claim_txt: 40mg/day dosage of folic acid and 2mg/day dosage of vitamin B12 does not affect chronic kidney disease (CKD) progression.\n",
      "Claim not found for claim_txt: 40mg/day dosage of folic acid and 2mg/day dosage of vitamin B12 does not affect chronic kidney disease (CKD) progression.\n",
      "Claim not found for claim_txt: 76-85% of people with severe mental disorder receive no treatment in low and middle income countries.\n",
      "Claim not found for claim_txt: A T helper 2 cell (Th2) environment impedes disease development in patients with systemic lupus erythematosus (SLE).\n",
      "Claim not found for claim_txt: A T helper 2 cell (Th2) environment impedes disease development in patients with systemic lupus erythematosus (SLE).\n",
      "Claim not found for claim_txt: A T helper 2 cell (Th2) environment impedes disease development in patients with systemic lupus erythematosus (SLE).\n",
      "Claim not found for claim_txt: A breast cancer patient's capacity to metabolize tamoxifen influences treatment outcome.\n",
      "Claim not found for claim_txt: A breast cancer patient's capacity to metabolize tamoxifen influences treatment outcome.\n",
      "Claim not found for claim_txt: A country's Vaccine Alliance (GAVI) eligibility is not indictivate of accelerated adoption of the Hub vaccine.\n",
      "Claim not found for claim_txt: A country's Vaccine Alliance (GAVI) eligibility is not indictivate of accelerated adoption of the Hub vaccine.\n",
      "Claim not found for claim_txt: A deficiency of folate increases blood levels of homocysteine.\n",
      "Claim not found for claim_txt: A deficiency of folate increases blood levels of homocysteine.\n",
      "Claim not found for claim_txt: A deficiency of folate increases blood levels of homocysteine.\n",
      "Claim not found for claim_txt: A diminished ovarian reserve does not solely indicate infertility in an a priori non-infertile population.\n",
      "Claim not found for claim_txt: A diminished ovarian reserve does not solely indicate infertility in an a priori non-infertile population.\n",
      "Claim not found for claim_txt: A diminished ovarian reserve is a very strong indicator of infertility, even in an a priori non-infertile population.\n",
      "Claim not found for claim_txt: A diminished ovarian reserve is a very strong indicator of infertility, even in an a priori non-infertile population.\n",
      "Claim not found for claim_txt: A high microerythrocyte count protects against severe anemia in homozygous alpha (+)- thalassemia trait subjects.\n",
      "Claim not found for claim_txt: A high microerythrocyte count protects against severe anemia in homozygous alpha (+)- thalassemia trait subjects.\n",
      "Claim not found for claim_txt: A high microerythrocyte count protects against severe anemia in homozygous alpha (+)- thalassemia trait subjects.\n",
      "Claim not found for claim_txt: A high microerythrocyte count raises vulnerability to severe anemia in homozygous alpha (+)- thalassemia trait subjects.\n",
      "Claim not found for claim_txt: A high microerythrocyte count raises vulnerability to severe anemia in homozygous alpha (+)- thalassemia trait subjects.\n",
      "Claim not found for claim_txt: A mutation in HNF4A leads to an increased risk of developing diabetes by the age of 14 years.\n",
      "Claim not found for claim_txt: A mutation in HNF4A leads to an increased risk of developing diabetes by the age of 14 years.\n",
      "Claim not found for claim_txt: A mutation in HNF4A leads to an increased risk of developing diabetes by the age of 14 years.\n",
      "Claim not found for claim_txt: A single nucleotide variant the gene DGKK is strongly associated with increased risk of hypospadias.\n",
      "Claim not found for claim_txt: A single nucleotide variant the gene DGKK is strongly associated with increased risk of hypospadias.\n",
      "Claim not found for claim_txt: A single nucleotide variant the gene DGKK is strongly associated with increased risk of hypospadias.\n",
      "Claim not found for claim_txt: A single nucleotide variant the gene DGKK is strongly associated with increased risk of hypospadias.\n",
      "Claim not found for claim_txt: A strong bias in the phage genome locations where the spacers were derived has been observed in many CRISPR subtypes that confer the immunity to phage.\n",
      "Claim not found for claim_txt: A strong bias in the phage genome locations where the spacers were derived has been observed in many CRISPR subtypes that confer the immunity to phage.\n",
      "Claim not found for claim_txt: A total of 1,000 people in the UK are asymptomatic carriers of vCJD infection.\n",
      "Claim not found for claim_txt: A total of 1,000 people in the UK are asymptomatic carriers of vCJD infection.\n",
      "Claim not found for claim_txt: ADAR1 binds to Dicer to cleave pre-miRNA.\n",
      "Claim not found for claim_txt: ADAR1 binds to Dicer to cleave pre-miRNA.\n",
      "Claim not found for claim_txt: ADAR1 binds to Dicer to cleave pre-miRNA.\n",
      "Claim not found for claim_txt: AIRE is expressed in some skin tumors.\n",
      "Claim not found for claim_txt: AIRE is expressed in some skin tumors.\n",
      "Claim not found for claim_txt: ALDH1 expression is associated with better breast cancer outcomes.\n",
      "Claim not found for claim_txt: ALDH1 expression is associated with better breast cancer outcomes.\n",
      "Claim not found for claim_txt: ALDH1 expression is associated with poorer prognosis for breast cancer primary tumors.\n",
      "Claim not found for claim_txt: ALDH1 expression is associated with poorer prognosis for breast cancer primary tumors.\n",
      "Claim not found for claim_txt: ALDH1 expression is associated with poorer prognosis for breast cancer primary tumors.\n",
      "Claim not found for claim_txt: ALDH1 expression is associated with poorer prognosis in breast cancer.\n",
      "Claim not found for claim_txt: ALDH1 expression is associated with poorer prognosis in breast cancer.\n",
      "Claim not found for claim_txt: AMP-activated protein kinase (AMPK) activation increases inflammation-related fibrosis in the lungs.\n",
      "Claim not found for claim_txt: AMP-activated protein kinase (AMPK) activation increases inflammation-related fibrosis in the lungs.\n",
      "Claim not found for claim_txt: AMP-activated protein kinase (AMPK) activation increases inflammation-related fibrosis in the lungs.\n",
      "Claim not found for claim_txt: AMP-activated protein kinase (AMPK) activation reduces inflammation-related fibrosis in the lungs.\n",
      "Claim not found for claim_txt: AMP-activated protein kinase (AMPK) activation reduces inflammation-related fibrosis in the lungs.\n",
      "Claim not found for claim_txt: AMP-activated protein kinase (AMPK) activation reduces inflammation-related fibrosis in the lungs.\n",
      "Claim not found for claim_txt: APOE4 expression in iPSC-derived neurons increases AlphaBeta production and tau phosphorylation causing GABA neuron degeneration.\n",
      "Claim not found for claim_txt: APOE4 expression in iPSC-derived neurons increases AlphaBeta production and tau phosphorylation causing GABA neuron degeneration.\n",
      "Claim not found for claim_txt: APOE4 expression in iPSC-derived neurons increases AlphaBeta production and tau phosphorylation causing GABA neuron degeneration.\n",
      "Claim not found for claim_txt: APOE4 expression in iPSC-derived neurons increases AlphaBeta production and tau phosphorylation causing GABA neuron degeneration.\n",
      "Claim not found for claim_txt: APOE4 expression in iPSC-derived neurons increases AlphaBeta production and tau phosphorylation causing GABA neuron degeneration.\n",
      "Claim not found for claim_txt: APOE4 expression in iPSC-derived neurons increases AlphaBeta production and tau phosphorylation, delaying GABA neuron degeneration.\n",
      "Claim not found for claim_txt: APOE4 expression in iPSC-derived neurons increases AlphaBeta production and tau phosphorylation, delaying GABA neuron degeneration.\n",
      "Claim not found for claim_txt: APOE4 expression in iPSC-derived neurons increases AlphaBeta production and tau phosphorylation, delaying GABA neuron degeneration.\n",
      "Claim not found for claim_txt: APOE4 expression in iPSC-derived neurons increases AlphaBeta production and tau phosphorylation, delaying GABA neuron degeneration.\n",
      "Claim not found for claim_txt: APOE4 expression in iPSC-derived neurons increases AlphaBeta production and tau phosphorylation, delaying GABA neuron degeneration.\n",
      "Claim not found for claim_txt: APOE4 expression in iPSC-derived neurons results in decreased tau phosphorylation.\n",
      "Claim not found for claim_txt: APOE4 expression in iPSC-derived neurons results in decreased tau phosphorylation.\n",
      "Claim not found for claim_txt: APOE4 expression in iPSC-derived neurons results in decreased tau phosphorylation.\n",
      "Claim not found for claim_txt: ART has no effect on the infectiveness of HIV-positive people.\n",
      "Claim not found for claim_txt: ART has no effect on the infectiveness of HIV-positive people.\n",
      "Claim not found for claim_txt: ART substantially reduces infectiveness of HIV-positive people.\n",
      "Claim not found for claim_txt: Activated Cdk5 phosphorylates the ATM protein in response to DNA damage.\n",
      "Claim not found for claim_txt: Activated Cdk5 phosphorylates the ATM protein in response to DNA damage.\n",
      "Claim not found for claim_txt: Activated Cdk5 phosphorylates the ATM protein in response to DNA damage.\n",
      "Claim not found for claim_txt: Activated Cdk5 regulates DNA damage-induced neuronal death.\n",
      "Claim not found for claim_txt: Activated Cdk5 regulates DNA damage-induced neuronal death.\n",
      "Claim not found for claim_txt: Activated Cdk5 regulates DNA damage-induced neuronal death.\n",
      "Claim not found for claim_txt: Activation of PPM1D enhances p53 function.\n",
      "Claim not found for claim_txt: Activation of PPM1D enhances p53 function.\n",
      "Claim not found for claim_txt: Activation of PPM1D suppresses p53 function.\n",
      "Claim not found for claim_txt: Activation of PPM1D suppresses p53 function.\n",
      "Claim not found for claim_txt: Activation of the Rac1 homolog CED-10 kills viable cells in SRGP-1 mutant Caenorhabditis elegans.\n",
      "Claim not found for claim_txt: Activation of the Rac1 homolog CED-10 kills viable cells in SRGP-1 mutant Caenorhabditis elegans.\n",
      "Claim not found for claim_txt: Activation of the Rac1 homolog CED-10 kills viable cells in SRGP-1 mutant Caenorhabditis elegans.\n",
      "Claim not found for claim_txt: Active Ly49Q induces neutrophil polarization.\n",
      "Claim not found for claim_txt: Active Ly49Q induces neutrophil polarization.\n",
      "Claim not found for claim_txt: Active Ly49Q prevents neutrophil polarization.\n",
      "Claim not found for claim_txt: Active Ly49Q prevents neutrophil polarization.\n",
      "Claim not found for claim_txt: Active caspase-11 participate in regulating phagosome-lysosome fusion.\n",
      "Claim not found for claim_txt: Active caspase-11 participate in regulating phagosome-lysosome fusion.\n",
      "Claim not found for claim_txt: Active caspase-11 protein promotes pyroptosis.\n",
      "Claim not found for claim_txt: Adult tissue-resident macrophages are seeded before birth.\n"
     ]
    },
    {
     "name": "stderr",
     "output_type": "stream",
     "text": [
      "\n"
     ]
    },
    {
     "ename": "AttributeError",
     "evalue": "'NoneType' object has no attribute 'append'",
     "output_type": "error",
     "traceback": [
      "\u001b[0;31m---------------------------------------------------------------------------\u001b[0m",
      "\u001b[0;31mAttributeError\u001b[0m                            Traceback (most recent call last)",
      "\u001b[0;32m<ipython-input-13-b1d57998d075>\u001b[0m in \u001b[0;36m<module>\u001b[0;34m\u001b[0m\n\u001b[1;32m     25\u001b[0m     \u001b[0;32melse\u001b[0m\u001b[0;34m:\u001b[0m\u001b[0;34m\u001b[0m\u001b[0;34m\u001b[0m\u001b[0m\n\u001b[1;32m     26\u001b[0m         \u001b[0mentity\u001b[0m \u001b[0;34m=\u001b[0m \u001b[0mNEREntity\u001b[0m\u001b[0;34m(\u001b[0m\u001b[0mclaim_id\u001b[0m\u001b[0;34m=\u001b[0m\u001b[0mretrived_claim\u001b[0m\u001b[0;34m.\u001b[0m\u001b[0mid\u001b[0m\u001b[0;34m,\u001b[0m \u001b[0mner_text\u001b[0m\u001b[0;34m=\u001b[0m\u001b[0mner_text\u001b[0m\u001b[0;34m,\u001b[0m \u001b[0mner_label\u001b[0m\u001b[0;34m=\u001b[0m\u001b[0mner_label\u001b[0m\u001b[0;34m,\u001b[0m \u001b[0mner_model\u001b[0m\u001b[0;34m=\u001b[0m\u001b[0mner_model\u001b[0m\u001b[0;34m,\u001b[0m \u001b[0mstart_char\u001b[0m\u001b[0;34m=\u001b[0m\u001b[0mstart_char\u001b[0m\u001b[0;34m,\u001b[0m \u001b[0mend_char\u001b[0m\u001b[0;34m=\u001b[0m\u001b[0mend_char\u001b[0m\u001b[0;34m)\u001b[0m\u001b[0;34m\u001b[0m\u001b[0;34m\u001b[0m\u001b[0m\n\u001b[0;32m---> 27\u001b[0;31m         \u001b[0mretrived_claim\u001b[0m\u001b[0;34m.\u001b[0m\u001b[0mner_entities\u001b[0m\u001b[0;34m.\u001b[0m\u001b[0mappend\u001b[0m\u001b[0;34m(\u001b[0m\u001b[0mentity\u001b[0m\u001b[0;34m)\u001b[0m\u001b[0;34m\u001b[0m\u001b[0;34m\u001b[0m\u001b[0m\n\u001b[0m",
      "\u001b[0;31mAttributeError\u001b[0m: 'NoneType' object has no attribute 'append'"
     ]
    }
   ],
   "source": [
    "\"\"\"    \n",
    "    claim_id : int\n",
    "    ner_text: str\n",
    "    ner_label: str\n",
    "    ner_model: str\n",
    "    start_char: int\n",
    "    end_char: int    \n",
    "\"\"\"\n",
    "\n",
    "for index, row in tqdm(df_scispacy_sentence_word_unq_ner_abr_filtered.iterrows()):\n",
    "    # Access the 'sentence' and 'ner' columns of the row\n",
    "    \n",
    "    claim_txt = row['claim']\n",
    "    ner_text = row['ner_text']\n",
    "    ner_label = row['ner_label']\n",
    "    ner_model = row['ner_model']\n",
    "    start_char = row['start_char']\n",
    "    end_char = row['end_char']\n",
    "    term_in_claim = row['term_in_claim']\n",
    "    # Do something with the data\n",
    "    \n",
    "    retrived_claim = Claim.get_claim_by_text(claims= unique_gold_claims, claim_text= claim_txt)\n",
    "    if retrived_claim is None:\n",
    "        print(f\"Claim not found for claim_txt: {claim_txt}\")\n",
    "    else:\n",
    "        entity = NEREntity(claim_id=retrived_claim.id, ner_text=ner_text, ner_label=ner_label, ner_model=ner_model, start_char=start_char, end_char=end_char)\n",
    "        retrived_claim.ner_entities.append(entity)"
   ]
  },
  {
   "cell_type": "code",
   "execution_count": null,
   "metadata": {},
   "outputs": [],
   "source": []
  },
  {
   "cell_type": "code",
   "execution_count": null,
   "metadata": {},
   "outputs": [],
   "source": []
  },
  {
   "cell_type": "code",
   "execution_count": null,
   "metadata": {},
   "outputs": [],
   "source": []
  },
  {
   "cell_type": "code",
   "execution_count": null,
   "metadata": {},
   "outputs": [],
   "source": []
  },
  {
   "cell_type": "code",
   "execution_count": null,
   "metadata": {},
   "outputs": [],
   "source": []
  },
  {
   "cell_type": "code",
   "execution_count": 13,
   "metadata": {},
   "outputs": [
    {
     "name": "stderr",
     "output_type": "stream",
     "text": [
      "100%|██████████| 10/10 [00:00<00:00, 15839.52it/s]"
     ]
    },
    {
     "name": "stdout",
     "output_type": "stream",
     "text": [
      "10-20% of people with severe mental disorder receive no treatment in low and middle income countries.\n",
      "25% of patients with melanoma and an objective response to PD-1 blockade will experience a progression in their melanoma.\n",
      "50% of patients exposed to radiation have activated markers of myofibroblasts.\n",
      "8% of burn patients are admitted for hospitalization and further treatment after appearing at hospital emergency wards or outpatient clinics.\n",
      "A breast cancer patient's capacity to metabolize tamoxifen has no effect on treatment outcome.\n",
      "A country's Vaccine Alliance (GAVI) eligibility is associated with accelerated adoption of the Hub vaccine.\n",
      "A deficiency of folate decreases blood levels of homocysteine.\n",
      "A deficiency of vitamin B6 increases blood levels of homocysteine.\n",
      "APOE4 expression in iPSC-derived neurons results in increased tau phosphorylation.\n",
      "AZT given with ribavirin alleviates anemia.\n"
     ]
    },
    {
     "name": "stderr",
     "output_type": "stream",
     "text": [
      "\n"
     ]
    }
   ],
   "source": [
    "for cur_claim in tqdm(unique_gold_claims[:10]):\n",
    "    print(cur_claim.claim)"
   ]
  },
  {
   "cell_type": "code",
   "execution_count": null,
   "metadata": {},
   "outputs": [],
   "source": []
  }
 ],
 "metadata": {
  "kernelspec": {
   "display_name": "Python 3.7.11 ('scifact')",
   "language": "python",
   "name": "python3"
  },
  "language_info": {
   "codemirror_mode": {
    "name": "ipython",
    "version": 3
   },
   "file_extension": ".py",
   "mimetype": "text/x-python",
   "name": "python",
   "nbconvert_exporter": "python",
   "pygments_lexer": "ipython3",
   "version": "3.7.11"
  },
  "orig_nbformat": 4,
  "vscode": {
   "interpreter": {
    "hash": "0f28508567287f3243fa81c26f52e86f631e4a20d6b0e4ab397da90b0c5458c3"
   }
  }
 },
 "nbformat": 4,
 "nbformat_minor": 2
}
