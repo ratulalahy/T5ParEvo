{
 "cells": [
  {
   "cell_type": "code",
   "execution_count": null,
   "metadata": {},
   "outputs": [],
   "source": []
  },
  {
   "cell_type": "code",
   "execution_count": null,
   "metadata": {},
   "outputs": [],
   "source": []
  },
  {
   "cell_type": "code",
   "execution_count": 1,
   "metadata": {
    "notebookRunGroups": {
     "groupValue": ""
    }
   },
   "outputs": [
    {
     "name": "stdout",
     "output_type": "stream",
     "text": [
      "root dir :  /home/qudratealahyratu/research/nlp/fact_checking/my_work/T5ParEvo\n"
     ]
    },
    {
     "name": "stderr",
     "output_type": "stream",
     "text": [
      "/home/qudratealahyratu/anaconda3/envs/scifact/lib/python3.7/site-packages/pytorch_lightning/core/decorators.py:66: LightningDeprecationWarning: The `@auto_move_data` decorator is deprecated in v1.3 and will be removed in v1.5. Please use `trainer.predict` instead for inference. The decorator was applied to `predict`\n",
      "  \"The `@auto_move_data` decorator is deprecated in v1.3 and will be removed in v1.5.\"\n"
     ]
    },
    {
     "name": "stdout",
     "output_type": "stream",
     "text": [
      "/home/qudratealahyratu/research/nlp/fact_checking/my_work/T5ParEvo\n",
      "module_path: /home/qudratealahyratu/research/nlp/fact_checking/my_work/T5ParEvo\n",
      "definitions.PROJECT_VARS.ROOT_DIR: /home/qudratealahyratu/research/nlp/fact_checking/my_work/T5ParEvo\n"
     ]
    }
   ],
   "source": [
    "import argparse\n",
    "import json\n",
    "import os\n",
    "import sys\n",
    "from pathlib import Path\n",
    "from typing import Any, Dict, List, Optional, Tuple\n",
    "\n",
    "from dataclasses import dataclass\n",
    "from tqdm import tqdm\n",
    "\n",
    "# Add module path to sys.path\n",
    "module_path = os.path.abspath(os.path.join('../'))\n",
    "if module_path not in sys.path:\n",
    "    sys.path.insert(0,module_path)\n",
    "\n",
    "# Import third-party libraries\n",
    "from config import SciFactT5Config\n",
    "from multivers.data_r import ClaimDataLoaderGenerator, DataLoaderGenerator, get_dataloader\n",
    "from multivers.model_r import MultiVerSModel\n",
    "from multivers import util\n",
    "\n",
    "# Other necessary imports\n",
    "import definitions\n",
    "\n",
    "# Add necessary paths to sys.path\n",
    "sys.path.append(os.path.dirname(definitions.PROJECT_VARS.ROOT_DIR))\n",
    "\n",
    "# Import project-specific modules\n",
    "from T5ParEvo.src.data.data import Claim, ClaimPredictions, GoldDataset, Label\n",
    "from T5ParEvo.src.linguistic.ner_abbr import Abbreviation, NEREntity\n",
    "from T5ParEvo.target_system.multivers.multivers_interface import ModelPredictorMultivers, PredictionParams,ModelPredictorMultiversList\n",
    "\n",
    "# Print module_path and definitions.PROJECT_VARS.ROOT_DIR\n",
    "print('module_path:', module_path)\n",
    "print('definitions.PROJECT_VARS.ROOT_DIR:', definitions.PROJECT_VARS.ROOT_DIR)\n"
   ]
  },
  {
   "cell_type": "code",
   "execution_count": 2,
   "metadata": {},
   "outputs": [],
   "source": [
    "import torch\n",
    "DEVICE = torch.device(\"cuda\" if torch.cuda.is_available() else \"cpu\")"
   ]
  },
  {
   "cell_type": "code",
   "execution_count": 3,
   "metadata": {},
   "outputs": [
    {
     "name": "stdout",
     "output_type": "stream",
     "text": [
      "Logging to /home/qudratealahyratu/research/nlp/fact_checking/my_work/T5ParEvo/logs/log_all_.log\n"
     ]
    },
    {
     "name": "stdout",
     "output_type": "stream",
     "text": [
      "https://app.neptune.ai/ratulalahy/scifact-paraphrase-T5-evo/e/SCIF3-165\n",
      "Remember to stop your run once you’ve finished logging your metadata (https://docs.neptune.ai/api-reference/run#.stop). It will be stopped automatically only when the notebook kernel/interactive console is terminated.\n"
     ]
    }
   ],
   "source": [
    "from T5ParEvo.src.util.logger import LoggerConfig, NeptuneConfig, LogConfigurator, NeptuneRunner\n",
    "\n",
    "os.environ['NEPTUNE_API_TOKEN'] = 'eyJhcGlfYWRkcmVzcyI6Imh0dHBzOi8vYXBwLm5lcHR1bmUuYWkiLCJhcGlfdXJsIjoiaHR0cHM6Ly9hcHAubmVwdHVuZS5haSIsImFwaV9rZXkiOiI2NWQwMGIyZi1mNzM5LTRiMjEtOTg2MC1mNTc4ODRiMWU2ZGYifQ=='\n",
    "log_config = LoggerConfig()\n",
    "log_configurator = LogConfigurator(log_config)\n",
    "log_configurator.configure()\n",
    "\n",
    "neptune_config = NeptuneConfig(project_name=\"ratulalahy/scifact-paraphrase-T5-evo\",\n",
    "                                tags=['other model attack', 'tech_term', 'mlnli'],\n",
    "                                source_files=[\"t5_par_evo_test.ipynb\", \"*.yaml\", \"config.py\", \"definition.py\"])\n",
    "                                #source_files=[\"**/*.ipynb\", \"*.yaml\"])\n",
    "neptune_runner = NeptuneRunner(neptune_config)\n",
    "nep_run = neptune_runner.run()"
   ]
  },
  {
   "cell_type": "markdown",
   "metadata": {},
   "source": [
    "## Load Data"
   ]
  },
  {
   "cell_type": "code",
   "execution_count": 4,
   "metadata": {},
   "outputs": [],
   "source": [
    "# This dataset to be used only for training\n",
    "cfg= SciFactT5Config()\n",
    "ds_train = GoldDataset(cfg.target_dataset.loc_target_dataset_corpus,\n",
    "                    cfg.target_dataset.loc_target_dataset_train)\n",
    "claim_train = ds_train.get_claim(39)"
   ]
  },
  {
   "cell_type": "code",
   "execution_count": 5,
   "metadata": {},
   "outputs": [],
   "source": [
    "\n",
    "params = PredictionParams(\n",
    "    checkpoint_path= \"/home/qudratealahyratu/research/nlp/fact_checking/my_work/multivers/checkpoints/scifact.ckpt\",\n",
    "    output_file= None,#\"prediction/pred_opt_scifact.jsonl\",\n",
    "    batch_size=5,\n",
    "    device=0,\n",
    "    num_workers=4,\n",
    "    no_nei=False,\n",
    "    force_rationale=False,\n",
    "    debug=False,\n",
    "    corpus_file = cfg.target_dataset.loc_target_dataset_corpus\n",
    ")\n",
    "corpus_file = cfg.target_dataset.loc_target_dataset_corpus#cfg.target_dataset.loc_target_dataset_test#\"/home/qudratealahyratu/research/nlp/fact_checking/my_work/multivers/data/scifact/corpus.jsonl\"\n",
    "    \n",
    "\n",
    "gold_claims = []\n",
    "claims_path = cfg.target_dataset.loc_target_dataset_test#'/home/qudratealahyratu/research/nlp/fact_checking/my_work/multivers/data/scifact/claims_test_retrived.jsonl'\n",
    "with open(claims_path, 'r') as f:\n",
    "    for line in f:\n",
    "        data = json.loads(line)\n",
    "        claim = Claim(id = data['id'], claim = data['claim'], cited_docs = data['doc_ids'], evidence = {},release = None)\n",
    "        gold_claims.append(claim)\n",
    "\n",
    "#get unique claims\n",
    "unique_gold_claims = Claim.get_unique_claims(gold_claims)"
   ]
  },
  {
   "cell_type": "markdown",
   "metadata": {},
   "source": [
    "## Predict Original Claims"
   ]
  },
  {
   "cell_type": "code",
   "execution_count": 6,
   "metadata": {},
   "outputs": [
    {
     "name": "stderr",
     "output_type": "stream",
     "text": [
      "Some weights of the model checkpoint at allenai/longformer-large-4096 were not used when initializing LongformerModel: ['lm_head.dense.weight', 'lm_head.decoder.weight', 'lm_head.dense.bias', 'lm_head.bias', 'lm_head.layer_norm.weight', 'lm_head.layer_norm.bias']\n",
      "- This IS expected if you are initializing LongformerModel from the checkpoint of a model trained on another task or with another architecture (e.g. initializing a BertForSequenceClassification model from a BertForPreTraining model).\n",
      "- This IS NOT expected if you are initializing LongformerModel from the checkpoint of a model that you expect to be exactly identical (initializing a BertForSequenceClassification model from a BertForSequenceClassification model).\n",
      "/home/qudratealahyratu/anaconda3/envs/scifact/lib/python3.7/site-packages/deprecate/deprecation.py:115: LightningDeprecationWarning: The `Metric` was deprecated since v1.3.0 in favor of `torchmetrics.metric.Metric`. It will be removed in v1.5.0.\n",
      "  stream(template_mgs % msg_args)\n"
     ]
    }
   ],
   "source": [
    "# Loading unique claims and preparing prediction model\n",
    "unique_gold_claims = Claim.get_unique_claims(gold_claims)\n",
    "dataloader_generator = ClaimDataLoaderGenerator(params, unique_gold_claims[0], corpus_file)\n",
    "dataloader = dataloader_generator.get_dataloader_by_single_claim()\n",
    "# prediction_model = ModelPredictorMultivers(params, dataloader, corpus_file)\n",
    "prediction_model = ModelPredictorMultivers(params, unique_gold_claims[0])\n",
    "original_claim_predictions_raw = prediction_model.predict(unique_gold_claims[0])"
   ]
  },
  {
   "cell_type": "code",
   "execution_count": 7,
   "metadata": {},
   "outputs": [
    {
     "name": "stderr",
     "output_type": "stream",
     "text": [
      "Predicting for unique claims: 100%|██████████| 12/12 [00:45<00:00,  3.83s/it]\n"
     ]
    }
   ],
   "source": [
    "# Predicting for unique claims\n",
    "all_original_claim_predictions : List[ClaimPredictions]= []\n",
    "for cur_uniq_claim in tqdm(unique_gold_claims[:], desc=\"Predicting for unique claims\"):\n",
    "    original_claim_prediction = prediction_model.predict(cur_uniq_claim)\n",
    "    all_original_claim_predictions.append(original_claim_prediction)"
   ]
  },
  {
   "cell_type": "code",
   "execution_count": 8,
   "metadata": {},
   "outputs": [
    {
     "name": "stdout",
     "output_type": "stream",
     "text": [
      "Predictions for 84: Adult tissue-resident macrophages are maintained independent of circulating monocytes.\n"
     ]
    }
   ],
   "source": [
    "# Checking how many claims have more than one prediction\n",
    "for cur_prediction in all_original_claim_predictions:\n",
    "    if len(cur_prediction.predictions.keys()) > 1:\n",
    "        print(cur_prediction)"
   ]
  },
  {
   "cell_type": "code",
   "execution_count": 9,
   "metadata": {},
   "outputs": [
    {
     "name": "stdout",
     "output_type": "stream",
     "text": [
      "4\n",
      "{12827098: PredictedAbstract(abstract_id=12827098, label=<Label.SUPPORTS: 2>, rationale=[5]), 7521113: PredictedAbstract(abstract_id=7521113, label=<Label.SUPPORTS: 2>, rationale=[4]), 22406695: PredictedAbstract(abstract_id=22406695, label=<Label.SUPPORTS: 2>, rationale=[1]), 22973574: PredictedAbstract(abstract_id=22973574, label=<Label.SUPPORTS: 2>, rationale=[3])}\n"
     ]
    }
   ],
   "source": [
    "print(len(all_original_claim_predictions[11].predictions.keys()))\n",
    "print(all_original_claim_predictions[11].predictions)"
   ]
  },
  {
   "cell_type": "markdown",
   "metadata": {},
   "source": []
  },
  {
   "cell_type": "markdown",
   "metadata": {},
   "source": [
    "## Paraphrase and attack original claims"
   ]
  },
  {
   "cell_type": "code",
   "execution_count": 10,
   "metadata": {},
   "outputs": [],
   "source": [
    "import torch\n",
    "from transformers import T5ForConditionalGeneration, PreTrainedTokenizer, PreTrainedModel, T5Tokenizer, T5ForConditionalGeneration\n",
    "# Constants and configurations\n",
    "paraphrase_model_checkpoint_path = '/home/qudratealahyratu/research/nlp/fact_checking/my_work/SciMedAttack/results/t5_paws_masked_claim_abstract_paws_3_epoch_2/models/model_3_epochs/'\n",
    "paraphrase_model_tokenizer = 'Vamsi/T5_Paraphrase_Paws'\n",
    "PARAPHRASE_CONFIG_PARAMS = {\n",
    "    'max_length': 512,\n",
    "    'do_sample': True,\n",
    "    'top_k': 50,\n",
    "    'top_p': 0.99,\n",
    "    'repetition_penalty': 3.5,\n",
    "    'early_stopping': True,\n",
    "    'num_return_sequences': 10\n",
    "}\n",
    "\n",
    "# Utility function to load T5 model\n",
    "def load_t5_model(checkpoint_path):\n",
    "    model_t5 = T5ForConditionalGeneration.from_pretrained(checkpoint_path)\n",
    "    model_t5 = model_t5.to(DEVICE)\n",
    "    return model_t5\n"
   ]
  },
  {
   "cell_type": "code",
   "execution_count": null,
   "metadata": {},
   "outputs": [],
   "source": []
  },
  {
   "cell_type": "markdown",
   "metadata": {},
   "source": [
    "**Technical terms**"
   ]
  },
  {
   "cell_type": "code",
   "execution_count": 11,
   "metadata": {},
   "outputs": [],
   "source": [
    "import pickle\n",
    "\n",
    "with open('../data/meta/merged_abbreviations.pkl', 'rb') as f:\n",
    "    merged_abbreviations = pickle.load(f)\n",
    "\n",
    "with open('../data/meta/merged_entities.pkl', 'rb') as f:\n",
    "    merged_entities = pickle.load(f)\n"
   ]
  },
  {
   "cell_type": "markdown",
   "metadata": {},
   "source": [
    "**Paraphrase,Entailment,classification model**"
   ]
  },
  {
   "cell_type": "code",
   "execution_count": 12,
   "metadata": {},
   "outputs": [
    {
     "name": "stderr",
     "output_type": "stream",
     "text": [
      "Using cache found in /home/qudratealahyratu/.cache/torch/hub/pytorch_fairseq_main\n",
      "/home/qudratealahyratu/anaconda3/envs/scifact/lib/python3.7/site-packages/hydra/experimental/initialize.py:43: UserWarning: hydra.experimental.initialize() is no longer experimental. Use hydra.initialize()\n",
      "  deprecation_warning(message=message)\n",
      "/home/qudratealahyratu/anaconda3/envs/scifact/lib/python3.7/site-packages/hydra/experimental/initialize.py:48: UserWarning: \n",
      "The version_base parameter is not specified.\n",
      "Please specify a compatability version level, or None.\n",
      "Will assume defaults for version 1.1\n",
      "  caller_stack_depth=caller_stack_depth + 1,\n",
      "/home/qudratealahyratu/anaconda3/envs/scifact/lib/python3.7/site-packages/hydra/experimental/compose.py:25: UserWarning: hydra.experimental.compose() is no longer experimental. Use hydra.compose()\n",
      "  deprecation_warning(message=message)\n",
      "/home/qudratealahyratu/anaconda3/envs/scifact/lib/python3.7/site-packages/hydra/core/default_element.py:128: UserWarning: In 'config': Usage of deprecated keyword in package header '# @package _group_'.\n",
      "See https://hydra.cc/docs/next/upgrades/1.0_to_1.1/changes_to_package_header for more information\n",
      "  See {url} for more information\"\"\"\n",
      "/home/qudratealahyratu/.cache/torch/hub/pytorch_fairseq_main/fairseq/checkpoint_utils.py:419: UserWarning: \n",
      "'config' is validated against ConfigStore schema with the same name.\n",
      "This behavior is deprecated in Hydra 1.1 and will be removed in Hydra 1.2.\n",
      "See https://hydra.cc/docs/next/upgrades/1.0_to_1.1/automatic_schema_matching for migration instructions.\n",
      "  state = load_checkpoint_to_cpu(filename, arg_overrides)\n"
     ]
    },
    {
     "name": "stdout",
     "output_type": "stream",
     "text": [
      "ANTLR runtime and generated code versions disagree: 4.9.3!=4.8\n",
      "ANTLR runtime and generated code versions disagree: 4.9.3!=4.8\n"
     ]
    },
    {
     "name": "stderr",
     "output_type": "stream",
     "text": [
      "/home/qudratealahyratu/anaconda3/envs/scifact/lib/python3.7/site-packages/hydra/compose.py:57: UserWarning: \n",
      "The strict flag in the compose API is deprecated.\n",
      "See https://hydra.cc/docs/upgrades/0.11_to_1.0/strict_mode_flag_deprecated for more info.\n",
      "\n",
      "  \"\"\"\n",
      "/home/qudratealahyratu/anaconda3/envs/scifact/lib/python3.7/site-packages/hydra/experimental/initialize.py:43: UserWarning: hydra.experimental.initialize() is no longer experimental. Use hydra.initialize()\n",
      "  deprecation_warning(message=message)\n",
      "/home/qudratealahyratu/anaconda3/envs/scifact/lib/python3.7/site-packages/hydra/experimental/initialize.py:48: UserWarning: \n",
      "The version_base parameter is not specified.\n",
      "Please specify a compatability version level, or None.\n",
      "Will assume defaults for version 1.1\n",
      "  caller_stack_depth=caller_stack_depth + 1,\n",
      "/home/qudratealahyratu/.cache/torch/hub/pytorch_fairseq_main/fairseq/models/roberta/model.py:325: UserWarning: \n",
      "'config' is validated against ConfigStore schema with the same name.\n",
      "This behavior is deprecated in Hydra 1.1 and will be removed in Hydra 1.2.\n",
      "See https://hydra.cc/docs/next/upgrades/1.0_to_1.1/automatic_schema_matching for migration instructions.\n",
      "  **kwargs,\n"
     ]
    }
   ],
   "source": [
    "# Preparing paraphraser\n",
    "from T5ParEvo.src.paraphrase.paraphrase_claim import ParaphrasedAttack\n",
    "from T5ParEvo.src.paraphrase.paraphraser import T5Paraphraser, ModelConfig\n",
    "\n",
    "# Load T5 model and tokenizer\n",
    "model_t5 = load_t5_model(paraphrase_model_checkpoint_path)\n",
    "tokenizer_t5 = T5Tokenizer.from_pretrained(paraphrase_model_tokenizer)\n",
    "\n",
    "# Initialize paraphrase model and paraphrase attack\n",
    "paraphrase_config = ModelConfig(**PARAPHRASE_CONFIG_PARAMS)\n",
    "paraphrase_model = T5Paraphraser(model_t5, tokenizer_t5, paraphrase_config)\n",
    "\n",
    "# Initialize entailment model\n",
    "from T5ParEvo.src.paraphrase.paraphrase_claim  import TorchEntailmentPredictionModel\n",
    "\n",
    "\n",
    "entailment_model = TorchEntailmentPredictionModel(model_path=  'pytorch/fairseq', model_name = 'roberta.large.mnli', device= DEVICE)\n",
    "\n",
    "# Initialize paraphrase attack\n",
    "paraphrase_attack_model = ParaphrasedAttack(paraphrase_model, prediction_model,entailment_model ,list_ners = merged_entities)"
   ]
  },
  {
   "cell_type": "code",
   "execution_count": 13,
   "metadata": {},
   "outputs": [
    {
     "name": "stderr",
     "output_type": "stream",
     "text": [
      "Paraphrasing claims: 100%|██████████| 12/12 [07:21<00:00, 36.79s/it]\n"
     ]
    }
   ],
   "source": [
    "from T5ParEvo.src.paraphrase.paraphrase_claim import ParaphrasedClaim\n",
    "iteration_counter = 0\n",
    "all_paraphrased_attacks : List[ParaphrasedClaim] = []\n",
    "for cur_original_claim_pred in tqdm(all_original_claim_predictions[:12], desc=\"Paraphrasing claims\"):\n",
    "    paraphrased_attack = paraphrase_attack_model.attack(iteration = iteration_counter, \n",
    "                                                  original_claim= cur_original_claim_pred.gold, \n",
    "                                                  original_prediction = cur_original_claim_pred, \n",
    "                                                  predict_if_pass_filter=False)\n",
    "    all_paraphrased_attacks.append(paraphrased_attack)\n",
    "# result = paraphrase_attack.attack(iteration = 0, original_claim= all_original_claim_predictions[11].gold, \n",
    "#         original_prediction =all_original_claim_predictions[11], \n",
    "#         predict_if_pass_filter=False)"
   ]
  },
  {
   "cell_type": "code",
   "execution_count": null,
   "metadata": {},
   "outputs": [],
   "source": []
  },
  {
   "cell_type": "code",
   "execution_count": null,
   "metadata": {},
   "outputs": [],
   "source": []
  },
  {
   "cell_type": "code",
   "execution_count": 14,
   "metadata": {},
   "outputs": [
    {
     "name": "stdout",
     "output_type": "stream",
     "text": [
      "original_claim :  8% of burn patients are admitted for hospitalization and further treatment after appearing at hospital emergency wards or outpatient clinics.\n",
      "nli_label :  True\n",
      "is tech term preserved :  True\n",
      "original claim state :  ClaimState.EMPTY\n",
      "paraphrased claim state :  ClaimState.EMPTY\n",
      "original_claim :  8% of burn patients are admitted for hospitalization and further treatment after appearing at hospital emergency wards or outpatient clinics.\n",
      "nli_label :  True\n",
      "is tech term preserved :  True\n",
      "original claim state :  ClaimState.EMPTY\n",
      "paraphrased claim state :  ClaimState.EMPTY\n",
      "original_claim :  8% of burn patients are admitted for hospitalization and further treatment after appearing at hospital emergency wards or outpatient clinics.\n",
      "nli_label :  False\n",
      "is tech term preserved :  False\n",
      "original claim state :  ClaimState.EMPTY\n",
      "paraphrased claim state :  ClaimState.EMPTY\n",
      "original_claim :  8% of burn patients are admitted for hospitalization and further treatment after appearing at hospital emergency wards or outpatient clinics.\n",
      "nli_label :  True\n",
      "is tech term preserved :  True\n",
      "original claim state :  ClaimState.EMPTY\n",
      "paraphrased claim state :  ClaimState.EMPTY\n",
      "original_claim :  8% of burn patients are admitted for hospitalization and further treatment after appearing at hospital emergency wards or outpatient clinics.\n",
      "nli_label :  True\n",
      "is tech term preserved :  True\n",
      "original claim state :  ClaimState.EMPTY\n",
      "paraphrased claim state :  ClaimState.EMPTY\n",
      "original_claim :  8% of burn patients are admitted for hospitalization and further treatment after appearing at hospital emergency wards or outpatient clinics.\n",
      "nli_label :  False\n",
      "is tech term preserved :  True\n",
      "original claim state :  ClaimState.EMPTY\n",
      "paraphrased claim state :  ClaimState.EMPTY\n",
      "original_claim :  8% of burn patients are admitted for hospitalization and further treatment after appearing at hospital emergency wards or outpatient clinics.\n",
      "nli_label :  True\n",
      "is tech term preserved :  True\n",
      "original claim state :  ClaimState.EMPTY\n",
      "paraphrased claim state :  ClaimState.EMPTY\n",
      "original_claim :  8% of burn patients are admitted for hospitalization and further treatment after appearing at hospital emergency wards or outpatient clinics.\n",
      "nli_label :  True\n",
      "is tech term preserved :  True\n",
      "original claim state :  ClaimState.EMPTY\n",
      "paraphrased claim state :  ClaimState.EMPTY\n",
      "original_claim :  8% of burn patients are admitted for hospitalization and further treatment after appearing at hospital emergency wards or outpatient clinics.\n",
      "nli_label :  False\n",
      "is tech term preserved :  True\n",
      "original claim state :  ClaimState.EMPTY\n",
      "paraphrased claim state :  ClaimState.EMPTY\n",
      "original_claim :  8% of burn patients are admitted for hospitalization and further treatment after appearing at hospital emergency wards or outpatient clinics.\n",
      "nli_label :  True\n",
      "is tech term preserved :  True\n",
      "original claim state :  ClaimState.EMPTY\n",
      "paraphrased claim state :  ClaimState.EMPTY\n",
      "original_claim :  A breast cancer patient's capacity to metabolize tamoxifen has no effect on treatment outcome.\n",
      "nli_label :  True\n",
      "is tech term preserved :  True\n",
      "original claim state :  ClaimState.EMPTY\n",
      "paraphrased claim state :  ClaimState.EMPTY\n",
      "original_claim :  A breast cancer patient's capacity to metabolize tamoxifen has no effect on treatment outcome.\n",
      "nli_label :  True\n",
      "is tech term preserved :  True\n",
      "original claim state :  ClaimState.EMPTY\n",
      "paraphrased claim state :  ClaimState.EMPTY\n",
      "original_claim :  A breast cancer patient's capacity to metabolize tamoxifen has no effect on treatment outcome.\n",
      "nli_label :  True\n",
      "is tech term preserved :  True\n",
      "original claim state :  ClaimState.EMPTY\n",
      "paraphrased claim state :  ClaimState.EMPTY\n",
      "original_claim :  A breast cancer patient's capacity to metabolize tamoxifen has no effect on treatment outcome.\n",
      "nli_label :  True\n",
      "is tech term preserved :  True\n",
      "original claim state :  ClaimState.EMPTY\n",
      "paraphrased claim state :  ClaimState.EMPTY\n",
      "original_claim :  A breast cancer patient's capacity to metabolize tamoxifen has no effect on treatment outcome.\n",
      "nli_label :  True\n",
      "is tech term preserved :  True\n",
      "original claim state :  ClaimState.EMPTY\n",
      "paraphrased claim state :  ClaimState.EMPTY\n",
      "original_claim :  A breast cancer patient's capacity to metabolize tamoxifen has no effect on treatment outcome.\n",
      "nli_label :  False\n",
      "is tech term preserved :  False\n",
      "original claim state :  ClaimState.EMPTY\n",
      "paraphrased claim state :  ClaimState.EMPTY\n",
      "original_claim :  A breast cancer patient's capacity to metabolize tamoxifen has no effect on treatment outcome.\n",
      "nli_label :  True\n",
      "is tech term preserved :  True\n",
      "original claim state :  ClaimState.EMPTY\n",
      "paraphrased claim state :  ClaimState.EMPTY\n",
      "original_claim :  A breast cancer patient's capacity to metabolize tamoxifen has no effect on treatment outcome.\n",
      "nli_label :  False\n",
      "is tech term preserved :  False\n",
      "original claim state :  ClaimState.EMPTY\n",
      "paraphrased claim state :  ClaimState.EMPTY\n",
      "original_claim :  A breast cancer patient's capacity to metabolize tamoxifen has no effect on treatment outcome.\n",
      "nli_label :  False\n",
      "is tech term preserved :  False\n",
      "original claim state :  ClaimState.EMPTY\n",
      "paraphrased claim state :  ClaimState.EMPTY\n"
     ]
    }
   ],
   "source": [
    "for cur_attack in all_paraphrased_attacks[3:5]:\n",
    "    for cur_paraphrased_claim in cur_attack:\n",
    "        print(\"original_claim : \", cur_paraphrased_claim.original_claim.claim)\n",
    "        # print('#'*10)\n",
    "        # print(\"original_predict : \", cur_paraphrased_claim.original_prediction.predictions)\n",
    "        # print(ClaimPredictions.get_count_support_refute(cur_paraphrased_claim.original_prediction))\n",
    "        # print('Paraphrased Claim : ', cur_paraphrased_claim.paraphrased_claim.claim)\n",
    "        # print(ClaimPredictions.get_count_support_refute(cur_paraphrased_claim.paraphrased_prediction))\n",
    "        print(\"nli_label : \", cur_paraphrased_claim.nli_label)\n",
    "        print('is tech term preserved : ', cur_paraphrased_claim.is_ners_preserved)\n",
    "        print('original claim state : ', cur_paraphrased_claim.original_claim_state)\n",
    "        print('paraphrased claim state : ', cur_paraphrased_claim.paraphrased_claim_state)\n",
    "        "
   ]
  },
  {
   "cell_type": "code",
   "execution_count": 19,
   "metadata": {},
   "outputs": [],
   "source": [
    "from T5ParEvo.src.paraphrase.paraphrase_claim import ParaphrasedAttackResult\n",
    "from T5ParEvo.src.paraphrase.paraphrase_claim import ParaphrasedClaim, ParaphrasedAttackResult\n",
    "all_attack_results : List[ParaphrasedAttackResult] = []\n",
    "for cur_claims_attack in all_paraphrased_attacks:\n",
    "    for cur_attack in cur_claims_attack:\n",
    "        paraphrase_attack_model.calculate_and_set_claim_states(cur_attack)\n",
    "        all_attack_results.append(ParaphrasedAttackResult(cur_attack))\n",
    "\n",
    "for cur_res in all_attack_results:    \n",
    "    cur_res.determine_attack_status()"
   ]
  },
  {
   "cell_type": "code",
   "execution_count": null,
   "metadata": {},
   "outputs": [
    {
     "data": {
      "text/plain": [
       "ParaphrasedClaim(iteration=0, original_claim=Example 7: 10-20% of people with severe mental disorder receive no treatment in low and middle income countries., paraphrased_claim=Example 7: 10-20 % of people with severe mental disorder receive no treatment in low and middle income countries., original_prediction=Predictions for 7: 10-20% of people with severe mental disorder receive no treatment in low and middle income countries., paraphrased_prediction=Predictions for 7: 10-20 % of people with severe mental disorder receive no treatment in low and middle income countries., is_ners_preserved=True, nli_label=True, original_claim_state=<ClaimState.EMPTY: 'Empty Prediction Result'>, paraphrased_claim_state=<ClaimState.EMPTY: 'Empty Prediction Result'>, attack_result=None)"
      ]
     },
     "execution_count": 21,
     "metadata": {},
     "output_type": "execute_result"
    }
   ],
   "source": [
    "all_paraphrased_attacks[0][0]"
   ]
  },
  {
   "cell_type": "code",
   "execution_count": 23,
   "metadata": {},
   "outputs": [],
   "source": [
    "from T5ParEvo.src.paraphrase.paraphrase_claim import AttackStatus\n",
    "for cur_atk in all_attack_results:\n",
    "    if cur_atk.attack_status == AttackStatus.SUCCESSFUL:\n",
    "        print(cur_atk.attack_status)"
   ]
  },
  {
   "cell_type": "code",
   "execution_count": 33,
   "metadata": {},
   "outputs": [
    {
     "name": "stdout",
     "output_type": "stream",
     "text": [
      "{'count_support': 1, 'count_refute': 0, 'count_nei': 0} {'count_support': 1, 'count_refute': 0, 'count_nei': 0}\n",
      "{'count_support': 1, 'count_refute': 0, 'count_nei': 0} {'count_support': 1, 'count_refute': 0, 'count_nei': 0}\n",
      "{'count_support': 1, 'count_refute': 0, 'count_nei': 0} {'count_support': 1, 'count_refute': 0, 'count_nei': 0}\n",
      "{'count_support': 1, 'count_refute': 0, 'count_nei': 0} {'count_support': 1, 'count_refute': 0, 'count_nei': 0}\n",
      "{'count_support': 1, 'count_refute': 0, 'count_nei': 0} {'count_support': 1, 'count_refute': 0, 'count_nei': 0}\n",
      "{'count_support': 1, 'count_refute': 0, 'count_nei': 0} {'count_support': 1, 'count_refute': 0, 'count_nei': 0}\n",
      "{'count_support': 1, 'count_refute': 0, 'count_nei': 0} {'count_support': 1, 'count_refute': 0, 'count_nei': 0}\n",
      "{'count_support': 1, 'count_refute': 0, 'count_nei': 0} {'count_support': 1, 'count_refute': 0, 'count_nei': 0}\n",
      "{'count_support': 1, 'count_refute': 0, 'count_nei': 0} {'count_support': 1, 'count_refute': 0, 'count_nei': 0}\n",
      "{'count_support': 1, 'count_refute': 0, 'count_nei': 0} {'count_support': 1, 'count_refute': 0, 'count_nei': 0}\n",
      "{'count_support': 1, 'count_refute': 0, 'count_nei': 0} {'count_support': 0, 'count_refute': 0, 'count_nei': 0}\n",
      "{'count_support': 1, 'count_refute': 0, 'count_nei': 0} {'count_support': 1, 'count_refute': 0, 'count_nei': 0}\n",
      "{'count_support': 1, 'count_refute': 0, 'count_nei': 0} {'count_support': 1, 'count_refute': 0, 'count_nei': 0}\n",
      "{'count_support': 1, 'count_refute': 0, 'count_nei': 0} {'count_support': 0, 'count_refute': 0, 'count_nei': 0}\n",
      "{'count_support': 0, 'count_refute': 0, 'count_nei': 0} {'count_support': 1, 'count_refute': 0, 'count_nei': 0}\n",
      "{'count_support': 0, 'count_refute': 0, 'count_nei': 0} {'count_support': 0, 'count_refute': 0, 'count_nei': 0}\n",
      "{'count_support': 0, 'count_refute': 0, 'count_nei': 0} {'count_support': 0, 'count_refute': 0, 'count_nei': 0}\n",
      "{'count_support': 0, 'count_refute': 0, 'count_nei': 0} {'count_support': 0, 'count_refute': 0, 'count_nei': 0}\n",
      "{'count_support': 0, 'count_refute': 0, 'count_nei': 0} {'count_support': 1, 'count_refute': 0, 'count_nei': 0}\n",
      "{'count_support': 0, 'count_refute': 0, 'count_nei': 0} {'count_support': 0, 'count_refute': 0, 'count_nei': 0}\n"
     ]
    }
   ],
   "source": [
    "for cur_atk in all_attack_results[50:70]:\n",
    "    print(ClaimPredictions.get_count_support_refute_nei(cur_atk.attack.original_prediction), \n",
    "          ClaimPredictions.get_count_support_refute_nei(cur_atk.attack.paraphrased_prediction))"
   ]
  },
  {
   "cell_type": "code",
   "execution_count": 35,
   "metadata": {},
   "outputs": [
    {
     "data": {
      "text/plain": [
       "[ParaphrasedAttackResult(attack=ParaphrasedClaim(iteration=0, original_claim=Example 7: 10-20% of people with severe mental disorder receive no treatment in low and middle income countries., paraphrased_claim=Example 7: 10-20% of people with severe mental disorder receive no treatment in low and middle income countries., original_prediction=Predictions for 7: 10-20% of people with severe mental disorder receive no treatment in low and middle income countries., paraphrased_prediction=Predictions for 7: 10-20% of people with severe mental disorder receive no treatment in low and middle income countries., is_ners_preserved=True, nli_label=True, original_claim_state=<ClaimState.SUPPORT_MAJORITY: 'Support Majority'>, paraphrased_claim_state=<ClaimState.SUPPORT_MAJORITY: 'Support Majority'>, attack_result=None), attack_status=<AttackStatus.UNSUCCESSFUL: 'Unsuccessful Attack'>),\n",
       " ParaphrasedAttackResult(attack=ParaphrasedClaim(iteration=0, original_claim=Example 7: 10-20% of people with severe mental disorder receive no treatment in low and middle income countries., paraphrased_claim=Example 7: 10-20 % of people with severe mental disorder receive no treatment in low and middle income countries., original_prediction=Predictions for 7: 10-20% of people with severe mental disorder receive no treatment in low and middle income countries., paraphrased_prediction=Predictions for 7: 10-20 % of people with severe mental disorder receive no treatment in low and middle income countries., is_ners_preserved=True, nli_label=True, original_claim_state=<ClaimState.SUPPORT_MAJORITY: 'Support Majority'>, paraphrased_claim_state=<ClaimState.SUPPORT_MAJORITY: 'Support Majority'>, attack_result=None), attack_status=<AttackStatus.UNSUCCESSFUL: 'Unsuccessful Attack'>),\n",
       " ParaphrasedAttackResult(attack=ParaphrasedClaim(iteration=0, original_claim=Example 7: 10-20% of people with severe mental disorder receive no treatment in low and middle income countries., paraphrased_claim=Example 7: 10-20 % of people with severe mental disorder receive no treatment in low and middle countries., original_prediction=Predictions for 7: 10-20% of people with severe mental disorder receive no treatment in low and middle income countries., paraphrased_prediction=Predictions for 7: 10-20 % of people with severe mental disorder receive no treatment in low and middle countries., is_ners_preserved=True, nli_label=True, original_claim_state=<ClaimState.SUPPORT_MAJORITY: 'Support Majority'>, paraphrased_claim_state=<ClaimState.SUPPORT_MAJORITY: 'Support Majority'>, attack_result=None), attack_status=<AttackStatus.UNSUCCESSFUL: 'Unsuccessful Attack'>),\n",
       " ParaphrasedAttackResult(attack=ParaphrasedClaim(iteration=0, original_claim=Example 7: 10-20% of people with severe mental disorder receive no treatment in low and middle income countries., paraphrased_claim=Example 7: In low and middle - income countries 10-20% of people with severe mental disorder receive no treatment., original_prediction=Predictions for 7: 10-20% of people with severe mental disorder receive no treatment in low and middle income countries., paraphrased_prediction=Predictions for 7: In low and middle - income countries 10-20% of people with severe mental disorder receive no treatment., is_ners_preserved=True, nli_label=True, original_claim_state=<ClaimState.SUPPORT_MAJORITY: 'Support Majority'>, paraphrased_claim_state=<ClaimState.SUPPORT_MAJORITY: 'Support Majority'>, attack_result=None), attack_status=<AttackStatus.UNSUCCESSFUL: 'Unsuccessful Attack'>),\n",
       " ParaphrasedAttackResult(attack=ParaphrasedClaim(iteration=0, original_claim=Example 7: 10-20% of people with severe mental disorder receive no treatment in low and middle income countries., paraphrased_claim=Example 7: 10-20% of people with serious mental disorder receive no treatment in low and middle income countries., original_prediction=Predictions for 7: 10-20% of people with severe mental disorder receive no treatment in low and middle income countries., paraphrased_prediction=Predictions for 7: 10-20% of people with serious mental disorder receive no treatment in low and middle income countries., is_ners_preserved=True, nli_label=True, original_claim_state=<ClaimState.SUPPORT_MAJORITY: 'Support Majority'>, paraphrased_claim_state=<ClaimState.SUPPORT_MAJORITY: 'Support Majority'>, attack_result=None), attack_status=<AttackStatus.UNSUCCESSFUL: 'Unsuccessful Attack'>),\n",
       " ParaphrasedAttackResult(attack=ParaphrasedClaim(iteration=0, original_claim=Example 7: 10-20% of people with severe mental disorder receive no treatment in low and middle income countries., paraphrased_claim=Example 7: 10-20% of people with severe mental disorder receive no treatment in low and middle countries., original_prediction=Predictions for 7: 10-20% of people with severe mental disorder receive no treatment in low and middle income countries., paraphrased_prediction=Predictions for 7: 10-20% of people with severe mental disorder receive no treatment in low and middle countries., is_ners_preserved=True, nli_label=True, original_claim_state=<ClaimState.SUPPORT_MAJORITY: 'Support Majority'>, paraphrased_claim_state=<ClaimState.SUPPORT_MAJORITY: 'Support Majority'>, attack_result=None), attack_status=<AttackStatus.UNSUCCESSFUL: 'Unsuccessful Attack'>),\n",
       " ParaphrasedAttackResult(attack=ParaphrasedClaim(iteration=0, original_claim=Example 7: 10-20% of people with severe mental disorder receive no treatment in low and middle income countries., paraphrased_claim=Example 7: 10-20% of people with a severe mental disorder receive no treatment in low and middle-income countries., original_prediction=Predictions for 7: 10-20% of people with severe mental disorder receive no treatment in low and middle income countries., paraphrased_prediction=Predictions for 7: 10-20% of people with a severe mental disorder receive no treatment in low and middle-income countries., is_ners_preserved=True, nli_label=True, original_claim_state=<ClaimState.SUPPORT_MAJORITY: 'Support Majority'>, paraphrased_claim_state=<ClaimState.SUPPORT_MAJORITY: 'Support Majority'>, attack_result=None), attack_status=<AttackStatus.UNSUCCESSFUL: 'Unsuccessful Attack'>),\n",
       " ParaphrasedAttackResult(attack=ParaphrasedClaim(iteration=0, original_claim=Example 8: 25% of patients with melanoma and an objective response to PD-1 blockade will experience a progression in their melanoma., paraphrased_claim=Example 8: 25 percent of patients with melanoma and an objective response to the PD-1 blockabode experience a progression in their melanoma., original_prediction=Predictions for 8: 25% of patients with melanoma and an objective response to PD-1 blockade will experience a progression in their melanoma., paraphrased_prediction=Predictions for 8: 25 percent of patients with melanoma and an objective response to the PD-1 blockabode experience a progression in their melanoma., is_ners_preserved=True, nli_label=True, original_claim_state=<ClaimState.TIE: 'Majority Tie'>, paraphrased_claim_state=<ClaimState.TIE: 'Majority Tie'>, attack_result=None), attack_status=<AttackStatus.UNSUCCESSFUL: 'Unsuccessful Attack'>),\n",
       " ParaphrasedAttackResult(attack=ParaphrasedClaim(iteration=0, original_claim=Example 8: 25% of patients with melanoma and an objective response to PD-1 blockade will experience a progression in their melanoma., paraphrased_claim=Example 8: 75% of patients with melanoma and an objective response to PD-1 blockabode show progress in their melanomosis., original_prediction=Predictions for 8: 25% of patients with melanoma and an objective response to PD-1 blockade will experience a progression in their melanoma., paraphrased_prediction=Predictions for 8: 75% of patients with melanoma and an objective response to PD-1 blockabode show progress in their melanomosis., is_ners_preserved=True, nli_label=False, original_claim_state=<ClaimState.TIE: 'Majority Tie'>, paraphrased_claim_state=<ClaimState.TIE: 'Majority Tie'>, attack_result=None), attack_status=<AttackStatus.UNSUCCESSFUL: 'Unsuccessful Attack'>),\n",
       " ParaphrasedAttackResult(attack=ParaphrasedClaim(iteration=0, original_claim=Example 8: 25% of patients with melanoma and an objective response to PD-1 blockade will experience a progression in their melanoma., paraphrased_claim=Example 8: 25% of patients with melanoma and an objective response to PD-1 blockage will exhibit a progression in their melanoma., original_prediction=Predictions for 8: 25% of patients with melanoma and an objective response to PD-1 blockade will experience a progression in their melanoma., paraphrased_prediction=Predictions for 8: 25% of patients with melanoma and an objective response to PD-1 blockage will exhibit a progression in their melanoma., is_ners_preserved=True, nli_label=True, original_claim_state=<ClaimState.TIE: 'Majority Tie'>, paraphrased_claim_state=<ClaimState.TIE: 'Majority Tie'>, attack_result=None), attack_status=<AttackStatus.UNSUCCESSFUL: 'Unsuccessful Attack'>)]"
      ]
     },
     "execution_count": 35,
     "metadata": {},
     "output_type": "execute_result"
    }
   ],
   "source": [
    "all_attack_results[:10]"
   ]
  },
  {
   "cell_type": "code",
   "execution_count": 60,
   "metadata": {},
   "outputs": [],
   "source": [
    "from T5ParEvo.src.paraphrase.paraphrase_claim import ClaimState\n",
    "target_state = ClaimState.SUPPORT_MAJORITY \n",
    "same_state_results = [result for result in all_attack_results if result.attack.paraphrased_claim_state == target_state]"
   ]
  },
  {
   "cell_type": "code",
   "execution_count": 61,
   "metadata": {},
   "outputs": [
    {
     "data": {
      "text/plain": [
       "41"
      ]
     },
     "execution_count": 61,
     "metadata": {},
     "output_type": "execute_result"
    }
   ],
   "source": [
    "len(same_state_results)"
   ]
  },
  {
   "cell_type": "code",
   "execution_count": null,
   "metadata": {},
   "outputs": [],
   "source": []
  },
  {
   "cell_type": "code",
   "execution_count": null,
   "metadata": {},
   "outputs": [],
   "source": []
  },
  {
   "cell_type": "code",
   "execution_count": null,
   "metadata": {},
   "outputs": [],
   "source": []
  }
 ],
 "metadata": {
  "kernelspec": {
   "display_name": "scifact",
   "language": "python",
   "name": "python3"
  },
  "language_info": {
   "codemirror_mode": {
    "name": "ipython",
    "version": 3
   },
   "file_extension": ".py",
   "mimetype": "text/x-python",
   "name": "python",
   "nbconvert_exporter": "python",
   "pygments_lexer": "ipython3",
   "version": "3.7.11"
  },
  "orig_nbformat": 4
 },
 "nbformat": 4,
 "nbformat_minor": 2
}
