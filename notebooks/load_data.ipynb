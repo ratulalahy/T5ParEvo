{
 "cells": [
  {
   "cell_type": "code",
   "execution_count": 2,
   "metadata": {},
   "outputs": [],
   "source": [
    "import os, sys\n",
    "from typing import Dict, List, Tuple, Optional\n",
    "from hydra import initialize, initialize_config_module, initialize_config_dir, compose\n",
    "from omegaconf import OmegaConf"
   ]
  },
  {
   "attachments": {},
   "cell_type": "markdown",
   "metadata": {},
   "source": [
    "## Set Project directory"
   ]
  },
  {
   "cell_type": "code",
   "execution_count": 3,
   "metadata": {},
   "outputs": [
    {
     "name": "stdout",
     "output_type": "stream",
     "text": [
      "/home/qudratealahyratu/research/nlp/fact_checking/my_work/T5ParEvo\n",
      "/home/qudratealahyratu/research/nlp/fact_checking/my_work/T5ParEvo\n"
     ]
    }
   ],
   "source": [
    "module_path = os.path.abspath(os.path.join('..'))\n",
    "if module_path not in sys.path:\n",
    "    sys.path.append(module_path)\n",
    "\n",
    "from config import SciFactT5Config\n",
    "import definitions\n",
    "sys.path.append(os.path.dirname(definitions.PROJECT_VARS.ROOT_DIR))\n",
    "print(definitions.PROJECT_VARS.ROOT_DIR)"
   ]
  },
  {
   "cell_type": "code",
   "execution_count": 5,
   "metadata": {},
   "outputs": [],
   "source": [
    "from T5ParEvo.src.data.data import Label, make_label"
   ]
  },
  {
   "attachments": {},
   "cell_type": "markdown",
   "metadata": {},
   "source": [
    "## Load dataset for Scifact"
   ]
  },
  {
   "attachments": {},
   "cell_type": "markdown",
   "metadata": {},
   "source": []
  },
  {
   "cell_type": "code",
   "execution_count": 4,
   "metadata": {},
   "outputs": [],
   "source": [
    "from verisci.covid import AbstractRetriever, RationaleSelector, LabelPredictor\n",
    "from verisci.evaluate.lib.data import GoldDataset"
   ]
  },
  {
   "cell_type": "code",
   "execution_count": 5,
   "metadata": {},
   "outputs": [],
   "source": [
    "def get_claim_label_from_jsonl(dataset_jsonl):\n",
    "    \"\"\"_summary_\n",
    "\n",
    "    Args:\n",
    "        dataset_jsonl (_type_): _description_\n",
    "\n",
    "    Returns:\n",
    "        _type_: _description_\n",
    "    \"\"\"\n",
    "    claim_label_list_train = []\n",
    "    for cur_claim in dataset_jsonl:\n",
    "        claim_txt = cur_claim.claim\n",
    "\n",
    "        for doc_id, evidence in cur_claim.evidence.items():\n",
    "\n",
    "            ev_doc = cur_claim.release.corpus.get_document(doc_id)\n",
    "\n",
    "            claim_label = evidence.label.name\n",
    "\n",
    "            tmp_dic = {\"claim\" : claim_txt, \"label\" : claim_label}\n",
    "\n",
    "            claim_label_list_train.append(tmp_dic)\n",
    "    return claim_label_list_train"
   ]
  },
  {
   "cell_type": "code",
   "execution_count": 6,
   "metadata": {},
   "outputs": [],
   "source": [
    "def get_claim_label_evidence_from_jsonl(dataset_jsonl, source):\n",
    "    \"\"\"_summary_\n",
    "\n",
    "    Args:\n",
    "        dataset_jsonl (_type_): _description_\n",
    "        source (_type_): _description_\n",
    "\n",
    "    Returns:\n",
    "        _type_: _description_\n",
    "    \"\"\"\n",
    "    claim_label_list_train = []\n",
    "    for cur_claim in dataset_jsonl:\n",
    "        claim_txt = cur_claim.claim\n",
    "        for doc_id, evidence in cur_claim.evidence.items():\n",
    "            ev_doc = claim_train.release.corpus.get_document(doc_id)\n",
    "            claim_label = evidence.label.name\n",
    "            list_rationales = []\n",
    "            for i, sents in enumerate(evidence.rationales):\n",
    "                list_rationales = [sent for i, sent in enumerate(ev_doc.sentences) if i in sents]\n",
    "            tmp_dic = {\"claim\" : claim_txt, \"label\" : claim_label, \"list_rationales\" :list_rationales, \"source\" :source}\n",
    "            claim_label_list_train.append(tmp_dic)\n",
    "    return claim_label_list_train"
   ]
  },
  {
   "cell_type": "code",
   "execution_count": 7,
   "metadata": {},
   "outputs": [],
   "source": [
    "\n",
    "cfg= SciFactT5Config()\n",
    "ds_train = GoldDataset(cfg.target_dataset.loc_target_dataset_corpus,\n",
    "                    cfg.target_dataset.loc_target_dataset_test)\n",
    "claim_train = ds_train.get_claim(39)\n",
    "\n",
    "dic_train = get_claim_label_evidence_from_jsonl(ds_train, source = \"train\")"
   ]
  },
  {
   "cell_type": "code",
   "execution_count": 8,
   "metadata": {},
   "outputs": [
    {
     "data": {
      "text/plain": [
       "{33409100: EvidenceAbstract(id=33409100, label=<Label.SUPPORTS: 2>, rationales=[[8], [12]])}"
      ]
     },
     "execution_count": 8,
     "metadata": {},
     "output_type": "execute_result"
    }
   ],
   "source": [
    "ds_train[7].evidence"
   ]
  },
  {
   "cell_type": "code",
   "execution_count": 9,
   "metadata": {},
   "outputs": [
    {
     "name": "stdout",
     "output_type": "stream",
     "text": [
      "9\n",
      "32% of liver transplantation programs required patients to discontinue methadone treatment in 2001.\n",
      "44265107\n",
      "SUPPORTS\n",
      "[[15]]\n"
     ]
    }
   ],
   "source": [
    "doc_ids = list(ds_train.claims[4].evidence.keys())\n",
    "for doc_id in doc_ids:\n",
    "    print(ds_train.claims[4].id)\n",
    "    print(ds_train.claims[4].claim)\n",
    "    print(doc_id)\n",
    "    print(ds_train.claims[4].evidence[doc_id].label.name)\n",
    "    print(ds_train.claims[4].evidence[doc_id].rationales)"
   ]
  },
  {
   "cell_type": "code",
   "execution_count": 4,
   "metadata": {},
   "outputs": [
    {
     "ename": "NameError",
     "evalue": "name 'ds_train' is not defined",
     "output_type": "error",
     "traceback": [
      "\u001b[0;31m---------------------------------------------------------------------------\u001b[0m",
      "\u001b[0;31mNameError\u001b[0m                                 Traceback (most recent call last)",
      "\u001b[0;32m<ipython-input-4-8cbcae1c4ea8>\u001b[0m in \u001b[0;36m<module>\u001b[0;34m\u001b[0m\n\u001b[1;32m      5\u001b[0m \u001b[0;34m\u001b[0m\u001b[0m\n\u001b[1;32m      6\u001b[0m \u001b[0;31m# Iterate through each claim\u001b[0m\u001b[0;34m\u001b[0m\u001b[0;34m\u001b[0m\u001b[0;34m\u001b[0m\u001b[0m\n\u001b[0;32m----> 7\u001b[0;31m \u001b[0;32mfor\u001b[0m \u001b[0mclaim\u001b[0m \u001b[0;32min\u001b[0m \u001b[0mds_train\u001b[0m\u001b[0;34m.\u001b[0m\u001b[0mclaims\u001b[0m\u001b[0;34m:\u001b[0m\u001b[0;34m\u001b[0m\u001b[0;34m\u001b[0m\u001b[0m\n\u001b[0m\u001b[1;32m      8\u001b[0m     \u001b[0;31m# Get all the labels for the claim\u001b[0m\u001b[0;34m\u001b[0m\u001b[0;34m\u001b[0m\u001b[0;34m\u001b[0m\u001b[0m\n\u001b[1;32m      9\u001b[0m     \u001b[0mlabels\u001b[0m \u001b[0;34m=\u001b[0m \u001b[0;34m[\u001b[0m\u001b[0mevidence\u001b[0m\u001b[0;34m.\u001b[0m\u001b[0mlabel\u001b[0m \u001b[0;32mfor\u001b[0m \u001b[0mevidence\u001b[0m \u001b[0;32min\u001b[0m \u001b[0mclaim\u001b[0m\u001b[0;34m.\u001b[0m\u001b[0mevidence\u001b[0m\u001b[0;34m.\u001b[0m\u001b[0mvalues\u001b[0m\u001b[0;34m(\u001b[0m\u001b[0;34m)\u001b[0m\u001b[0;34m]\u001b[0m\u001b[0;34m\u001b[0m\u001b[0;34m\u001b[0m\u001b[0m\n",
      "\u001b[0;31mNameError\u001b[0m: name 'ds_train' is not defined"
     ]
    }
   ],
   "source": [
    "from T5ParEvo.src.data.data import Label, make_label\n",
    "\n",
    "# Initialize the dictionary that will store unique claim texts and corresponding claim objects\n",
    "unique_claims_dict = {}\n",
    "\n",
    "# Iterate through each claim\n",
    "for claim in ds_train.claims:\n",
    "    # Get all the labels for the claim\n",
    "    labels = [evidence.label for evidence in claim.evidence.values()]\n",
    "\n",
    "    # Filter out claims with no labels or only NEI labels\n",
    "    if not labels or all(label == Label.NEI for label in labels):\n",
    "        continue\n",
    "\n",
    "    # Count the number of 'SUPPORTS' and 'REFUTES' labels\n",
    "    supports_count = labels.count(Label.SUPPORTS)\n",
    "    refutes_count = labels.count(Label.REFUTES)\n",
    "\n",
    "    # Calculate the support-to-refute or refute-to-support ratio\n",
    "    ratio = supports_count / refutes_count if refutes_count else supports_count\n",
    "\n",
    "    # If the claim text is not in our dictionary, or if the new claim has a better ratio, update the dictionary\n",
    "    if claim.claim not in unique_claims_dict or ratio > unique_claims_dict[claim.claim][1]:\n",
    "        unique_claims_dict[claim.claim] = (claim, ratio)\n",
    "\n",
    "# Get the list of unique claims from the dictionary\n",
    "unique_claims = [claim_info[0] for claim_info in unique_claims_dict.values()]"
   ]
  },
  {
   "cell_type": "code",
   "execution_count": 10,
   "metadata": {},
   "outputs": [
    {
     "data": {
      "text/plain": [
       "[Example 2: 1 in 5 million in UK have abnormal PrP positivity.,\n",
       " Example 9: 32% of liver transplantation programs required patients to discontinue methadone treatment in 2001.,\n",
       " Example 12: 40mg/day dosage of folic acid and 2mg/day dosage of vitamin B12 does not affect chronic kidney disease (CKD) progression.,\n",
       " Example 22: 76-85% of people with severe mental disorder receive no treatment in low and middle income countries.,\n",
       " Example 28: A T helper 2 cell (Th2) environment impedes disease development in patients with systemic lupus erythematosus (SLE).,\n",
       " Example 30: A breast cancer patient's capacity to metabolize tamoxifen influences treatment outcome.,\n",
       " Example 32: A country's Vaccine Alliance (GAVI) eligibility is not indictivate of accelerated adoption of the Hub vaccine.,\n",
       " Example 34: A deficiency of folate increases blood levels of homocysteine.,\n",
       " Example 39: A diminished ovarian reserve does not solely indicate infertility in an a priori non-infertile population.,\n",
       " Example 40: A diminished ovarian reserve is a very strong indicator of infertility, even in an a priori non-infertile population.,\n",
       " Example 41: A high microerythrocyte count protects against severe anemia in homozygous alpha (+)- thalassemia trait subjects.,\n",
       " Example 44: A mutation in HNF4A leads to an increased risk of developing diabetes by the age of 14 years.,\n",
       " Example 46: A single nucleotide variant the gene DGKK is strongly associated with increased risk of hypospadias.,\n",
       " Example 47: A strong bias in the phage genome locations where the spacers were derived has been observed in many CRISPR subtypes that confer the immunity to phage.,\n",
       " Example 52: ALDH1 expression is associated with poorer prognosis for breast cancer primary tumors.,\n",
       " Example 55: AMP-activated protein kinase (AMPK) activation reduces inflammation-related fibrosis in the lungs.,\n",
       " Example 58: APOE4 expression in iPSC-derived neurons results in decreased tau phosphorylation.,\n",
       " Example 60: ART has no effect on the infectiveness of HIV-positive people.,\n",
       " Example 61: ART substantially reduces infectiveness of HIV-positive people.,\n",
       " Example 67: Activated Cdk5 phosphorylates the ATM protein in response to DNA damage.,\n",
       " Example 68: Activated Cdk5 regulates DNA damage-induced neuronal death.,\n",
       " Example 69: Activation of PPM1D enhances p53 function.,\n",
       " Example 71: Activation of the Rac1 homolog CED-10 kills viable cells in SRGP-1 mutant Caenorhabditis elegans.,\n",
       " Example 76: Active Ly49Q induces neutrophil polarization.,\n",
       " Example 77: Active Ly49Q prevents neutrophil polarization.,\n",
       " Example 78: Active caspase-11 participate in regulating phagosome-lysosome fusion.,\n",
       " Example 79: Active caspase-11 protein promotes pyroptosis.,\n",
       " Example 85: Adult tissue-resident macrophages are seeded before birth.,\n",
       " Example 88: Adult tissue-resident macrophages possess a self-renewing capacity.,\n",
       " Example 93: Aggravated inflammation is dependent on NLRP3 inflammasome activation.,\n",
       " Example 98: Alirocumab treatment reduces apo(a) fractional clearance rate.,\n",
       " Example 104: Allogeneic mechanical circulatory support is not as effective as autologous mechanical circulatory support for treating acute myocardial infarction.,\n",
       " Example 105: Alteration of origin firing causes changes in termination zones of Okazaki fragments.,\n",
       " Example 106: Ambulatory blood pressure monitoring is inaccurate at diagnosing hypertension.,\n",
       " Example 108: Amitriptyline is an effective treatment for chronic tension-type headaches.,\n",
       " Example 109: An M2-like phenotype in brown adipose tissue macrophages is quickly induced by cold exposure.,\n",
       " Example 111: Androgenetic haploid mouse embryonic stem cells (ESCs) can be derived and genetically manipulated in vitro.,\n",
       " Example 112: Angiotensin converting enzyme inhibitors are associated with decreased risk for functional renal insufficiency.,\n",
       " Example 114: Anthrax spores are very difficult to dispose once they are dispersed.,\n",
       " Example 116: Anthrax spores remain deadly until affected areas are decontaminated.,\n",
       " Example 119: Antidepressants increase the severity of migraines.,\n",
       " Example 120: Antidepressants reduce the severity of migraines.,\n",
       " Example 121: Antimicrobial agents are less effective due to the pressure of antimicrobial usage.,\n",
       " Example 122: Antimicrobial agents are more effective due to the pressure of antimicrobial usage.,\n",
       " Example 123: Antiretroviral therapy increases rates of tuberculosis across a broad range of CD4 strata.,\n",
       " Example 138: Asymptomatic visual impairment screening in elderly populations leads to improved vision.,\n",
       " Example 144: Autologous transplantation of mesenchymal stem cells has better graft function than induction therapy with anti-interleukin-2 receptor antibodies.,\n",
       " Example 149: Autophagy deficiency in the liver increases vulnerability to insulin resistance.,\n",
       " Example 152: B cells go though plasmablast differentiation and antibody production by continuous expression of EBI2.,\n",
       " Example 155: BCL-2 activation antagonizes the apoptotic effects of c-Myc.,\n",
       " Example 156: BCL-2 promotes the apoptotic effects of c-Myc.,\n",
       " Example 157: BLM gene encodes RecQ-class DNA helicase.,\n",
       " Example 159: BRCA 1 mutation carriers' risk of breast and ovarian cancer depends on where the mutation is located.,\n",
       " Example 160: Bacterial meningitis can be diagnosed on the basis of positive cerebrospinal fluid (CSF) cultures.,\n",
       " Example 164: Bariatric surgery increases rates of colorectal cancer.,\n",
       " Example 165: Bariatric surgery increases rates of postmenopausal breast cancer.,\n",
       " Example 166: Bariatric surgery leads to negative outcomes in mental health.,\n",
       " Example 167: Bariatric surgery leads to positive outcomes in mental health.,\n",
       " Example 168: Bariatric surgery reduces colorectal cancer.,\n",
       " Example 169: Bariatric surgery reduces postmenopausal breast cancer.,\n",
       " Example 172: Basophils promote disease development in patients with systemic lupus erythematosus (SLE).,\n",
       " Example 177: Binding of p53 to enhancer regions (p53BERs) regulates the activity of p53 transcription and cell cycle arrest through the production of p53-dependent eRNAs.,\n",
       " Example 178: Birth-weight is negatively associated with breast cancer.,\n",
       " Example 181: Blocking the interaction between TDP-43 and respiratory complex I proteins ND3 and ND6 prevents TDP-43-induced neuronal loss.,\n",
       " Example 184: Bone marrow cells don't contribute to adult macrophage compartments.,\n",
       " Example 189: Broadly HIV-1 Neutralizing Antibodies (bnAb) 10EB have no affinity for phospholipids.,\n",
       " Example 196: C2 works synergistically with A-769662 to activate dephosphorylated AMPK.,\n",
       " Example 197: CCL19 is a ligand for CCR7.,\n",
       " Example 200: CD28 initiates tonic signaling in conventional T cells, which causes an exhaustion phenotype and limited efficiency.,\n",
       " Example 201: CD28 signals regulate trafficking of murine auto-reactive T cells into target tissues.,\n",
       " Example 203: CD44v6 is not associated with constitutive and reprogrammed cancer stem cells driving cancer metastasis.,\n",
       " Example 210: COPI coatmer is involved in lipid homeostasis.,\n",
       " Example 220: Ca2+ cycling controls whole-body energy homeostasis in beige fat.,\n",
       " Example 221: Ca2+ cycling is a UCP1-dependent thermogenic mechanism.,\n",
       " Example 222: Ca2+ cycling is a UCP1-independent thermogenic mechanism.,\n",
       " Example 223: Cancer cells can stimulate the accumulation of intra-tumoural myeloid-derived suppressor cells by promoting granulocyte colony stimulating factor production.,\n",
       " Example 227: Cancers that initially benefit from epidermal growth factor receptor targeted therapies later become refractory through several mechanisms.,\n",
       " Example 228: Cardiac tissue-resident macrophages directly contribute to electrical activity.,\n",
       " Example 235: Cell autonomous sex determination in somatic cells occurs in Galliformes.,\n",
       " Example 241: Cellular clocks are associated with mitosis timing in NIH 3T3 cells.,\n",
       " Example 242: Cellular clocks are not predictive of mitosis timing in NIH 3T3 cells.,\n",
       " Example 243: Cellular differentiation of embryonic stem cells is accompanied by changes in replication timing, transcription and nuclear localization.,\n",
       " Example 245: Charcoal is an effective treatment for acute paraquat poisoning.,\n",
       " Example 246: Charcoal shows no benefit for acute paraquat poisoning.,\n",
       " Example 250: Chenodeoxycholic acid treatment decreases brown adipose tissue activity.,\n",
       " Example 251: Chenodeoxycholic acid treatment increases brown adipose tissue activity.,\n",
       " Example 256: Chlamydia trachomatis is most prevalent in the UK among sexually-experienced individuals aged 16 to 24.,\n",
       " Example 258: Cholesterol loading induces KLF4 expression in VSMCs, resulting in the expression of pro-inflammatory cytokines.,\n",
       " Example 263: Citrullinated proteins externalized in neutrophil extracellular traps act indirectly to disrupt the inflammatory cycle.,\n",
       " Example 264: Citrullinated proteins externalized in neutrophil extracellular traps act indirectly to perpetuate the inflammatory cycle via induction of autoantibodies.,\n",
       " Example 265: Clathrin stabilizes the spindle fiber apparatus during mitosis.,\n",
       " Example 266: Cnn1 recruitment varies with cell cycle timing.,\n",
       " Example 267: Cognitive behavioral therapy is an ineffective treatment for insomnia,\n",
       " Example 272: Combination nicotine replacement therapies with varenicline or bupropion are more effective after 12 weeks of reatment compared to varenicline monotherapy.,\n",
       " Example 277: Commelina yellow mottle virus (ComYMV) has three typical badnavirus ORFs, capable of encoding proteins 23, 15, and 216 kD.,\n",
       " Example 278: Commelina yellow mottle virus' (ComYMV) genome consists of 2140 baise pairs.,\n",
       " Example 280: Comparative transcriptome analysis identified new platelet proteins with structural features suggesting a role in platelet function.,\n",
       " Example 283: Consumption of whole fruits increases the risk of type 2 diabetes.,\n",
       " Example 286: Converting apoE4 to apoE3 by gene editing prevents the pathology associated with apoE4 in human iPSCderived neurons.,\n",
       " Example 287: Converting apoE4 to apoE3 by gene editing worsens the pathology associated with apoE4 in human iPSCderived neurons.,\n",
       " Example 290: Cost effectiveness evaluations based on cRCT data accurately reflect prices for patients in actual clinical practice.,\n",
       " Example 292: Cost effectiveness evaluations based on cRCT data lack external validity.,\n",
       " Example 296: Cyclin A2 destruction is necessary to switch from unstable to stable kt-mt attachments in mitosis.,\n",
       " Example 299: Cytochrome c is transferred from cytosol to the mitochondrial intermembrane space during apoptosis.,\n",
       " Example 305: DRD1 proteins enable Pol V transcription in vivo.,\n",
       " Example 306: DUSP4 decreases apoptosis.,\n",
       " Example 308: DUSP4 downregulation deactivates the Ras-ERK pathway,\n",
       " Example 309: DUSP4 increases apoptosis.,\n",
       " Example 317: Decreased diastolic blood pressure (DBP) is associated with abdominal aortic aneurysm.,\n",
       " Example 330: Deltex has no known interactions with eIF3f.,\n",
       " Example 331: Deltex interacts with eIF3. There is no known interaction between Deltex and elF3,\n",
       " Example 332: Depletion of T-helper 17 (Th17) cells during simian immunodeficiency virus (SIV) infection decreases dissemination of Salmonella Typhimurium from the gut.,\n",
       " Example 333: Depletion of T-helper 17 (Th17) cells during simian immunodeficiency virus (SIV) infection increases dissemination of Salmonella Typhimurium from the gut.,\n",
       " Example 334: Depletion of nitric oxide is responsible for vasospasm.,\n",
       " Example 335: Deregulation of HAND2 is a crucial step in endometrial carcinogenesis in mice.,\n",
       " Example 339: Dexamethasone increases risk of postoperative bleeding.,\n",
       " Example 340: Diabetes remission occurs less in people treated with conventional therapy than in people treated with laparoscopic adjustable gastric banding surgery.,\n",
       " Example 341: Diabetes remission occurs more in people treated with conventional therapy than in people treated with laparoscopic adjustable gastric banding surgery.,\n",
       " Example 342: Diabetic patients with acute coronary syndrome experience decreased short-term and long-term risk for bleeding events.,\n",
       " Example 346: Differentiation of progenitor cells to myeloid cells is skewed upon activation of insulin signaling.,\n",
       " Example 347: Differentiation of progenitor cells to myeloid cells is skewed when insulin signaling is suppressed.,\n",
       " Example 349: Diminished ovarian reserve is a reliable indicator of infertility in a non-infertile population.,\n",
       " Example 355: Drosophila supracellular actomyosin structures are found at boundaries in wing imaginal discs.,\n",
       " Example 356: Dscam1 acts as a hypervariable pattern-recognition receptor for the immune system.,\n",
       " Example 366: ERAP1 SNPs are epistatic to HLA alleles for ankylosing spondylitis.,\n",
       " Example 367: Early patent ductus ateriosus (PDA) screening decreases in-hospital mortality.,\n",
       " Example 368: Early patent ductus ateriosus (PDA) screening increases in-hospital mortality.,\n",
       " Example 369: Ectopic expression of Sall4, Nanog, Esrrb, and Lin28 generates induced pluripotent stem cells from mouse embryonic fibroblasts more efficiently than other factor combinations.,\n",
       " Example 370: Egr2 regulates the homeostasis of B and T cells.,\n",
       " Example 371: Egr3 regulates the homeostasis of B and T cells.,\n",
       " Example 372: Eilat virus (EILV) produced in mosquitos elicits rapid and long-lasting neutralizing antibodies in nonhuman primates.,\n",
       " Example 375: Elevated cell-free mitochondrial DNA levels are associated with mortality.,\n",
       " Example 378: Energy balance requires hypothalamic glutamate neurotransmission.,\n",
       " Example 379: Enhanced early production of inflammatory chemokines damages viral control in the lung.,\n",
       " Example 381: Environmental factors can influence the development of breast cancer.,\n",
       " Example 382: Environmentally-induced senescence is mimicked in disease modeling by adding specific molecules to the culture system.,\n",
       " Example 394: Excess gestational weight gain is associated with obesity-related pregnancy outcomes.,\n",
       " Example 396: Exercise increases cancer mortality rates among Chinese citizens.,\n",
       " Example 397: Exercise reduces cancer mortality rates among Chinese citizens.,\n",
       " Example 400: Exposure to fine particulate air pollution is unrelated to anxiety prevalence.,\n",
       " Example 413: Female carriers of the Apolipoprotein E4 (APOE4) allele have decreased risk for dementia.,\n",
       " Example 414: Female carriers of the Apolipoprotein E4 (APOE4) allele have increased risk for Alzheimer's disease.,\n",
       " Example 416: Female carriers of the Apolipoprotein E4 (APOE4) allele have longer lifetime exposure to estrogen due to an increased reproductive period.,\n",
       " Example 417: Female carriers of the Apolipoprotein E4 (APOE4) allele have shorter lifetime exposure to estrogen due to a decreased reproductive period.,\n",
       " Example 420: Fibroblast growth factor 21 protects against atherosclerosis by modulating adiponectin and SREBP2 levels.,\n",
       " Example 426: Forkhead 0 (fox0) transcription factors are involved in apoptosis.,\n",
       " Example 428: Forkhead 0 (fox0) transcription factors are involved in cellular differentiation.,\n",
       " Example 430: FoxO3a activation in neuronal death is inhibited by reactive oxygen species (ROS).,\n",
       " Example 432: Foxk2 regulates autophagy genes in muscle cells and fibroblast cells.,\n",
       " Example 441: G-CSF increases the expansion and infiltration of MDSCs into tumors.,\n",
       " Example 444: GATA3 regulates cell cycle progression in bone marrow hematopoietic stem cells.,\n",
       " Example 445: GATA3 regulates self-renewal capacity in bone marrow hematopoietic stem cells.,\n",
       " Example 447: Gastric infection with Helicobacter pylori decreases risk of gastric cancer in humans.,\n",
       " Example 448: Gastric infection with Helicobacter pylori increases risk of gastric cancer in humans.,\n",
       " Example 453: General exercise therapy is more effective than rotator cuff exercises in reducing pain and improving function of the shoulder.,\n",
       " Example 454: General exercise therapy is more effective than scapular stabilizer exercises in reducing pain and improving function of the shoulder.,\n",
       " Example 455: Genes involved in pre-mRNA splicing have a significant impact on genome stability.,\n",
       " Example 458: Genetic deficiency of mast cells leads to decreased weight gain in a mouse model of diet-induced obesity.,\n",
       " Example 461: Genetic deletion of JAM-A increases gut permeability.,\n",
       " Example 463: Genomic aberrations of metastases provide information for targeted therapy.,\n",
       " Example 466: Genomic sequences involved in alternative splicing responsible for Hutchinson-Gilford progeria syndrome (HGPS) are abundant in the ''progerinonly'' allele of Lmna knock-in models.,\n",
       " Example 469: Glial calcium waves influence seizures.,\n",
       " Example 470: Glioblastoma multiforme (GBM) is characterized by extensive invasion, rapid growth, necrosis, and angiogenesis.,\n",
       " Example 479: Gpr124 increases BBB breakdown in mouse models of ischemic stroke.,\n",
       " Example 480: Gpr124 suppresses BBB breakdown in mouse models of ischemic stroke.,\n",
       " Example 482: Guanine nucleotide exchange factors (GEFs) mediate RhoA activation in response to tensional forces on fibronectin-binding integrins.,\n",
       " Example 483: H.pylori-mediated gastric cancer occurs due to the accumulation of mutations in host epithelial cells.,\n",
       " Example 488: HAND2 methylation is a key step in early endometrial carcinogenesis.,\n",
       " Example 495: Having a main partner improves HIV outcomes.,\n",
       " Example 498: Having a main partner worsens HIV outcomes.,\n",
       " Example 499: HbA1c consistently overestimates glycemic control in black individuals with Sickle cell trait (SCT).,\n",
       " Example 500: Headaches are correlated with cognitive impairment.,\n",
       " Example 504: Healthy volunteers exhibit rapid and transient increase of cellular ATP after being bolus-injected with fructose.,\n",
       " Example 505: Helicobacter pylori-induced aberrant NF-kB-dependent expression of activation-induced cytidine deaminase contributes to the mutagenesis of host DNA.,\n",
       " Example 506: Helminths interfere with immune system control of coinfections by microbial pathogens 16.,\n",
       " Example 515: High levels of CRP lead to a higher risk of exacerbations in chronic obstructive pulmonary disease (COPD).,\n",
       " Example 523: Higher plasma levels of I-carnitine, when associated with trimethylamine N-oxide, are negatively correlated with cardiovascular events in humans.,\n",
       " Example 524: Higher plasma levels of I-carnitine, when associated with trimethylamine N-oxide, are positively correlated with cardiovascular events in humans.,\n",
       " Example 529: Human embryonic stem cells give rise to cell types from all three embryonic germ layers.,\n",
       " Example 530: Human embryonic stem cells give rise to cell types from the outer embryonic germ layer, but not the other two layers.,\n",
       " Example 531: Human embryonic stem cells have the capacity to give rise to differentiated progeny representative of all three embryonic germ layers.,\n",
       " Example 537: Hypocretin neurones suppress panicprone state in rats.,\n",
       " Example 541: Hypothalamic glutamate neurotransmission is unrelated to energy balance.,\n",
       " Example 542: IFI16 impedes STING phosphorylation and translocation, resulting in reduced activation of STING.,\n",
       " Example 547: IL-10 production by monocytes inhibits CD4 + T cell response.,\n",
       " Example 548: IL-6 signaling plays a major role in atherosclerotic cardiovascular disease.,\n",
       " Example 553: IgA plasma cells that are specific for transglutaminase 2 are scarce in the duodenal mucosa of celiac disease patients when the disease is active.,\n",
       " Example 559: Immune responses in immune cells are geographically segregated.,\n",
       " Example 562: Improvements in OER catalysts show stable activity over several hundred hours.,\n",
       " Example 563: In British Men, haplogroup I decreases risk of cardiovascular disease.,\n",
       " Example 564: In British Men, haplogroup I increases risk of cardiovascular disease by 50%.,\n",
       " Example 565: In S. cerevisiae, the absence of RNA surveillance pathways causes sensitivity to high iron conditions.,\n",
       " Example 566: In S. cerevisiae, the absence of RNA surveillance pathways reduces sensitivity to high iron conditions.,\n",
       " Example 568: In a naive state, blocking Wingless-Int-1 secretion from mouse embryonic stem cells inhibits self-renewal of the mouse embryonic stem cells.,\n",
       " Example 570: In breast cancer, the loss of myoepithelial cells promotes the transition of ductal carcinoma in situ to invasive carcinoma.,\n",
       " Example 571: In breast cancer, the loss of myoepithelial cells slows the transition of ductal carcinoma in situ to invasive carcinoma.,\n",
       " Example 576: In melanoma, anti-CTLA-4 treatment reinvigorates exhausted PD-1+Eomes+CD8 T cells.,\n",
       " Example 579: In patients with congenital heart defects, β-blockers significantly improve clinical heart failure outcomes.,\n",
       " Example 580: In pediatric tissue, most T cells are naive T cell emigrants from the thymus.,\n",
       " Example 584: In rhesus macaques, daily subcutaneous injections of tenofovir protects against rectally transmitted simian-human immunodeficiency virus.,\n",
       " Example 590: In young and middle-aged adults, current or remote uses of ADHD medications increase the risk of serious cardiovascular events.,\n",
       " Example 591: Incidence of 10/66 dementia is higher than the incidence of DSM-IV dementia.,\n",
       " Example 592: Incidence of 10/66 dementia is lower than the incidence of DSM-IV dementia.,\n",
       " Example 594: Incidence of heart failure increased by 10% in women since 1979.,\n",
       " Example 595: Incidence of sepsis has fallen substantially from 2009 to 2014.,\n",
       " Example 600: Including pharmacists in rounding teams does not alter the incidence of adverse drug events (ADEs).,\n",
       " Example 601: Including pharmacists in rounding teams reduces the incidence of adverse drug events (ADEs).,\n",
       " Example 603: Increased LDL receptors plays a role in the reduction of plasma Lp(a).,\n",
       " Example 607: Increased diastolic blood pressure (DBP) is associated with abdominal aortic aneurysm.,\n",
       " Example 612: Increased microtubule acetylation exacerbates LRRK2 Roc-COR domain mutation induced locomotor deficits.,\n",
       " Example 614: Increased microtubule acetylation repairs interference of axonal transport caused by LRRK2 Roc-COR domain mutations.,\n",
       " Example 615: Increased microtubule acetylation worsens interference of axonal transport caused by LRRK2 Roc-COR domain mutations.,\n",
       " Example 621: Individuals with Alzheimers who participate in six months of physical activity improve cognitive function for up to 18 months.,\n",
       " Example 624: Induced hepatic stem cells possess the potential to differentiate into cholangiocytic cells.,\n",
       " Example 625: Induced hepatic stem cells possess the potential to differentiate into hepatocytic cells.,\n",
       " Example 626: Induction of urokinase receptor signaling in podocytes causes foot process effacement and proteinuria.,\n",
       " Example 631: Inhibiting HDAC6 increases survival of mice with ARID1A mutated tumors.,\n",
       " Example 632: Inhibiting focal adhesion formation enables cells to convert mechanical strain into eventual scarring.,\n",
       " Example 633: Inhibiting focal adhesion formation increases the rate at which cells convert mechanical strain into inflammation and fibrosis.,\n",
       " Example 635: Inhibiting glucose-6-phospate dehydrogenase improves lipogenesis by deactivating LKB1-AMPK signaling.,\n",
       " Example 640: Inside the body, falciparum parasites reproduce asexually.,\n",
       " Example 643: Insulin effects appetite via ventral tegmental neurons.,\n",
       " Example 645: Intake of folic acid (FA) and vitamin B6 (VB6) increases levels of homocysteine.,\n",
       " Example 646: Intake of folic acid (FA) and vitamin B6 (VB6) reduces levels of homocysteine.,\n",
       " Example 647: Integrated care is ineffective at tackling multiple comorbidities.,\n",
       " Example 648: Integrated care is successful at tackling multiple comorbidities.,\n",
       " Example 653: Interleukin-18 plays an important role in the pathogenesis of atherosclerosis.,\n",
       " Example 657: Intramembrane cleavage by signal peptide peptidase aids in the degradation of proteins with a complex membrane orientation.,\n",
       " Example 661: JMJD6 catalyzes the hydroxylation of C-terminal lysine and supresses transcriptional activity.,\n",
       " Example 662: JMJD6 slows the hydroxylation of C-terminal lysine,\n",
       " Example 663: KLF4 is necessary for VSMCs to gain genetic characteristics of other cell types within atherosclerotic lesions.,\n",
       " Example 665: KRT17 modulates the expression of the transcriptional regulator AIRE in diseased epithelia.,\n",
       " Example 666: Kir7.1 modulates channel activity by the G protein-coupled melanocortin-4 receptor (MC4R) in the paraventricular nucleus of the hypothalamus.,\n",
       " Example 667: Klf2 is important for proper myeloid cell function.,\n",
       " Example 668: Klf4 is important for proper myeloid cell differentiation.,\n",
       " Example 669: Klf4 is not required for proper myeloid cell differentiation.,\n",
       " Example 670: Knockout proximal tubule-specific deletion of the BMP receptor Alk3 causes epithelial damage.,\n",
       " Example 671: Knockout proximal tubule-specific deletion of the BMP receptor Alk3 causes fibrosis.,\n",
       " Example 673: LDL cholesterol has a causal role in the development of cardiovascular disease.,\n",
       " Example 680: Lack of FGF21 in mice increases life expectancy.,\n",
       " Example 681: Lack of FGF21 in mice leads to atherosclerotic plaque formation.,\n",
       " Example 682: Lack of FGF21 in mice leads to reduced lifespan.,\n",
       " Example 683: Lack of FGF21 in mice slows the rate of atherosclerotic plaque formation.,\n",
       " Example 694: Lice attenuated SIV vaccines induce a stronger antigen-specific T cell response in lymph node cells.,\n",
       " Example 709: Long chain polyunsaturated fatty acids supplementation is associated with lower rates of atopic eczema at 1 year.,\n",
       " Example 717: Low nucleosome occupancy correlates with high methylation levels across species.,\n",
       " Example 724: Ly49Q directs the organization of neutrophil polarization by regulating membrane raft functions.,\n",
       " Example 726: Ly6C hi monocytes have a higher inflammatory capacity than Ly6C lo monocytes.,\n",
       " Example 734: MEK inhibitors are effective treatments in RAS-driven mouse models of cancer.,\n",
       " Example 736: MFGE8 regulates fat absorption by binding to av-Beta3 and av-Beta5 integrins.,\n",
       " Example 737: MICAL redox enzymes regulate actin dynamics in many cell types.,\n",
       " Example 738: MICAL redox enzymes regulate actin dynamics.,\n",
       " Example 740: MUC1-C activates the NF-κB p65 signaling pathway by interacting with IκB kinase ß.,\n",
       " Example 745: MafA phosphorylation decreases its ubiquitination.,\n",
       " Example 746: MafA phosphorylation enhances its ubiquitination.,\n",
       " Example 747: MafA ubiquitination decreases the recruitment of coavtivator P/CAF by MafA.,\n",
       " Example 748: MafA ubiquitination increases the recruitment of coavtivator P/CAF by MafA.,\n",
       " Example 749: Major antigen-induced signals from the T cell receptor and secondary signals from costimulatory receptors are required for T cell activation.,\n",
       " Example 751: Major vault protein (MVP) leads to more aggressive tumors by regulating the sorting of tumor suppressive miR-193a into extracellular vesicles (EVs).,\n",
       " Example 752: Major vault protein regulates sorting of tumor suppressive miR-193a into EVs.,\n",
       " Example 760: Mathematical models predict that using Artemisinin-based combination therapy over nongametocytocidal drugs have only a modest impact in reducing malaria transmission.,\n",
       " Example 764: Medications to treat obesity are highly effective.,\n",
       " Example 765: Medications to treat obesity do not have side effects.,\n",
       " Example 766: Medications to treat obesity have unwanted side effects.,\n",
       " Example 767: Men are more susceptible to death due to pneumonia when compared to women.,\n",
       " Example 771: Metastatic colorectal cancer treated with a single agent fluoropyrimidines resulted in similar efficacy and better quality of life when compared with oxaliplatin-based chemotherapy in elderly patients.,\n",
       " Example 772: Mice are incapable of producing neutralizing antibodies in reponse to the Chikungunya virus (CHIKV) produced in mosquitos.,\n",
       " Example 778: Mice lacking Sirt1 in Sf1-expressing neurons are immune to diet-induced obesity and insulin resistance.,\n",
       " Example 779: Mice lacking Sirt1 in Sf1-expressing neurons have increased susceptibility to diet-induced obesity and insulin resistance.,\n",
       " Example 780: Mice that lack Interferon-γ or its receptor are highly susceptible to experimental autoimmune myocarditis.,\n",
       " Example 782: Mice without IFN-γ or its receptor are highly susceptible to EAM induced with α-MyHC/CFA.,\n",
       " Example 787: Microcin J25 encourages nucleoside triphosphate (NTP) binding.,\n",
       " Example 788: Microcin J25 inhibits nucleoside triphosphate (NTP) binding.,\n",
       " Example 789: Microglia are an innate immune cell type of the central nervous system.,\n",
       " Example 790: Microglia are an innate immune cell type of the peripheral nervous system.,\n",
       " Example 791: Migraine with aura is associated with ischemic stroke.,\n",
       " Example 792: Misunderstandings between doctors and patients can lead to non-adherence.,\n",
       " Example 795: Mitochondria play a major role in apoptosis.,\n",
       " Example 797: Mitochondria play a major role in energy production.,\n",
       " Example 798: Mitochondria play a trivial role in calcium homeostasis.,\n",
       " Example 801: Monoclonal antibody targeting of N-cadherin encourages castration resistance.,\n",
       " Example 802: Monoclonal antibody targeting of N-cadherin encourages metastasis.,\n",
       " Example 803: Monoclonal antibody targeting of N-cadherin inhibits castration resistance.,\n",
       " Example 804: Monoclonal antibody targeting of N-cadherin inhibits growth.,\n",
       " Example 807: Most termination events in Okazaki fragments are dictated by initiation patterns.,\n",
       " Example 810: Mouse models can be generated using \"artificial spermatids.\",\n",
       " Example 812: Mutant mice lacking SVCT2 have severely reduced ascorbic acid levels in both brain and adrenals.,\n",
       " Example 815: Mutations in RIM1 decrease levels of IME1 RNA.,\n",
       " Example 816: Mutations in RIM1 raise levels of IME1 RNA.,\n",
       " Example 818: Myelin sheaths play a role in action potential propagation.,\n",
       " Example 822: N348I mutations cause resistance to nevirapine.,\n",
       " Example 825: N348I mutations reduce resistance to nevirapine.,\n",
       " Example 835: NR5A2 does not play a role in development of endometrial tissues.,\n",
       " Example 840: Natriuretic peptides increase susceptibility to diabetes.,\n",
       " Example 841: Natriuretic peptides protect against diabetes.,\n",
       " Example 844: Neutrophil extracellular trap (NET) antigens may contain the targeted autoantigens PR3 and MPO.,\n",
       " Example 846: Neutrophils produce IL-1β in response to large particles.,\n",
       " Example 853: Nonhuman primates are incapable of producing neutralizing antibodies in reponse to the Eilat virus (EILV) produced in mosquitos.,\n",
       " Example 854: Nonhypertensive people who are 55 years old have a 90% chance of developing hypertension during their lifetime.,\n",
       " Example 855: Noninvasive positive pressure ventilation is not predictive of acute respiratory failure after solid organ transplantation.,\n",
       " Example 856: Nonsteroidal antinflammatory drugs are ineffective as cancer treatments.,\n",
       " Example 857: Nonsteroidal antinflammatory drugs show potential anticancer indications.,\n",
       " Example 858: Normal expression of RUNX1 causes tumorsupressing effects.,\n",
       " Example 860: Normal granulomas form in the absence of TNF in Zebrafish.,\n",
       " Example 861: Normal granulomas form in the presence of TNF in Zebrafish.,\n",
       " Example 863: Notch signaling occurs between tumor cells and stromal cells.,\n",
       " Example 867: Oat tolerant coeliac patients may have oat specific inflammatory cells in their small bowel mucosa.,\n",
       " Example 881: Omnivores produce less trimethylamine N-oxide from dietary I-carnitine than vegans.,\n",
       " Example 883: Omnivores produce more trimethylamine N-oxide from dietary I-carnitine than vegans.,\n",
       " Example 884: Omnivores produce more trimethylamine N-oxide from dietary I-carnitine than vegetarians.,\n",
       " Example 885: One in five surgical randomized controlled trials are discontinued early.,\n",
       " Example 886: One in two surgical randomized controlled trials are discontinued early.,\n",
       " Example 893: Osteocytes have an essential role in G-CSF induced HSPC mobilization.,\n",
       " Example 901: PCSK9 inhibitors decrease plasma Lp(a) levels.,\n",
       " Example 902: PD-1 triggering on monocytes enhances IL-10 production by monocytes.,\n",
       " Example 909: PKG-la does not have a large impact on expression of pain hypersensitivity in PGK-la knockout mice.,\n",
       " Example 910: PKG-la does not have a large impact on expression of spinal long term potentiation in PGK-la knockout mice.,\n",
       " Example 912: PKG-la plays an essential role in expression of spinal long term potentiation in PGK-la knockout mice.,\n",
       " Example 917: PTEN is a regulator for the transcriptional activity of SRF,\n",
       " Example 919: Participants who quit smoking reduce lung cancer risk by approximately 50%.,\n",
       " Example 923: Patients in stable partnerships have a slower progression from HIV to AIDS.,\n",
       " Example 925: Patients in stable partnerships progress from HIV to death at the same rate as patients not in partnerships.,\n",
       " Example 926: Patients with common epithelial cancers  are more likely to have an emergency event as their first hospital admission if they live in resource-deprived areas.,\n",
       " Example 927: Patients with common epithelial cancers are less likely to have an emergency event as their first hospital admission if they live in resource-deprived areas.,\n",
       " Example 928: Patients with microcytosis and higher erythrocyte count are more vulnerable to severe malarial anaemia when infected with Plasmodium falciparum.,\n",
       " Example 929: Patients with microcytosis and higher erythrocyte count were more resistant to severe malarial anaemia when infected with Plasmodium falciparum.,\n",
       " Example 930: Patients with panic anxiety show decreased CSF levels of hypocretin.,\n",
       " Example 933: Pediatric SCD patients with vaso-occlusive crisis show increased morphine use after breathing 80 ppm iNO for 4 hours.,\n",
       " Example 935: Peroxynitrite is required for induction of T cell tolerance.,\n",
       " Example 940: Pharmacist attendance at ward rounds increases adverse events in wards.,\n",
       " Example 941: Pharmacist attendance at ward rounds reduces adverse events in wards.,\n",
       " Example 942: Phase information is useful for predicting donor-recipient matches in organ transplantation.,\n",
       " Example 944: Physical activity does not improve cognitive function in individuals with Alzheimers.,\n",
       " Example 951: Piezo1 channels are sensors for cell migration in epithelial cells.,\n",
       " Example 952: Pioglitazone use is not associated with an increased risk of prostate cancer.,\n",
       " Example 953: Pioglitazone use is significantly associated with an increased risk of pancreatic cancer.,\n",
       " Example 954: Pioglitazone use is significantly associated with an increased risk of prostate cancer.,\n",
       " Example 955: Pioneer factor OCT3/4 interacts with major chromatin remodeling factors.,\n",
       " Example 959: Polymeal nutrition increases cardiovascular mortality.,\n",
       " Example 962: Post-transcriptional handling of mitochondrial transcripts occurs in mitochondrial RNA granules.,\n",
       " Example 963: Pre-mRNAs associated with spliceosomal components are less stable than unassociated splicing substrates.,\n",
       " Example 964: Pre-mRNAs associated with spliceosomal components are more stable than unassociated splicing substrates.,\n",
       " Example 965: Prescribed exercise training improves quality of life.,\n",
       " Example 972: Primary cervical cancer screening with HPV detection has lower longitudinal sensitivity than conventional cytology to detect cervical intraepithelial neoplasia grade 2.,\n",
       " Example 973: Primary cervical cytology screening with HPV detection has higher longitudinal sensitivity to detect severe cervical intraepithelial neoplasia than conventional cytology.,\n",
       " Example 977: Pro-inflammatory cytokines are up regulated during tumor development.,\n",
       " Example 979: Progerin induces premature aging in stem cells.,\n",
       " Example 980: Propriospinal interneurons that play a role in the plastic reorganization of spinal circuits are integral for recovery from spinal cord injury.,\n",
       " Example 984: Pseudogene PTENP1 encodes a transcript that regulates PTEN expression.,\n",
       " Example 990: Pyridostatin decreases telomere fragility in BRCA2-deficient cells.,\n",
       " Example 992: Pyridostatin deregulates G2/M progression.,\n",
       " Example 994: Pyridostatin encourages proliferation of homologous recombination - defective cells.,\n",
       " Example 996: Pyridostatin induces checkpoint activation.,\n",
       " Example 997: Pyridostatin induces double-strand breaks accumulation.,\n",
       " Example 998: Pyridostatin prevents double-strand breaks accumulation.,\n",
       " Example 999: Pyridostatin reduces proliferation of homologous recombination - defective cells.,\n",
       " Example 1000: Pyridostatin stabilizes the G - quadruplex in the telomeric region.,\n",
       " Example 1003: RAD52 is involved in break-induced DNA replication (BIR).,\n",
       " Example 1004: RANK-RANKL pathway signalling has no known association with development of Aire-expressing medullary thymic epithelial cells.,\n",
       " Example 1005: RANK-RANKL pathway signalling is linked to development of Aire-expressing medullary thymic epithelial cells.,\n",
       " Example 1006: RTEL1 interacts with TRF2 through a C4C4 motif,\n",
       " Example 1009: RUNX1 is downregulated or mutated in TLX1 T-ALL.,\n",
       " Example 1011: Radioiodine treatment of non-toxic multinodular goitre increases thyroid volume.,\n",
       " Example 1015: Rapamycin delays aging in fruit flies.,\n",
       " Example 1018: Rapid phosphotransfer rates are correlated with histidine kinase regulator specificity.,\n",
       " Example 1023: Recognition of start codons depends on the translation initiation factor IF3.,\n",
       " Example 1028: Reduced responsiveness to interleukin-2 in regulatory T cells is associated with autoimmune diseases such as Type 1 Diabetes.,\n",
       " Example 1030: Reducing H3k4me3 methylation induces mouse epiblast stem cells to naive pluripotency efficiently.,\n",
       " Example 1031: Reduction of Rpl38 alters the composition of the Hox gene mRNAs translation in mice without lowering overall protein synthesis.,\n",
       " Example 1034: Removal of H3K9me3 by ectopic expression of other H3K9 demethylases decreases reprogramming efficiency in SCNT experiments.,\n",
       " Example 1035: Removal of H3K9me3 by ectopic expression of other H3K9 demethylases improves reprogramming efficiency in SCNT experiments.,\n",
       " Example 1036: Removal of H3K9me3 improves reprogramming efficiency in human somatic cell nuclear transfer experiments.,\n",
       " Example 1040: Replacement of histone H2A with H2A.Z accelerates gene activation in yeasts by destabilizing +1 nucleosomes.,\n",
       " Example 1042: Repressing IL-18 has negative effects on atherosclerotic lesion composition and progression.,\n",
       " Example 1043: Retinoic acid receptor-related orphan receptor gamma (RORγ) is a therapeutic target for castration-resistant prostate cancer (CRPC),\n",
       " Example 1044: Rhythmic expression of Cry1 translates directly into a circadian regulation of cAMP signaling in gluconeogenesis.,\n",
       " Example 1045: Rhythmic expression of Cry1 translates directly into a circadian regulation of cAMP signaling in hepatic glucose metabolism.,\n",
       " Example 1048: Ribosomopathies have a high degree of cell and tissue specific pathology.,\n",
       " Example 1050: Risedronate increases risk of vertebral and non-vertebral fractures.,\n",
       " Example 1054: Risk of cardiovascular events can be cut by a third by using antihypertensive drug therapy among hemodialysis patients.,\n",
       " Example 1055: Risk-adjusted mortality rates are similar in teaching and non-teaching hospitals.,\n",
       " Example 1056: Rotator cuff exercises are more effective than general exercise therapy in reducing pain and improving function of the shoulder.,\n",
       " Example 1065: Satellite cell dysfunction is a key factor in sarcopenia development.,\n",
       " Example 1069: Scapular stabilizer exercises are more effective than general exercise therapy in reducing pain and improving function of the shoulder.,\n",
       " Example 1072: Sepsis related mortality has remained stable between 2009-2014.,\n",
       " Example 1073: Sepsis related mortality has risen from 2009 to 2014.,\n",
       " Example 1081: Side effects associated with antidepressants do not represent a mortality risk to postmenopausal women.,\n",
       " Example 1084: Side effects associated with antidepressants increases risk of stroke.,\n",
       " Example 1087: Sildenafil worsens erectile function in men who experience sexual dysfunction as a result of the use of SSRI antidepressants.,\n",
       " Example 1090: Smc5/6 engagment halts the activation of SUMO E3 ligase Mms21 by ATP-dependent remolding.,\n",
       " Example 1097: Splenomegaly is observed in knockin mouse lacking the SHP-2 MAPK pathway.,\n",
       " Example 1101: Stiff substrates encourage mesodermal differentiation by degrading beta-catenin in an integrin-dependent manner.,\n",
       " Example 1102: Stiff substrates inhibit mesodermal differentiation by degrading beta-catenin in an integrin-dependent manner.,\n",
       " Example 1103: Stroke patients with prior use of direct oral anticoagulants have a higher risk of in-hospital mortality than stroke patients with prior use of warfarin.,\n",
       " Example 1105: Students who perform poorly in the early years of medical school are at increased risk for professional misconduct later in their careers.,\n",
       " Example 1106: Students who perform poorly in the early years of medical school are less likely to commit professional misconduct later in their careers.,\n",
       " Example 1109: Suboptimal nutrition is a leading cause of premature death,\n",
       " Example 1114: Surfactin producing cells and exopolymer producing cells cooperate to generate \"Van Gogh\" bundles that have sliding abilities on specialized media.,\n",
       " Example 1115: Surgical treatment is not superior to non-surgical in treating adults with displaced fractures of the proximal humerus.,\n",
       " Example 1119: Sympathetic nerve activity is elevated throughout normal pregnancy.,\n",
       " Example 1120: Sympathetic nerve activity is reduced throughout normal pregnancy.,\n",
       " Example 1125: Systemic immunosuppressive (IS) therapy does not enhance the chance of cancer mortality in patients with inflammatory eye disease (IED),\n",
       " Example 1126: Systemic immunosuppressive (IS) therapy increases the chance of cancer mortality in patients with inflammatory eye disease (IED),\n",
       " Example 1127: Systemic lupus erythematosus is a risk factor for cardiovascular disease.,\n",
       " Example 1128: T cell receptor /CD3 microdomains are required to induce the immunologic synapse.,\n",
       " Example 1133: TMEM27 is a marker for beta cells.,\n",
       " Example 1134: TNFAIP3 is a glioblastoma tumor enhancer.,\n",
       " Example 1135: TNFAIP3 is a glioblastoma tumor suppressor.,\n",
       " Example 1136: TNFAIP3 is a tumor enhancer in glioblastoma.,\n",
       " Example 1138: TRAP+ osteoclasts regulate mature osteoblast maintenance.,\n",
       " Example 1139: Taking 400mg of α-tocopheryl acetate does not prevent prostate cancer.,\n",
       " Example 1141: Taking 400mg of α-tocopheryl acetate in combination with vitamin C reduces the risk of prostate cancer.,\n",
       " Example 1142: Taking anti-depresents is associated with a decrease in the Aβ level in the brain of experimental animals.,\n",
       " Example 1145: Taxation of sugar-sweetened beverages reduced the incidence rate of type II diabetes in India.,\n",
       " Example 1148: Ten percent (10%) of kidney cancers in the UK are attributable to excess weight.,\n",
       " Example 1153: The C-type lectin receptor (CLEC-2) rearranges the actin cytoskeleton in dendritic cells to promote efficient motility along stromal surfaces.,\n",
       " Example 1156: The DESMOND program caused substantial weight loss in most participants.,\n",
       " Example 1157: The DESMOND program demonstrates no significant impact on biochemical outcomes.,\n",
       " Example 1158: The DESMOND program demonstrates no significant impact on lifestyles outcomes.,\n",
       " Example 1159: The DESMOND program demonstrates no significant impact on weight loss.,\n",
       " Example 1162: The DdrB protein from Deinococcus radiodurans functions as a pentamer.,\n",
       " Example 1169: The M2-phenotype in brown adipose tissue macrophages increases brown adipose tissue thermogenic activity.,\n",
       " Example 1170: The NF-κB essential modulator gene induces intestinal inflammation by promoting receptor-interacting protein (RIP) kinase 1 kinase activity-mediated epithelial cell death.,\n",
       " Example 1171: The NF-κB essential modulator gene prevents intestinal inflammation by inhibiting receptor-interacting protein (RIP) kinase 1 kinase activity-mediated epithelial cell death.,\n",
       " Example 1173: The PDPN gene deactivates the C-type lectin receptor (CLEC-2).,\n",
       " Example 1176: The PRDM1 gene is a key determinant of primordial germ cells.,\n",
       " Example 1177: The PRDM1 gene, when combined with the PRDM14 gene, plays an important role during primordial germ cell specification.,\n",
       " Example 1181: The RANK-RANK-Ligand (RANKL) pathway is involved in the development of Aire-expressing medullary thymic epithelial cells (mTECs).,\n",
       " Example 1182: The Snf1 complex regulates carbon and energy metabolism in baker's yeast (Saccharomyces cerevisiae).,\n",
       " Example 1184: The US health care system can save up to $5 billion if 7% of patients waiting for kidney transplants participate in the optimized national kidney paired donation program.,\n",
       " Example 1205: The combination of physical examinations with C-reactive protein values do not improve the accuracy of radiographic verified pneumonia predictions.,\n",
       " Example 1209: The deamination of cytidine to uridine on the minus strand of viral DNA can inactivate the viral genome by inducing G-to-A mutations.,\n",
       " Example 1210: The density of cytokine receptor bearing cells affects the distance over which cytokines act.,\n",
       " Example 1211: The density of cytokine receptor bearing cells has no effect on the distance over which cytokines act.,\n",
       " Example 1220: The generation of reactive oxygen species by activated oncogenes contributes to the increased genomic instability of leukaemia cells.,\n",
       " Example 1223: The innate immune response struggles to remove small numbers of parasites.,\n",
       " Example 1224: The latent infection of myeloid cells with human cytomegalovirus induces a number of changes in gene expression.,\n",
       " Example 1227: The mean suicide rate in women is higher after miscarriage than live birth.,\n",
       " Example 1228: The mean suicide rate in women is lower after miscarriage than live birth.,\n",
       " Example 1229: The microtubule-dependent delivery and secretion of matrix metalloproteases (MMPs) is partially responsible for the disassembly of adhesion sites.,\n",
       " Example 1230: The minor G allele of FOXO3 downregulates pro-inflammatory cytokines.,\n",
       " Example 1231: The minor G allele of FOXO3 is related to less severe symptoms of Crohn's Disease.,\n",
       " Example 1234: The minor G allele of FOXO3 up-regulates IL-10.,\n",
       " Example 1237: The most prevalent adverse events to Semaglutide are cardiovascular.,\n",
       " Example 1238: The most prevalent adverse events to Semaglutide are gastrointestinal.,\n",
       " Example 1239: The myocardial cell lineage originally develops from cardiac progenitors of exclusively endodermal origin.,\n",
       " Example 1246: The one-child policy has created a hospitable environment for female infants.,\n",
       " Example 1248: The peak incidence of fractures occurs during pubertal growth spurt in early adolescents.,\n",
       " Example 1249: The peak incidence of fractures occurs in toddlers.,\n",
       " Example 1254: The proliferative capacity of neural progenitors differs across species.,\n",
       " Example 1255: The proliferative capacity of progenitors is regulated cell-autonomously.,\n",
       " Example 1258: The recruitment of Wdr5 to its target loci depends on Kat8.,\n",
       " Example 1260: The relationship between a breast cancer patient's capacity to metabolize tamoxifen and treatment outcome is independent of the patient's genetic make-up.,\n",
       " Example 1261: The removal of reactive oxygen species by activated oncogenes contributes to the increased genomic instability of leukaemia cells.,\n",
       " Example 1263: The repeat-variable diresidue (RVD) in the loop of Transcription-Activator Like (TAL) effectors specifies the nucleotides-amino acid contact at the target promoter element.,\n",
       " Example 1265: The risk of breast cancer among parous women decreases with placental weight of pregnancies.,\n",
       " Example 1268: The risk of cancer rises with level of alcohol consumption.,\n",
       " Example 1269: The risk of female prisoners harming themselves is ten times that of male prisoners.,\n",
       " Example 1276: The tissue surrounding the granuloma in an immune cell induces an anti-inflammatory immune response.,\n",
       " Example 1284: Therapeutics receiving accelerated approval encounter a lower frequency of post-marketing safety events,\n",
       " Example 1288: There is a positive correlation between hip fractures and statin use.,\n",
       " Example 1289: There is a relation between Erythromycin use and hypertrophic pyloric stenosis.,\n",
       " Example 1293: There is no increased risk of hypospadias with clomiphene.,\n",
       " Example 1294: There is no known interaction between Pioneer factor OCT3/4 and major chromatin remodeling factors.,\n",
       " Example 1295: There is no relation between Erythromycin use and hypertrophic pyloric stenosis.,\n",
       " Example 1297: There was an estimated 30 million cases of pneumonia in young children worldwide in 2010.,\n",
       " Example 1305: Tirasemtiv targets fast-twitch muscle.,\n",
       " Example 1311: Trans-acting factors, such as lncRNAs, influence mRNA translation.,\n",
       " Example 1312: Transcription factor EB induces transcription of pro-inflammatory cytokines in macrophages infected with Staphylococcus aureus.,\n",
       " Example 1322: Transplanted human glial progenitor cells can mature in their host animal.,\n",
       " Example 1323: Treatment with a protein named FN impairs regenerative abilities of aged muscles.,\n",
       " Example 1324: Treatment with a protein named FN restores regenerative abilities of aged muscles.,\n",
       " Example 1327: Tuberculosis incidence occurs at higher rates in more sparsely populated areas in the UK.,\n",
       " Example 1328: Tuberculosis-induced granulomas express different immune system protein signatures than the surrounding tissue.,\n",
       " Example 1333: Two variants of chromosome 6q21 are associated with radiation therapy-induced second malignancies in pediatric Hodgkin lymphoma patients.,\n",
       " Example 1334: Type 1 Diabetes is associated with subtle perturbations in T reg development.,\n",
       " Example 1340: Ultrasound guidance significantly reduces the number of needle insertion attempts necessary for a given procedure.,\n",
       " Example 1341: Ultrasound guidance significantly reduces the number of traumatic procedures when attempting needle insertion.,\n",
       " Example 1346: Upon developing tyrosine-kinase inhibitor resistance, new mutations in epidermal growth factor receptors emerge and cause treatment failure.,\n",
       " Example 1347: Upon viral challenge, influenza-specific memory CD4+ T cells greatly diminish the early production of inflammatory chemokines in the lung.,\n",
       " Example 1348: Upon viral challenge, influenza-specific memory CD4+ T cells greatly enhance the early production of inflammatory chemokines in the lung.,\n",
       " Example 1351: Upregulation of dynein in Drosophila neurons increases the number of microtubule plus-ends growing toward the cell body of each neuron.,\n",
       " Example 1355: V-9302 inhibits antitumor responses by decreasing cell death and oxidative stress.,\n",
       " Example 1356: Vaccinating the gastrointestinal tract induces protection of rectal and vaginal mucosa.,\n",
       " Example 1360: Varenicline monotherapy is more effective after 26 weeks of treatment compared to combination nicotine replacement therapies with varenicline or bupropion.,\n",
       " Example 1361: Varying expression levels of EBI2 affect the positioning and migration of B cells.,\n",
       " Example 1366: VgrG (Tssl) protein punctures membranes by forming a spike at the tip of the tube apparatus.,\n",
       " Example 1367: Vitamin D deficiency effects birth weight.,\n",
       " Example 1371: Vitamin D is an important factor in the relationship between calcium and parathyroid hormone.,\n",
       " Example 1372: Walking in traffic areas in London did not improve lung function in elderly adults.,\n",
       " Example 1373: Walking in traffic areas in London improves lung function in elderly adults.,\n",
       " Example 1376: Whole brain radiotherapy increases the occurrence of new brain metastases.,\n",
       " Example 1378: Women are more susceptible to death due to pneumonia when compared to men.,\n",
       " Example 1380: Women with a lower birth weight are more likely to develop breast cancer later in life.,\n",
       " Example 1381: YAP/TAZ is required in intestinal regeneration in mouse models of ulcerative colitis.,\n",
       " Example 1383: aPKCz causes tumour suppression by affecting glutamine metabolism.,\n",
       " Example 1386: cSMAC formation represses weak ligand signalling.,\n",
       " Example 1390: mcm 5 s 2 U is required for proper decoding of NNR codons in eukaryotes.,\n",
       " Example 1391: miR-142-5P is a known regulator of raised body temperature.,\n",
       " Example 1392: miR-142-5P is a temperature-sensitive microRNA (miRNA).,\n",
       " Example 1393: miRNAs enforce homeostasis by suppressing low-level ''leaky'' transcription.,\n",
       " Example 1403: siRNA knockdown of A20 accelerates tumor progression in an in vivo murine xenograft model.,\n",
       " Example 1404: siRNA knockdown of A20 slows tumor progression in an in vivo murine xenograft model.,\n",
       " Example 1406: β-sheet opening occurs during pleurotolysin pore formation.]"
      ]
     },
     "execution_count": 10,
     "metadata": {},
     "output_type": "execute_result"
    }
   ],
   "source": [
    "unique_claims"
   ]
  },
  {
   "cell_type": "code",
   "execution_count": null,
   "metadata": {},
   "outputs": [],
   "source": []
  },
  {
   "cell_type": "code",
   "execution_count": null,
   "metadata": {},
   "outputs": [],
   "source": []
  },
  {
   "cell_type": "code",
   "execution_count": 74,
   "metadata": {},
   "outputs": [
    {
     "data": {
      "text/plain": [
       "{<Label.REFUTES: 0>, <Label.SUPPORTS: 2>}"
      ]
     },
     "execution_count": 74,
     "metadata": {},
     "output_type": "execute_result"
    }
   ],
   "source": [
    "labels_set"
   ]
  },
  {
   "cell_type": "code",
   "execution_count": 8,
   "metadata": {},
   "outputs": [],
   "source": [
    "from dataclasses import dataclass, field\n",
    "from typing import Dict, List, Tuple, Optional"
   ]
  },
  {
   "cell_type": "code",
   "execution_count": 9,
   "metadata": {},
   "outputs": [],
   "source": [
    "from T5ParEvo.src.data import data as dataobj\n",
    "\n",
    "def get_datalist_from_dict_ds(data_dict : Dict):\n",
    "    \"\"\"_summary_\n",
    "\n",
    "    Args:\n",
    "        data_dict (Dict): _description_\n",
    "\n",
    "    Returns:\n",
    "        _type_: _description_\n",
    "    \"\"\"\n",
    "    counter_gold_claim = 0\n",
    "    data_list = []\n",
    "    for cur_claim in data_dict:\n",
    "        claim = dataobj.Claim(claim_text = cur_claim['claim'])\n",
    "        rationales = []\n",
    "        for cur_ratnl in cur_claim['list_rationales']:\n",
    "            rationale = dataobj.Rationale(rationale_text = cur_ratnl)\n",
    "            label_obj = dataobj.Label.get_enum_rep_label(res_str = cur_claim['label'])\n",
    "            rationales.append({'rationale': rationale, 'label': label_obj})\n",
    "        claim_org = dataobj.ClaimRationale(id_claim = str(counter_gold_claim), claim = claim, rationales = rationales)\n",
    "        data_list.append(claim_org)\n",
    "        counter_gold_claim += 1    \n",
    "    return data_list"
   ]
  },
  {
   "cell_type": "code",
   "execution_count": 12,
   "metadata": {},
   "outputs": [],
   "source": [
    "data_list_train = get_datalist_from_dict_ds(dic_train)"
   ]
  },
  {
   "cell_type": "code",
   "execution_count": 14,
   "metadata": {},
   "outputs": [
    {
     "data": {
      "text/plain": [
       "ClaimRationale(id_claim='0', claim=Claim(claim_text='1 in 5 million in UK have abnormal PrP positivity.'), rationales=[{'rationale': Rationale(rationale_text='RESULTS Of the 32,441 appendix samples 16 were positive for abnormal PrP, indicating an overall prevalence of 493 per million population (95% confidence interval 282 to 801 per million).'), 'label': <Label_enm.REFUTE: 0>}])"
      ]
     },
     "execution_count": 14,
     "metadata": {},
     "output_type": "execute_result"
    }
   ],
   "source": [
    "data_list_train[0] "
   ]
  },
  {
   "cell_type": "code",
   "execution_count": null,
   "metadata": {},
   "outputs": [],
   "source": []
  },
  {
   "cell_type": "code",
   "execution_count": null,
   "metadata": {},
   "outputs": [],
   "source": []
  },
  {
   "cell_type": "code",
   "execution_count": null,
   "metadata": {},
   "outputs": [],
   "source": []
  },
  {
   "attachments": {},
   "cell_type": "markdown",
   "metadata": {},
   "source": [
    "# Setting up experiment"
   ]
  },
  {
   "cell_type": "code",
   "execution_count": null,
   "metadata": {},
   "outputs": [],
   "source": []
  },
  {
   "cell_type": "code",
   "execution_count": null,
   "metadata": {},
   "outputs": [],
   "source": []
  },
  {
   "cell_type": "code",
   "execution_count": null,
   "metadata": {},
   "outputs": [],
   "source": []
  },
  {
   "attachments": {},
   "cell_type": "markdown",
   "metadata": {},
   "source": [
    "# Scrap"
   ]
  },
  {
   "cell_type": "code",
   "execution_count": null,
   "metadata": {},
   "outputs": [],
   "source": []
  },
  {
   "cell_type": "code",
   "execution_count": 1,
   "metadata": {},
   "outputs": [
    {
     "name": "stdout",
     "output_type": "stream",
     "text": [
      "/home/qudratealahyratu/research/nlp/fact_checking/my_work/T5ParEvo\n",
      "/home/qudratealahyratu/research/nlp/fact_checking/my_work/T5ParEvo\n",
      "/home/qudratealahyratu/research/nlp/fact_checking/my_work/T5ParEvo\n"
     ]
    },
    {
     "name": "stderr",
     "output_type": "stream",
     "text": [
      "/home/qudratealahyratu/anaconda3/envs/scifact/lib/python3.7/site-packages/pytorch_lightning/core/decorators.py:66: LightningDeprecationWarning: The `@auto_move_data` decorator is deprecated in v1.3 and will be removed in v1.5. Please use `trainer.predict` instead for inference. The decorator was applied to `predict`\n",
      "  \"The `@auto_move_data` decorator is deprecated in v1.3 and will be removed in v1.5.\"\n"
     ]
    }
   ],
   "source": [
    "import os\n",
    "import sys\n",
    "from tqdm import tqdm\n",
    "import argparse\n",
    "from pathlib import Path\n",
    "from dataclasses import dataclass\n",
    "from typing import Any, Dict, List\n",
    "import json\n",
    "#\n",
    "module_path = os.path.abspath(os.path.join('...'))\n",
    "if module_path not in sys.path:\n",
    "    sys.path.append(module_path)\n",
    "\n",
    "from config import SciFactT5Config\n",
    "import definitions\n",
    "sys.path.append(os.path.dirname(definitions.PROJECT_VARS.ROOT_DIR))\n",
    "print(definitions.PROJECT_VARS.ROOT_DIR)\n",
    "#\n",
    "\n",
    "from T5ParEvo.src.data.data import Claim, ClaimPredictions,GoldDataset\n",
    "from multivers import util\n",
    "from multivers.data_r import ClaimDataLoaderGenerator, get_dataloader, DataLoaderGenerator\n",
    "from multivers.model_r import MultiVerSModel\n",
    "\n",
    "from T5ParEvo.target_system.multivers.multivers_interface import PredictionParams, ModelPredictor"
   ]
  },
  {
   "cell_type": "code",
   "execution_count": 2,
   "metadata": {
    "notebookRunGroups": {
     "groupValue": "1"
    }
   },
   "outputs": [],
   "source": [
    "# This dataset to be used only for training\n",
    "cfg= SciFactT5Config()\n",
    "ds_train = GoldDataset(cfg.target_dataset.loc_target_dataset_corpus,\n",
    "                    cfg.target_dataset.loc_target_dataset_train)\n",
    "claim_train = ds_train.get_claim(39)\n",
    "\n"
   ]
  },
  {
   "cell_type": "code",
   "execution_count": 3,
   "metadata": {},
   "outputs": [
    {
     "name": "stderr",
     "output_type": "stream",
     "text": [
      "Some weights of the model checkpoint at allenai/longformer-large-4096 were not used when initializing LongformerModel: ['lm_head.dense.weight', 'lm_head.layer_norm.bias', 'lm_head.layer_norm.weight', 'lm_head.dense.bias', 'lm_head.bias', 'lm_head.decoder.weight']\n",
      "- This IS expected if you are initializing LongformerModel from the checkpoint of a model trained on another task or with another architecture (e.g. initializing a BertForSequenceClassification model from a BertForPreTraining model).\n",
      "- This IS NOT expected if you are initializing LongformerModel from the checkpoint of a model that you expect to be exactly identical (initializing a BertForSequenceClassification model from a BertForSequenceClassification model).\n",
      "/home/qudratealahyratu/anaconda3/envs/scifact/lib/python3.7/site-packages/deprecate/deprecation.py:115: LightningDeprecationWarning: The `Metric` was deprecated since v1.3.0 in favor of `torchmetrics.metric.Metric`. It will be removed in v1.5.0.\n",
      "  stream(template_mgs % msg_args)\n",
      " 21%|██        | 314/1500 [01:06<03:19,  5.94it/s]"
     ]
    }
   ],
   "source": [
    "\n",
    "params = PredictionParams(\n",
    "    checkpoint_path=\"/home/qudratealahyratu/research/nlp/fact_checking/my_work/multivers/checkpoints/scifact.ckpt\",\n",
    "    output_file= None,#\"prediction/pred_opt_scifact.jsonl\",\n",
    "    batch_size=3,\n",
    "    device=0,\n",
    "    num_workers=4,\n",
    "    no_nei=False,\n",
    "    force_rationale=False,\n",
    "    debug=False,\n",
    ")\n",
    "corpus_file = \"/home/qudratealahyratu/research/nlp/fact_checking/my_work/multivers/data/scifact/corpus.jsonl\"\n",
    "    \n",
    "\n",
    "gold_claims = []\n",
    "claims_path = '/home/qudratealahyratu/research/nlp/fact_checking/my_work/multivers/data/scifact/claims_test_retrived.jsonl'\n",
    "with open(claims_path, 'r') as f:\n",
    "    for line in f:\n",
    "        data = json.loads(line)\n",
    "        claim = Claim(id = data['id'], claim = data['claim'], cited_docs = data['doc_ids'], evidence = {},release = None)\n",
    "        gold_claims.append(claim)\n",
    "\n",
    "dataloader_generator = DataLoaderGenerator(params, gold_claims, corpus_file)\n",
    "dataloader = dataloader_generator.get_dataloader_by_claims()\n",
    "predictor = ModelPredictor(params, dataloader)\n",
    "prediction_formatted = predictor.run()"
   ]
  },
  {
   "cell_type": "code",
   "execution_count": null,
   "metadata": {},
   "outputs": [],
   "source": [
    "# prediction = prediction_formatted[0]  # assuming there's only one prediction\n",
    "# claim_predictions = ClaimPredictions.from_formatted_prediction(prediction, claim)\n",
    "# claim_predictions.pretty_print_simple()\n",
    "# print(claim_predictions)"
   ]
  },
  {
   "cell_type": "code",
   "execution_count": null,
   "metadata": {},
   "outputs": [],
   "source": []
  },
  {
   "cell_type": "code",
   "execution_count": null,
   "metadata": {},
   "outputs": [],
   "source": [
    "# prediction_formatted\n",
    "claim_org_predictions: List[ClaimPredictions] = []\n",
    "# format all the predictions\n",
    "for cur_prediction in prediction_formatted:\n",
    "    cur_claim = Claim.get_claim_by_id(gold_claims, cur_prediction['id'])\n",
    "    claim_predictions = ClaimPredictions.from_formatted_prediction(cur_prediction, gold_claim = cur_claim)\n",
    "    claim_org_predictions.append(claim_predictions)\n"
   ]
  },
  {
   "cell_type": "code",
   "execution_count": null,
   "metadata": {},
   "outputs": [
    {
     "name": "stdout",
     "output_type": "stream",
     "text": [
      "Claim ID: 7\n",
      "Gold Claim: Example 7: 10-20% of people with severe mental disorder receive no treatment in low and middle income countries.\n",
      "\n",
      "Predictions:\n",
      "\n",
      "Abstract ID: 6490571\n",
      "Label: SUPPORTS\n",
      "Rationale Sentences:\n",
      "- 7\n"
     ]
    }
   ],
   "source": [
    "claim_org_predictions[0].pretty_print_simple()"
   ]
  },
  {
   "cell_type": "code",
   "execution_count": null,
   "metadata": {},
   "outputs": [
    {
     "name": "stdout",
     "output_type": "stream",
     "text": [
      "8\n",
      "16\n",
      "23\n",
      "38\n",
      "65\n"
     ]
    }
   ],
   "source": [
    "for cur_claim_pred in claim_org_predictions:\n",
    "    if len(cur_claim_pred.predictions.keys()) > 1:\n",
    "        print(cur_claim_pred.gold.id)"
   ]
  },
  {
   "cell_type": "code",
   "execution_count": 19,
   "metadata": {},
   "outputs": [
    {
     "data": {
      "text/plain": [
       "[Predictions for 7: 10-20% of people with severe mental disorder receive no treatment in low and middle income countries.,\n",
       " Predictions for 8: 25% of patients with melanoma and an objective response to PD-1 blockade will experience a progression in their melanoma.,\n",
       " Predictions for 16: 50% of patients exposed to radiation have activated markers of myofibroblasts.,\n",
       " Predictions for 23: 8% of burn patients are admitted for hospitalization and further treatment after appearing at hospital emergency wards or outpatient clinics.,\n",
       " Predictions for 29: A breast cancer patient's capacity to metabolize tamoxifen has no effect on treatment outcome.,\n",
       " Predictions for 31: A country's Vaccine Alliance (GAVI) eligibility is associated with accelerated adoption of the Hub vaccine.,\n",
       " Predictions for 33: A deficiency of folate decreases blood levels of homocysteine.,\n",
       " Predictions for 38: A deficiency of vitamin B6 increases blood levels of homocysteine.,\n",
       " Predictions for 59: APOE4 expression in iPSC-derived neurons results in increased tau phosphorylation.,\n",
       " Predictions for 65: AZT given with ribavirin alleviates anemia.]"
      ]
     },
     "execution_count": 19,
     "metadata": {},
     "output_type": "execute_result"
    }
   ],
   "source": [
    "prediction_formatted\n"
   ]
  },
  {
   "cell_type": "code",
   "execution_count": 14,
   "metadata": {},
   "outputs": [],
   "source": [
    "def get_unique_claims(claims: List[Claim]):\n",
    "    unique_claims = set()\n",
    "    unique_claim_objects = []\n",
    "    for claim in claims:\n",
    "        if claim.claim not in unique_claims:\n",
    "            unique_claims.add(claim.claim)\n",
    "            unique_claim_objects.append(claim)\n",
    "    return unique_claim_objects"
   ]
  },
  {
   "cell_type": "code",
   "execution_count": 12,
   "metadata": {},
   "outputs": [
    {
     "data": {
      "text/plain": [
       "300"
      ]
     },
     "execution_count": 12,
     "metadata": {},
     "output_type": "execute_result"
    }
   ],
   "source": [
    "len(claims)"
   ]
  },
  {
   "cell_type": "code",
   "execution_count": 15,
   "metadata": {},
   "outputs": [
    {
     "data": {
      "text/plain": [
       "297"
      ]
     },
     "execution_count": 15,
     "metadata": {},
     "output_type": "execute_result"
    }
   ],
   "source": [
    "claims_unique = get_unique_claims(claims)\n",
    "len(claims_unique)"
   ]
  },
  {
   "cell_type": "code",
   "execution_count": 34,
   "metadata": {},
   "outputs": [
    {
     "name": "stdout",
     "output_type": "stream",
     "text": [
      "7\n",
      "6490571\n",
      "Label.SUPPORTS\n",
      "[7]\n"
     ]
    }
   ],
   "source": [
    "print(claim_predictions.claim_id)\n",
    "print(claim_predictions.predictions[6490571].abstract_id)\n",
    "print(claim_predictions.predictions[6490571].label)\n",
    "print(claim_predictions.predictions[6490571].rationale)"
   ]
  },
  {
   "cell_type": "code",
   "execution_count": null,
   "metadata": {},
   "outputs": [],
   "source": []
  }
 ],
 "metadata": {
  "kernelspec": {
   "display_name": "Python 3.7.11 ('scifact')",
   "language": "python",
   "name": "python3"
  },
  "language_info": {
   "codemirror_mode": {
    "name": "ipython",
    "version": 3
   },
   "file_extension": ".py",
   "mimetype": "text/x-python",
   "name": "python",
   "nbconvert_exporter": "python",
   "pygments_lexer": "ipython3",
   "version": "3.7.11"
  },
  "orig_nbformat": 4,
  "vscode": {
   "interpreter": {
    "hash": "0f28508567287f3243fa81c26f52e86f631e4a20d6b0e4ab397da90b0c5458c3"
   }
  }
 },
 "nbformat": 4,
 "nbformat_minor": 2
}
